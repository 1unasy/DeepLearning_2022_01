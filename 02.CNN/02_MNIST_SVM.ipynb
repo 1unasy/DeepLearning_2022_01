{
  "nbformat": 4,
  "nbformat_minor": 0,
  "metadata": {
    "colab": {
      "name": "02.MNIST-SVM.ipynb",
      "provenance": [],
      "collapsed_sections": []
    },
    "kernelspec": {
      "name": "python3",
      "display_name": "Python 3"
    },
    "language_info": {
      "name": "python"
    }
  },
  "cells": [
    {
      "cell_type": "markdown",
      "source": [
        "# MNIST 손글씨 - 머신러닝 SVM"
      ],
      "metadata": {
        "id": "8JwscvOUFjQC"
      }
    },
    {
      "cell_type": "code",
      "execution_count": 1,
      "metadata": {
        "id": "mEzgUudoFgB0"
      },
      "outputs": [],
      "source": [
        "import numpy as np"
      ]
    },
    {
      "cell_type": "code",
      "source": [
        "from tensorflow.keras.datasets import mnist\n",
        "(X_train, y_train), (X_test, y_test) = mnist.load_data()"
      ],
      "metadata": {
        "id": "X_giIkcxFwxU"
      },
      "execution_count": 2,
      "outputs": []
    },
    {
      "cell_type": "code",
      "source": [
        "# X data 전처리 (차원 변경, 정규화)\n",
        "X_train = X_train.reshape(-1, 784) / 255.\n",
        "X_test = X_test.reshape(-1, 784) / 255."
      ],
      "metadata": {
        "id": "8zcZNyfIF-jE"
      },
      "execution_count": 3,
      "outputs": []
    },
    {
      "cell_type": "markdown",
      "source": [
        "### SVM, GridSearchCV"
      ],
      "metadata": {
        "id": "a-1ZAqRlGeaW"
      }
    },
    {
      "cell_type": "code",
      "source": [
        "from sklearn.svm import SVC\n",
        "from sklearn.model_selection import GridSearchCV"
      ],
      "metadata": {
        "id": "Hn74TCuoGWn1"
      },
      "execution_count": 4,
      "outputs": []
    },
    {
      "cell_type": "code",
      "source": [
        "params = {'C':[0.1, 1, 5, 10]}\n",
        "svc = SVC(random_state=2022)    # y값 one-hot encoding 할 필요 없음"
      ],
      "metadata": {
        "id": "hPzmq2WpGoEB"
      },
      "execution_count": 5,
      "outputs": []
    },
    {
      "cell_type": "code",
      "source": [
        "grid_svc = GridSearchCV(\n",
        "    svc, param_grid=params, scoring='accuracy', cv=3, n_jobs=-1\n",
        ")\n",
        "%time grid_svc.fit(X_train, y_train)"
      ],
      "metadata": {
        "id": "iigzrY9qG6Av",
        "colab": {
          "base_uri": "https://localhost:8080/"
        },
        "outputId": "fd45a730-e547-4794-ef6a-db3584a6b8a3"
      },
      "execution_count": 7,
      "outputs": [
        {
          "output_type": "stream",
          "name": "stdout",
          "text": [
            "CPU times: user 4min 9s, sys: 2.83 s, total: 4min 11s\n",
            "Wall time: 1h 27s\n"
          ]
        },
        {
          "output_type": "execute_result",
          "data": {
            "text/plain": [
              "GridSearchCV(cv=3, estimator=SVC(random_state=2022), n_jobs=-1,\n",
              "             param_grid={'C': [0.1, 1, 5, 10]}, scoring='accuracy')"
            ]
          },
          "metadata": {},
          "execution_count": 7
        }
      ]
    },
    {
      "cell_type": "code",
      "source": [
        "grid_svc.best_params_"
      ],
      "metadata": {
        "colab": {
          "base_uri": "https://localhost:8080/"
        },
        "id": "vD-YO2dilbpN",
        "outputId": "3ae4be9d-2479-4014-a643-326ef84d999b"
      },
      "execution_count": 8,
      "outputs": [
        {
          "output_type": "execute_result",
          "data": {
            "text/plain": [
              "{'C': 10}"
            ]
          },
          "metadata": {},
          "execution_count": 8
        }
      ]
    },
    {
      "cell_type": "code",
      "source": [
        "grid_svc.best_estimator_.score(X_test, y_test)"
      ],
      "metadata": {
        "colab": {
          "base_uri": "https://localhost:8080/"
        },
        "id": "Cwniiia7ldvt",
        "outputId": "31439ecf-b66a-441a-dca1-6553b85e4dde"
      },
      "execution_count": 9,
      "outputs": [
        {
          "output_type": "execute_result",
          "data": {
            "text/plain": [
              "0.9837"
            ]
          },
          "metadata": {},
          "execution_count": 9
        }
      ]
    },
    {
      "cell_type": "code",
      "source": [
        "import joblib\n",
        "joblib.dump(grid_svc.best_estimator_, 'best-mnist-svm.pkl')"
      ],
      "metadata": {
        "colab": {
          "base_uri": "https://localhost:8080/"
        },
        "id": "F6vzEabYmyxT",
        "outputId": "a574efa9-13a1-4c50-f4d1-cc2fa9439735"
      },
      "execution_count": 10,
      "outputs": [
        {
          "output_type": "execute_result",
          "data": {
            "text/plain": [
              "['best-mnist-svm.pkl']"
            ]
          },
          "metadata": {},
          "execution_count": 10
        }
      ]
    },
    {
      "cell_type": "code",
      "source": [
        ""
      ],
      "metadata": {
        "id": "qGJgy2qMng95"
      },
      "execution_count": null,
      "outputs": []
    }
  ]
}