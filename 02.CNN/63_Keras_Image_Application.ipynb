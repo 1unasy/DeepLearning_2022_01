{
  "nbformat": 4,
  "nbformat_minor": 0,
  "metadata": {
    "colab": {
      "name": "63.Keras_Image_Application.ipynb",
      "provenance": [],
      "collapsed_sections": []
    },
    "kernelspec": {
      "name": "python3",
      "display_name": "Python 3"
    },
    "language_info": {
      "name": "python"
    }
  },
  "cells": [
    {
      "cell_type": "markdown",
      "source": [
        "# Keras Image Application\n",
        "- VGG16\n",
        "- VGG19\n",
        "- ResNet50\n",
        "- ResNet101\n",
        "- Ensemble"
      ],
      "metadata": {
        "id": "MBXxTCpw4OJc"
      }
    },
    {
      "cell_type": "code",
      "source": [
        "from tensorflow.keras.application.vgg16 import VGG16, decode_predictions\n",
        "from tensorflow.keras.applications.vgg19 import VGG19\n",
        "from tensorflow.keras.applications.resnet50 import ResNet50\n",
        "from tensorflow.keras.applications.resnet import ResNet101\n",
        "\n",
        "import numpy as np\n",
        "import matplotlib.pyplot as plt\n",
        "from PIL import Image\n",
        "from google.colab import files"
      ],
      "metadata": {
        "id": "3t4JL1YvpvcJ"
      },
      "execution_count": null,
      "outputs": []
    },
    {
      "cell_type": "markdown",
      "source": [
        "## 파일 업로드"
      ],
      "metadata": {
        "id": "eYeOF5nWreBu"
      }
    },
    {
      "cell_type": "code",
      "source": [
        "up = files.upload()"
      ],
      "metadata": {
        "id": "u9dU7KBq5FqS"
      },
      "execution_count": null,
      "outputs": []
    },
    {
      "cell_type": "markdown",
      "source": [
        "## 이미지 전처리\n",
        "- 함수 만들기"
      ],
      "metadata": {
        "id": "zNs_P7kON1FJ"
      }
    },
    {
      "cell_type": "code",
      "source": [
        "IMAGE_SIZE = 224\n",
        "\n",
        "def center_image(img):\n",
        "    h, w, _ = np.array(img).shape\n",
        "    if h > w:\n",
        "        width, height = IMAGE_SIZE, (h * IMAGE_SIZE)//w\n",
        "    else:\n",
        "        width, height = (w * IMAGE_SIZE)//h, IMAGE_SIZE\n",
        "    new_img = np.array(img.resize((width, height)))\n",
        "    diff = abs(width - height)//2     \n",
        "    if width > height:\n",
        "        final_img = new_img[:, diff:diff+IMAGE_SIZE, :] \n",
        "    else:\n",
        "        final_img = new_img[diff:diff+IMAGE_SIZE, :, :]\n",
        "\n",
        "    return final_img"
      ],
      "metadata": {
        "id": "P6YkhLwA8x3e"
      },
      "execution_count": null,
      "outputs": []
    },
    {
      "cell_type": "markdown",
      "source": [
        "## 예측값 도출"
      ],
      "metadata": {
        "id": "9EaAgy4wr0nC"
      }
    },
    {
      "cell_type": "code",
      "source": [
        "imgs = []\n",
        "for f in up.keys():\n",
        "    name = f.split('.')[0]\n",
        "    img = center_image(Image.open(f))\n",
        "    yhat_v16 = vgg16.predict(img.reshape(-1, 224, 224, 3))\n",
        "    yhat_v19 = vgg19.predict(img.reshape(-1, 224, 224, 3))\n",
        "    yhat_r50 = res50.predict(img.reshape(-1, 224, 224, 3))\n",
        "    yhat_r101 = res101.predict(img.reshape(-1, 224, 224, 3))\n",
        "    yhat_ens = (yhat_v16 + yhat_v19 + yhat_v50 + yhat_v101) / 4.\n",
        "\n",
        "    pred_v16\n",
        "    pred_v19\n",
        "    pred_r50\n",
        "    pred_r101\n",
        "    pred_ens"
      ],
      "metadata": {
        "id": "y8yWwWIGf5Fs"
      },
      "execution_count": null,
      "outputs": []
    },
    {
      "cell_type": "markdown",
      "source": [
        "## 이미지 예측 결과 비교"
      ],
      "metadata": {
        "id": "XlBOxs0M67pA"
      }
    },
    {
      "cell_type": "code",
      "source": [
        ""
      ],
      "metadata": {
        "id": "XgLv2LJCrXy4"
      },
      "execution_count": null,
      "outputs": []
    }
  ]
}