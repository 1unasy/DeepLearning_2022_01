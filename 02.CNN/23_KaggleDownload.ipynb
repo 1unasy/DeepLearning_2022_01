{
  "nbformat": 4,
  "nbformat_minor": 0,
  "metadata": {
    "colab": {
      "name": "Kaggledownload.ipynb",
      "provenance": [],
      "collapsed_sections": []
    },
    "kernelspec": {
      "name": "python3",
      "display_name": "Python 3"
    },
    "language_info": {
      "name": "python"
    }
  },
  "cells": [
    {
      "cell_type": "markdown",
      "source": [
        "# Kaggle dataset을 Google Drive에 download\n",
        "- 실행전에 Google Drive를 mount 할 것\n",
        "- Colab에서 작업한 후 최종본을 구글 드라이브에 복사\n",
        "- Kaggle에서 'Copy API Command'를 사용하여 API Key를 발급받을 것"
      ],
      "metadata": {
        "id": "u5ZYGK3mnTU_"
      }
    },
    {
      "cell_type": "code",
      "source": [
        "from google.colab import drive\n",
        "drive.mount('/content/drive')"
      ],
      "metadata": {
        "id": "wBi0XoFDtEe5"
      },
      "execution_count": null,
      "outputs": []
    },
    {
      "cell_type": "code",
      "execution_count": null,
      "metadata": {
        "id": "3sLYD1DDnLCM"
      },
      "outputs": [],
      "source": [
        "from google.colab import files\n",
        "up = files.upload()"
      ]
    },
    {
      "cell_type": "code",
      "source": [
        "import json\n",
        "with open('kaggle.json') as f:\n",
        "    kaggle = json.load(f)\n",
        "username = kaggle['username']\n",
        "kaggle_key = kaggle['key']"
      ],
      "metadata": {
        "id": "UN8x3Uk6nlq-"
      },
      "execution_count": null,
      "outputs": []
    },
    {
      "cell_type": "code",
      "source": [
        "# Configuration environment\n",
        "import os\n",
        "\n",
        "os.environ['KAGGLE_USERNAME'] = username    # username from the json file\n",
        "os.environ['KAGGLE_KEY'] = kaggle_key       # key from the json file"
      ],
      "metadata": {
        "id": "6y63ym9RnubY"
      },
      "execution_count": null,
      "outputs": []
    },
    {
      "cell_type": "code",
      "source": [
        "!kaggle datasets download -d shaunthesheep/microsoft-catsvsdogs-dataset"
      ],
      "metadata": {
        "id": "UjpqXFkNqpML"
      },
      "execution_count": null,
      "outputs": []
    },
    {
      "cell_type": "code",
      "source": [
        "!unzip microsoft-catsvsdogs-dataset.zip > /dev/null"
      ],
      "metadata": {
        "id": "1xuqNM38nvp6"
      },
      "execution_count": null,
      "outputs": []
    },
    {
      "cell_type": "code",
      "source": [
        "cat_dir = 'PetImages/Cat'\n",
        "os.unlink(f'{cat_dir}/Thumbs.db')\n",
        "cat_list = os.listdir(cat_dir)\n",
        "len(cat_list)"
      ],
      "metadata": {
        "id": "eRdCRHm3nvnt"
      },
      "execution_count": null,
      "outputs": []
    },
    {
      "cell_type": "code",
      "source": [
        "dog_dir = 'PetImages/Dog'\n",
        "os.unlink(f'{dog_dir}/Thumbs.db')\n",
        "dog_list = os.listdir(dog_dir)\n",
        "len(dog_list)"
      ],
      "metadata": {
        "id": "crw-h60invlE"
      },
      "execution_count": null,
      "outputs": []
    },
    {
      "cell_type": "markdown",
      "source": [
        "- train, test directory로 분할\n",
        "    - 0.jpg ~ 9999.jpg --> train\n",
        "    - 10000.jpg ~ 12499.jpg --> test"
      ],
      "metadata": {
        "id": "HiyXY82nn19E"
      }
    },
    {
      "cell_type": "code",
      "source": [
        "train_dir = 'PetImages/train'\n",
        "os.mkdir(train_dir)\n",
        "os.mkdir(f'{train_dir}/cats')\n",
        "os.mkdir(f'{train_dir}/dogs')"
      ],
      "metadata": {
        "id": "ilCnhGJVnviQ"
      },
      "execution_count": null,
      "outputs": []
    },
    {
      "cell_type": "code",
      "source": [
        "test_dir = 'PetImages/test'\n",
        "os.mkdir(test_dir)\n",
        "os.mkdir(f'{test_dir}/cats')\n",
        "os.mkdir(f'{test_dir}/dogs')"
      ],
      "metadata": {
        "id": "QtheMV5Un7Oa"
      },
      "execution_count": null,
      "outputs": []
    },
    {
      "cell_type": "code",
      "source": [
        "from tqdm.notebook import tqdm\n",
        "for file in tqdm(cat_list):\n",
        "    if len(file) < 9:\n",
        "        os.rename(f'{cat_dir}/{file}', f'{train_dir}/cats/{file}')\n",
        "    else:\n",
        "        os.rename(f'{cat_dir}/{file}', f'{test_dir}/cats/{file}')"
      ],
      "metadata": {
        "id": "yzwga00sn7Lj"
      },
      "execution_count": null,
      "outputs": []
    },
    {
      "cell_type": "code",
      "source": [
        "len(os.listdir(cat_dir)), len(os.listdir(f'{train_dir}/cats')), len(os.listdir(f'{train_dir}/cats'))"
      ],
      "metadata": {
        "id": "6cHAxipTn7I4"
      },
      "execution_count": null,
      "outputs": []
    },
    {
      "cell_type": "code",
      "source": [
        "for file in tqdm(dog_list):\n",
        "    if len(file) < 9:\n",
        "        os.rename(f'{dog_dir}/{file}', f'{train_dir}/dogs/{file}')\n",
        "    else:\n",
        "        os.rename(f'{dog_dir}/{file}', f'{test_dir}/dogs/{file}')"
      ],
      "metadata": {
        "id": "AUZv8no9n7GR"
      },
      "execution_count": null,
      "outputs": []
    },
    {
      "cell_type": "code",
      "source": [
        "len(os.listdir(dog_dir)), len(os.listdir(f'{test_dir}/dogs')), len(os.listdir(f'{test_dir}/dogs'))"
      ],
      "metadata": {
        "id": "9GbaRVQ6n7Dd"
      },
      "execution_count": null,
      "outputs": []
    },
    {
      "cell_type": "code",
      "source": [
        "os.rmdir(cat_dir)\n",
        "os.rmdir(dog_dir)"
      ],
      "metadata": {
        "id": "zHXQe05Pn7Ac"
      },
      "execution_count": null,
      "outputs": []
    },
    {
      "cell_type": "markdown",
      "source": [
        "- 모든 데이터를 구글 드라이브에 복사"
      ],
      "metadata": {
        "id": "HrN5epKOoFLb"
      }
    },
    {
      "cell_type": "code",
      "source": [
        "# 아래 명령을 수행하기 전에 Google Drive에 Dataset 디렉토리를 만들 것\n",
        "!cp -r PetImages/ drive/MyDrive/Dataset"
      ],
      "metadata": {
        "id": "lbcUzS5Jn69U"
      },
      "execution_count": null,
      "outputs": []
    }
  ]
}