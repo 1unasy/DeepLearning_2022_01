{
  "nbformat": 4,
  "nbformat_minor": 0,
  "metadata": {
    "colab": {
      "name": "06_MNIST__CNN_v4.ipynb",
      "provenance": [],
      "collapsed_sections": []
    },
    "kernelspec": {
      "name": "python3",
      "display_name": "Python 3"
    },
    "language_info": {
      "name": "python"
    },
    "accelerator": "GPU"
  },
  "cells": [
    {
      "cell_type": "markdown",
      "source": [
        "# MNIST 손글씨 - CNN v4\n",
        "- 2 Conv2D layers ==> 2Conv2D with padding layers\n",
        "- 1 MaxPooling2D layer\n",
        "- 1 Dropout(0.25) layer\n",
        "- 1 Fully Connected Network layer\n",
        "- 1 Dropout(0.5) layer\n",
        "- 1 Output layer"
      ],
      "metadata": {
        "id": "TsY-db1FoSmg"
      }
    },
    {
      "cell_type": "code",
      "execution_count": null,
      "metadata": {
        "id": "jRNbxDDqoSCv"
      },
      "outputs": [],
      "source": [
        "import numpy as np\n",
        "import tensorflow as tf\n",
        "seed = 2022\n",
        "np.random.seed(seed)\n",
        "tf.random.set_seed(seed)"
      ]
    },
    {
      "cell_type": "markdown",
      "source": [
        "### 데이터 전처리"
      ],
      "metadata": {
        "id": "6xdOwhFioujB"
      }
    },
    {
      "cell_type": "code",
      "source": [
        "from tensorflow.keras.datasets import mnist\n",
        "(X_train, y_train), (X_test, y_test) = mnist.load_data()"
      ],
      "metadata": {
        "colab": {
          "base_uri": "https://localhost:8080/"
        },
        "id": "wHHsTtJiorYA",
        "outputId": "f4899e31-bde9-4079-fb98-b425fd781b03"
      },
      "execution_count": null,
      "outputs": [
        {
          "output_type": "stream",
          "name": "stdout",
          "text": [
            "Downloading data from https://storage.googleapis.com/tensorflow/tf-keras-datasets/mnist.npz\n",
            "11493376/11490434 [==============================] - 0s 0us/step\n",
            "11501568/11490434 [==============================] - 0s 0us/step\n"
          ]
        }
      ]
    },
    {
      "cell_type": "code",
      "source": [
        "# X data : 0 ~ 1 사이의 값으로 정규화 & 3차원 → 4차원\n",
        "X_train = X_train.reshape(-1, 28, 28, 1) / 255.\n",
        "X_test = X_test.reshape(-1, 28, 28, 1) / 255."
      ],
      "metadata": {
        "id": "ANCnUtW1o7aq"
      },
      "execution_count": null,
      "outputs": []
    },
    {
      "cell_type": "code",
      "source": [
        "# One-hot encoding\n",
        "from tensorflow.keras.utils import to_categorical\n",
        "Y_train = to_categorical(y_train)\n",
        "Y_test = to_categorical(y_test)"
      ],
      "metadata": {
        "id": "UYMLabuGpV_Q"
      },
      "execution_count": null,
      "outputs": []
    },
    {
      "cell_type": "markdown",
      "source": [
        "### 모델 정의/설정/학습/평가"
      ],
      "metadata": {
        "id": "9pboaM3KqGyG"
      }
    },
    {
      "cell_type": "code",
      "source": [
        "from tensorflow.keras.models import Sequential, load_model\n",
        "from tensorflow.keras.layers import Dense, Conv2D, Flatten, MaxPooling2D\n",
        "from tensorflow.keras.layers import Dropout\n",
        "from tensorflow.keras.callbacks import ModelCheckpoint, EarlyStopping"
      ],
      "metadata": {
        "id": "uoY2lQZFqE0W"
      },
      "execution_count": null,
      "outputs": []
    },
    {
      "cell_type": "code",
      "source": [
        "model = Sequential([\n",
        "    Conv2D(32, kernel_size=(3,3), padding='same', input_shape=(28,28,1), activation='relu'),    # 마스크(필터)의 종류 32가지 사용\n",
        "    Conv2D(64, (3,3), padding='same', activation='relu'), # padding: input의 크기 만큼 이미지의 상하좌우에 '0'으로 된 pad가 둘러짐\n",
        "    MaxPooling2D(),                         # MaxPooling2D(pool_size=(2,2))\n",
        "    Dropout(0.25),\n",
        "    Flatten(),\n",
        "    Dense(512, activation='relu'),\n",
        "    Dropout(0.5),\n",
        "    Dense(10, activation='softmax')\n",
        "])\n",
        "model.summary()"
      ],
      "metadata": {
        "colab": {
          "base_uri": "https://localhost:8080/"
        },
        "id": "-Zu-G_LCqe__",
        "outputId": "5bfcb29b-917d-49c5-aa25-871f7885aed1"
      },
      "execution_count": null,
      "outputs": [
        {
          "output_type": "stream",
          "name": "stdout",
          "text": [
            "Model: \"sequential\"\n",
            "_________________________________________________________________\n",
            " Layer (type)                Output Shape              Param #   \n",
            "=================================================================\n",
            " conv2d (Conv2D)             (None, 28, 28, 32)        320       \n",
            "                                                                 \n",
            " conv2d_1 (Conv2D)           (None, 28, 28, 64)        18496     \n",
            "                                                                 \n",
            " max_pooling2d (MaxPooling2D  (None, 14, 14, 64)       0         \n",
            " )                                                               \n",
            "                                                                 \n",
            " dropout (Dropout)           (None, 14, 14, 64)        0         \n",
            "                                                                 \n",
            " flatten (Flatten)           (None, 12544)             0         \n",
            "                                                                 \n",
            " dense (Dense)               (None, 512)               6423040   \n",
            "                                                                 \n",
            " dropout_1 (Dropout)         (None, 512)               0         \n",
            "                                                                 \n",
            " dense_1 (Dense)             (None, 10)                5130      \n",
            "                                                                 \n",
            "=================================================================\n",
            "Total params: 6,446,986\n",
            "Trainable params: 6,446,986\n",
            "Non-trainable params: 0\n",
            "_________________________________________________________________\n"
          ]
        }
      ]
    },
    {
      "cell_type": "code",
      "source": [
        "model.compile(optimizer='adam', loss='categorical_crossentropy', metrics=['accuracy'])"
      ],
      "metadata": {
        "id": "ClVEb8lCrdh2"
      },
      "execution_count": null,
      "outputs": []
    },
    {
      "cell_type": "code",
      "source": [
        "model_path = 'best-mnist-cnn-v4.h5'\n",
        "checkpoint = ModelCheckpoint(model_path, save_best_only=True, verbose=1)\n",
        "early_stop = EarlyStopping(patience=10)"
      ],
      "metadata": {
        "id": "N0b49NSFspIs"
      },
      "execution_count": null,
      "outputs": []
    },
    {
      "cell_type": "code",
      "source": [
        "hist = model.fit(\n",
        "    X_train, Y_train, validation_split=0.2,\n",
        "    epochs=100, batch_size=200,\n",
        "    callbacks=[checkpoint, early_stop], verbose=0)"
      ],
      "metadata": {
        "colab": {
          "base_uri": "https://localhost:8080/"
        },
        "id": "nHN7FCdItDyY",
        "outputId": "304481cd-9705-42d5-b94c-15ff7d1a1e5b"
      },
      "execution_count": null,
      "outputs": [
        {
          "output_type": "stream",
          "name": "stdout",
          "text": [
            "\n",
            "Epoch 00001: val_loss improved from inf to 0.05631, saving model to best-mnist-cnn-v4.h5\n",
            "\n",
            "Epoch 00002: val_loss improved from 0.05631 to 0.04948, saving model to best-mnist-cnn-v4.h5\n",
            "\n",
            "Epoch 00003: val_loss improved from 0.04948 to 0.04242, saving model to best-mnist-cnn-v4.h5\n",
            "\n",
            "Epoch 00004: val_loss improved from 0.04242 to 0.03519, saving model to best-mnist-cnn-v4.h5\n",
            "\n",
            "Epoch 00005: val_loss did not improve from 0.03519\n",
            "\n",
            "Epoch 00006: val_loss did not improve from 0.03519\n",
            "\n",
            "Epoch 00007: val_loss did not improve from 0.03519\n",
            "\n",
            "Epoch 00008: val_loss did not improve from 0.03519\n",
            "\n",
            "Epoch 00009: val_loss improved from 0.03519 to 0.03338, saving model to best-mnist-cnn-v4.h5\n",
            "\n",
            "Epoch 00010: val_loss did not improve from 0.03338\n",
            "\n",
            "Epoch 00011: val_loss did not improve from 0.03338\n",
            "\n",
            "Epoch 00012: val_loss did not improve from 0.03338\n",
            "\n",
            "Epoch 00013: val_loss did not improve from 0.03338\n",
            "\n",
            "Epoch 00014: val_loss did not improve from 0.03338\n",
            "\n",
            "Epoch 00015: val_loss did not improve from 0.03338\n",
            "\n",
            "Epoch 00016: val_loss did not improve from 0.03338\n",
            "\n",
            "Epoch 00017: val_loss did not improve from 0.03338\n",
            "\n",
            "Epoch 00018: val_loss did not improve from 0.03338\n",
            "\n",
            "Epoch 00019: val_loss did not improve from 0.03338\n"
          ]
        }
      ]
    },
    {
      "cell_type": "code",
      "source": [
        "best_model = load_model(model_path)\n",
        "best_model.evaluate(X_test, Y_test)"
      ],
      "metadata": {
        "colab": {
          "base_uri": "https://localhost:8080/"
        },
        "id": "JTM1RxGPthuN",
        "outputId": "0c8e0b3f-cf73-4ec7-f2d7-3f4cb2b674b1"
      },
      "execution_count": null,
      "outputs": [
        {
          "output_type": "stream",
          "name": "stdout",
          "text": [
            "313/313 [==============================] - 1s 3ms/step - loss: 0.0261 - accuracy: 0.9918\n"
          ]
        },
        {
          "output_type": "execute_result",
          "data": {
            "text/plain": [
              "[0.026117144152522087, 0.9918000102043152]"
            ]
          },
          "metadata": {},
          "execution_count": 11
        }
      ]
    }
  ]
}