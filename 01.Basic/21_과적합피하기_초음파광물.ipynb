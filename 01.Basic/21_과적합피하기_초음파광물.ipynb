{
  "nbformat": 4,
  "nbformat_minor": 0,
  "metadata": {
    "colab": {
      "name": "21.과적합피하기_초음파광물.ipynb",
      "provenance": [],
      "collapsed_sections": []
    },
    "kernelspec": {
      "name": "python3",
      "display_name": "Python 3"
    },
    "language_info": {
      "name": "python"
    }
  },
  "cells": [
    {
      "cell_type": "markdown",
      "source": [
        "# 과적합 피하기 - 초음파 광물 데이터"
      ],
      "metadata": {
        "id": "7ksFJlZWzsew"
      }
    },
    {
      "cell_type": "code",
      "execution_count": 1,
      "metadata": {
        "id": "VKRo8sXszrYI"
      },
      "outputs": [],
      "source": [
        "import numpy as np\n",
        "import pandas as pd\n",
        "import tensorflow as tf\n",
        "seed = 2022\n",
        "np.random.seed(seed)\n",
        "tf.random.set_seed(seed)"
      ]
    },
    {
      "cell_type": "markdown",
      "source": [
        "- 데이터 전처리"
      ],
      "metadata": {
        "id": "IYOZICA70Uvo"
      }
    },
    {
      "cell_type": "code",
      "source": [
        "from google.colab import files\n",
        "up = files.upload()\n",
        "filename = list(up.keys())[0]"
      ],
      "metadata": {
        "colab": {
          "resources": {
            "http://localhost:8080/nbextensions/google.colab/files.js": {
              "data": "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",
              "ok": true,
              "headers": [
                [
                  "content-type",
                  "application/javascript"
                ]
              ],
              "status": 200,
              "status_text": ""
            }
          },
          "base_uri": "https://localhost:8080/",
          "height": 78
        },
        "id": "hhDhxkpk0T5U",
        "outputId": "e618141a-5702-4d06-f556-163c9471ecc2"
      },
      "execution_count": 2,
      "outputs": [
        {
          "output_type": "display_data",
          "data": {
            "text/html": [
              "\n",
              "     <input type=\"file\" id=\"files-3bd845bc-8f43-4d93-ac61-98ef5d8f301d\" name=\"files[]\" multiple disabled\n",
              "        style=\"border:none\" />\n",
              "     <output id=\"result-3bd845bc-8f43-4d93-ac61-98ef5d8f301d\">\n",
              "      Upload widget is only available when the cell has been executed in the\n",
              "      current browser session. Please rerun this cell to enable.\n",
              "      </output>\n",
              "      <script src=\"/nbextensions/google.colab/files.js\"></script> "
            ],
            "text/plain": [
              "<IPython.core.display.HTML object>"
            ]
          },
          "metadata": {}
        },
        {
          "output_type": "stream",
          "name": "stdout",
          "text": [
            "Saving sonar.csv to sonar (1).csv\n"
          ]
        }
      ]
    },
    {
      "cell_type": "code",
      "source": [
        "df = pd.read_csv(filename, header=None)\n",
        "df.head(3)"
      ],
      "metadata": {
        "colab": {
          "base_uri": "https://localhost:8080/",
          "height": 207
        },
        "id": "Znd_i_eA0cM6",
        "outputId": "fab39bf9-43ef-4b1e-83e7-ba1e529e951a"
      },
      "execution_count": 3,
      "outputs": [
        {
          "output_type": "execute_result",
          "data": {
            "text/html": [
              "\n",
              "  <div id=\"df-55453811-f9c2-425d-aa7f-dcc1222fc676\">\n",
              "    <div class=\"colab-df-container\">\n",
              "      <div>\n",
              "<style scoped>\n",
              "    .dataframe tbody tr th:only-of-type {\n",
              "        vertical-align: middle;\n",
              "    }\n",
              "\n",
              "    .dataframe tbody tr th {\n",
              "        vertical-align: top;\n",
              "    }\n",
              "\n",
              "    .dataframe thead th {\n",
              "        text-align: right;\n",
              "    }\n",
              "</style>\n",
              "<table border=\"1\" class=\"dataframe\">\n",
              "  <thead>\n",
              "    <tr style=\"text-align: right;\">\n",
              "      <th></th>\n",
              "      <th>0</th>\n",
              "      <th>1</th>\n",
              "      <th>2</th>\n",
              "      <th>3</th>\n",
              "      <th>4</th>\n",
              "      <th>5</th>\n",
              "      <th>6</th>\n",
              "      <th>7</th>\n",
              "      <th>8</th>\n",
              "      <th>9</th>\n",
              "      <th>10</th>\n",
              "      <th>11</th>\n",
              "      <th>12</th>\n",
              "      <th>13</th>\n",
              "      <th>14</th>\n",
              "      <th>15</th>\n",
              "      <th>16</th>\n",
              "      <th>17</th>\n",
              "      <th>18</th>\n",
              "      <th>19</th>\n",
              "      <th>20</th>\n",
              "      <th>21</th>\n",
              "      <th>22</th>\n",
              "      <th>23</th>\n",
              "      <th>24</th>\n",
              "      <th>25</th>\n",
              "      <th>26</th>\n",
              "      <th>27</th>\n",
              "      <th>28</th>\n",
              "      <th>29</th>\n",
              "      <th>30</th>\n",
              "      <th>31</th>\n",
              "      <th>32</th>\n",
              "      <th>33</th>\n",
              "      <th>34</th>\n",
              "      <th>35</th>\n",
              "      <th>36</th>\n",
              "      <th>37</th>\n",
              "      <th>38</th>\n",
              "      <th>39</th>\n",
              "      <th>40</th>\n",
              "      <th>41</th>\n",
              "      <th>42</th>\n",
              "      <th>43</th>\n",
              "      <th>44</th>\n",
              "      <th>45</th>\n",
              "      <th>46</th>\n",
              "      <th>47</th>\n",
              "      <th>48</th>\n",
              "      <th>49</th>\n",
              "      <th>50</th>\n",
              "      <th>51</th>\n",
              "      <th>52</th>\n",
              "      <th>53</th>\n",
              "      <th>54</th>\n",
              "      <th>55</th>\n",
              "      <th>56</th>\n",
              "      <th>57</th>\n",
              "      <th>58</th>\n",
              "      <th>59</th>\n",
              "      <th>60</th>\n",
              "    </tr>\n",
              "  </thead>\n",
              "  <tbody>\n",
              "    <tr>\n",
              "      <th>0</th>\n",
              "      <td>0.0200</td>\n",
              "      <td>0.0371</td>\n",
              "      <td>0.0428</td>\n",
              "      <td>0.0207</td>\n",
              "      <td>0.0954</td>\n",
              "      <td>0.0986</td>\n",
              "      <td>0.1539</td>\n",
              "      <td>0.1601</td>\n",
              "      <td>0.3109</td>\n",
              "      <td>0.2111</td>\n",
              "      <td>0.1609</td>\n",
              "      <td>0.1582</td>\n",
              "      <td>0.2238</td>\n",
              "      <td>0.0645</td>\n",
              "      <td>0.0660</td>\n",
              "      <td>0.2273</td>\n",
              "      <td>0.3100</td>\n",
              "      <td>0.2999</td>\n",
              "      <td>0.5078</td>\n",
              "      <td>0.4797</td>\n",
              "      <td>0.5783</td>\n",
              "      <td>0.5071</td>\n",
              "      <td>0.4328</td>\n",
              "      <td>0.5550</td>\n",
              "      <td>0.6711</td>\n",
              "      <td>0.6415</td>\n",
              "      <td>0.7104</td>\n",
              "      <td>0.8080</td>\n",
              "      <td>0.6791</td>\n",
              "      <td>0.3857</td>\n",
              "      <td>0.1307</td>\n",
              "      <td>0.2604</td>\n",
              "      <td>0.5121</td>\n",
              "      <td>0.7547</td>\n",
              "      <td>0.8537</td>\n",
              "      <td>0.8507</td>\n",
              "      <td>0.6692</td>\n",
              "      <td>0.6097</td>\n",
              "      <td>0.4943</td>\n",
              "      <td>0.2744</td>\n",
              "      <td>0.0510</td>\n",
              "      <td>0.2834</td>\n",
              "      <td>0.2825</td>\n",
              "      <td>0.4256</td>\n",
              "      <td>0.2641</td>\n",
              "      <td>0.1386</td>\n",
              "      <td>0.1051</td>\n",
              "      <td>0.1343</td>\n",
              "      <td>0.0383</td>\n",
              "      <td>0.0324</td>\n",
              "      <td>0.0232</td>\n",
              "      <td>0.0027</td>\n",
              "      <td>0.0065</td>\n",
              "      <td>0.0159</td>\n",
              "      <td>0.0072</td>\n",
              "      <td>0.0167</td>\n",
              "      <td>0.0180</td>\n",
              "      <td>0.0084</td>\n",
              "      <td>0.0090</td>\n",
              "      <td>0.0032</td>\n",
              "      <td>R</td>\n",
              "    </tr>\n",
              "    <tr>\n",
              "      <th>1</th>\n",
              "      <td>0.0453</td>\n",
              "      <td>0.0523</td>\n",
              "      <td>0.0843</td>\n",
              "      <td>0.0689</td>\n",
              "      <td>0.1183</td>\n",
              "      <td>0.2583</td>\n",
              "      <td>0.2156</td>\n",
              "      <td>0.3481</td>\n",
              "      <td>0.3337</td>\n",
              "      <td>0.2872</td>\n",
              "      <td>0.4918</td>\n",
              "      <td>0.6552</td>\n",
              "      <td>0.6919</td>\n",
              "      <td>0.7797</td>\n",
              "      <td>0.7464</td>\n",
              "      <td>0.9444</td>\n",
              "      <td>1.0000</td>\n",
              "      <td>0.8874</td>\n",
              "      <td>0.8024</td>\n",
              "      <td>0.7818</td>\n",
              "      <td>0.5212</td>\n",
              "      <td>0.4052</td>\n",
              "      <td>0.3957</td>\n",
              "      <td>0.3914</td>\n",
              "      <td>0.3250</td>\n",
              "      <td>0.3200</td>\n",
              "      <td>0.3271</td>\n",
              "      <td>0.2767</td>\n",
              "      <td>0.4423</td>\n",
              "      <td>0.2028</td>\n",
              "      <td>0.3788</td>\n",
              "      <td>0.2947</td>\n",
              "      <td>0.1984</td>\n",
              "      <td>0.2341</td>\n",
              "      <td>0.1306</td>\n",
              "      <td>0.4182</td>\n",
              "      <td>0.3835</td>\n",
              "      <td>0.1057</td>\n",
              "      <td>0.1840</td>\n",
              "      <td>0.1970</td>\n",
              "      <td>0.1674</td>\n",
              "      <td>0.0583</td>\n",
              "      <td>0.1401</td>\n",
              "      <td>0.1628</td>\n",
              "      <td>0.0621</td>\n",
              "      <td>0.0203</td>\n",
              "      <td>0.0530</td>\n",
              "      <td>0.0742</td>\n",
              "      <td>0.0409</td>\n",
              "      <td>0.0061</td>\n",
              "      <td>0.0125</td>\n",
              "      <td>0.0084</td>\n",
              "      <td>0.0089</td>\n",
              "      <td>0.0048</td>\n",
              "      <td>0.0094</td>\n",
              "      <td>0.0191</td>\n",
              "      <td>0.0140</td>\n",
              "      <td>0.0049</td>\n",
              "      <td>0.0052</td>\n",
              "      <td>0.0044</td>\n",
              "      <td>R</td>\n",
              "    </tr>\n",
              "    <tr>\n",
              "      <th>2</th>\n",
              "      <td>0.0262</td>\n",
              "      <td>0.0582</td>\n",
              "      <td>0.1099</td>\n",
              "      <td>0.1083</td>\n",
              "      <td>0.0974</td>\n",
              "      <td>0.2280</td>\n",
              "      <td>0.2431</td>\n",
              "      <td>0.3771</td>\n",
              "      <td>0.5598</td>\n",
              "      <td>0.6194</td>\n",
              "      <td>0.6333</td>\n",
              "      <td>0.7060</td>\n",
              "      <td>0.5544</td>\n",
              "      <td>0.5320</td>\n",
              "      <td>0.6479</td>\n",
              "      <td>0.6931</td>\n",
              "      <td>0.6759</td>\n",
              "      <td>0.7551</td>\n",
              "      <td>0.8929</td>\n",
              "      <td>0.8619</td>\n",
              "      <td>0.7974</td>\n",
              "      <td>0.6737</td>\n",
              "      <td>0.4293</td>\n",
              "      <td>0.3648</td>\n",
              "      <td>0.5331</td>\n",
              "      <td>0.2413</td>\n",
              "      <td>0.5070</td>\n",
              "      <td>0.8533</td>\n",
              "      <td>0.6036</td>\n",
              "      <td>0.8514</td>\n",
              "      <td>0.8512</td>\n",
              "      <td>0.5045</td>\n",
              "      <td>0.1862</td>\n",
              "      <td>0.2709</td>\n",
              "      <td>0.4232</td>\n",
              "      <td>0.3043</td>\n",
              "      <td>0.6116</td>\n",
              "      <td>0.6756</td>\n",
              "      <td>0.5375</td>\n",
              "      <td>0.4719</td>\n",
              "      <td>0.4647</td>\n",
              "      <td>0.2587</td>\n",
              "      <td>0.2129</td>\n",
              "      <td>0.2222</td>\n",
              "      <td>0.2111</td>\n",
              "      <td>0.0176</td>\n",
              "      <td>0.1348</td>\n",
              "      <td>0.0744</td>\n",
              "      <td>0.0130</td>\n",
              "      <td>0.0106</td>\n",
              "      <td>0.0033</td>\n",
              "      <td>0.0232</td>\n",
              "      <td>0.0166</td>\n",
              "      <td>0.0095</td>\n",
              "      <td>0.0180</td>\n",
              "      <td>0.0244</td>\n",
              "      <td>0.0316</td>\n",
              "      <td>0.0164</td>\n",
              "      <td>0.0095</td>\n",
              "      <td>0.0078</td>\n",
              "      <td>R</td>\n",
              "    </tr>\n",
              "  </tbody>\n",
              "</table>\n",
              "</div>\n",
              "      <button class=\"colab-df-convert\" onclick=\"convertToInteractive('df-55453811-f9c2-425d-aa7f-dcc1222fc676')\"\n",
              "              title=\"Convert this dataframe to an interactive table.\"\n",
              "              style=\"display:none;\">\n",
              "        \n",
              "  <svg xmlns=\"http://www.w3.org/2000/svg\" height=\"24px\"viewBox=\"0 0 24 24\"\n",
              "       width=\"24px\">\n",
              "    <path d=\"M0 0h24v24H0V0z\" fill=\"none\"/>\n",
              "    <path d=\"M18.56 5.44l.94 2.06.94-2.06 2.06-.94-2.06-.94-.94-2.06-.94 2.06-2.06.94zm-11 1L8.5 8.5l.94-2.06 2.06-.94-2.06-.94L8.5 2.5l-.94 2.06-2.06.94zm10 10l.94 2.06.94-2.06 2.06-.94-2.06-.94-.94-2.06-.94 2.06-2.06.94z\"/><path d=\"M17.41 7.96l-1.37-1.37c-.4-.4-.92-.59-1.43-.59-.52 0-1.04.2-1.43.59L10.3 9.45l-7.72 7.72c-.78.78-.78 2.05 0 2.83L4 21.41c.39.39.9.59 1.41.59.51 0 1.02-.2 1.41-.59l7.78-7.78 2.81-2.81c.8-.78.8-2.07 0-2.86zM5.41 20L4 18.59l7.72-7.72 1.47 1.35L5.41 20z\"/>\n",
              "  </svg>\n",
              "      </button>\n",
              "      \n",
              "  <style>\n",
              "    .colab-df-container {\n",
              "      display:flex;\n",
              "      flex-wrap:wrap;\n",
              "      gap: 12px;\n",
              "    }\n",
              "\n",
              "    .colab-df-convert {\n",
              "      background-color: #E8F0FE;\n",
              "      border: none;\n",
              "      border-radius: 50%;\n",
              "      cursor: pointer;\n",
              "      display: none;\n",
              "      fill: #1967D2;\n",
              "      height: 32px;\n",
              "      padding: 0 0 0 0;\n",
              "      width: 32px;\n",
              "    }\n",
              "\n",
              "    .colab-df-convert:hover {\n",
              "      background-color: #E2EBFA;\n",
              "      box-shadow: 0px 1px 2px rgba(60, 64, 67, 0.3), 0px 1px 3px 1px rgba(60, 64, 67, 0.15);\n",
              "      fill: #174EA6;\n",
              "    }\n",
              "\n",
              "    [theme=dark] .colab-df-convert {\n",
              "      background-color: #3B4455;\n",
              "      fill: #D2E3FC;\n",
              "    }\n",
              "\n",
              "    [theme=dark] .colab-df-convert:hover {\n",
              "      background-color: #434B5C;\n",
              "      box-shadow: 0px 1px 3px 1px rgba(0, 0, 0, 0.15);\n",
              "      filter: drop-shadow(0px 1px 2px rgba(0, 0, 0, 0.3));\n",
              "      fill: #FFFFFF;\n",
              "    }\n",
              "  </style>\n",
              "\n",
              "      <script>\n",
              "        const buttonEl =\n",
              "          document.querySelector('#df-55453811-f9c2-425d-aa7f-dcc1222fc676 button.colab-df-convert');\n",
              "        buttonEl.style.display =\n",
              "          google.colab.kernel.accessAllowed ? 'block' : 'none';\n",
              "\n",
              "        async function convertToInteractive(key) {\n",
              "          const element = document.querySelector('#df-55453811-f9c2-425d-aa7f-dcc1222fc676');\n",
              "          const dataTable =\n",
              "            await google.colab.kernel.invokeFunction('convertToInteractive',\n",
              "                                                     [key], {});\n",
              "          if (!dataTable) return;\n",
              "\n",
              "          const docLinkHtml = 'Like what you see? Visit the ' +\n",
              "            '<a target=\"_blank\" href=https://colab.research.google.com/notebooks/data_table.ipynb>data table notebook</a>'\n",
              "            + ' to learn more about interactive tables.';\n",
              "          element.innerHTML = '';\n",
              "          dataTable['output_type'] = 'display_data';\n",
              "          await google.colab.output.renderOutput(dataTable, element);\n",
              "          const docLink = document.createElement('div');\n",
              "          docLink.innerHTML = docLinkHtml;\n",
              "          element.appendChild(docLink);\n",
              "        }\n",
              "      </script>\n",
              "    </div>\n",
              "  </div>\n",
              "  "
            ],
            "text/plain": [
              "       0       1       2       3       4   ...      56      57      58      59  60\n",
              "0  0.0200  0.0371  0.0428  0.0207  0.0954  ...  0.0180  0.0084  0.0090  0.0032   R\n",
              "1  0.0453  0.0523  0.0843  0.0689  0.1183  ...  0.0140  0.0049  0.0052  0.0044   R\n",
              "2  0.0262  0.0582  0.1099  0.1083  0.0974  ...  0.0316  0.0164  0.0095  0.0078   R\n",
              "\n",
              "[3 rows x 61 columns]"
            ]
          },
          "metadata": {},
          "execution_count": 3
        }
      ]
    },
    {
      "cell_type": "code",
      "source": [
        "np.unique(df.values[:, -1], return_counts=True) \n",
        "# np.array([])는 하나의 타입만 받음. so df.values 하면 label 값 때문에 전체 데이터가 문자열로 바뀜"
      ],
      "metadata": {
        "colab": {
          "base_uri": "https://localhost:8080/"
        },
        "id": "3Fb92c5_0nnh",
        "outputId": "4cebd3fd-7c54-4240-f16f-e6e30345058d"
      },
      "execution_count": 4,
      "outputs": [
        {
          "output_type": "execute_result",
          "data": {
            "text/plain": [
              "(array(['M', 'R'], dtype=object), array([111,  97]))"
            ]
          },
          "metadata": {},
          "execution_count": 4
        }
      ]
    },
    {
      "cell_type": "code",
      "source": [
        "# X data : scaling\n",
        "from sklearn.preprocessing import StandardScaler\n",
        "X_scaled = StandardScaler().fit_transform(df.iloc[:, :-1].values) # 데이터 선택 후 -> 넘파이로 전환"
      ],
      "metadata": {
        "id": "sy6G8xn406qN"
      },
      "execution_count": 5,
      "outputs": []
    },
    {
      "cell_type": "code",
      "source": [
        "# Y data : label encoding\n",
        "from sklearn.preprocessing import LabelEncoder\n",
        "y_labeled = LabelEncoder().fit_transform(df.iloc[:,-1].values)"
      ],
      "metadata": {
        "id": "YJA-nxu24Qdl"
      },
      "execution_count": 6,
      "outputs": []
    },
    {
      "cell_type": "code",
      "source": [
        "from sklearn.model_selection import train_test_split\n",
        "X_train, X_test, y_train, y_test = train_test_split(\n",
        "    X_scaled, y_labeled, stratify=y_labeled, test_size=0.2, random_state=seed\n",
        ")\n",
        "X_train.shape, X_test.shape, y_train.shape, y_test.shape"
      ],
      "metadata": {
        "colab": {
          "base_uri": "https://localhost:8080/"
        },
        "id": "SiZ7rsiT5dwC",
        "outputId": "a14e7d50-844f-4233-cb38-195f3d728320"
      },
      "execution_count": 7,
      "outputs": [
        {
          "output_type": "execute_result",
          "data": {
            "text/plain": [
              "((166, 60), (42, 60), (166,), (42,))"
            ]
          },
          "metadata": {},
          "execution_count": 7
        }
      ]
    },
    {
      "cell_type": "markdown",
      "source": [
        "### 모델 정의/설정/학습/평가"
      ],
      "metadata": {
        "id": "r-_dP72U6z03"
      }
    },
    {
      "cell_type": "code",
      "source": [
        "from tensorflow.keras.models import Sequential\n",
        "from tensorflow.keras.layers import Dense"
      ],
      "metadata": {
        "id": "GKAFcR9o6c2w"
      },
      "execution_count": 8,
      "outputs": []
    },
    {
      "cell_type": "markdown",
      "source": [
        "1. 은닉층 2개"
      ],
      "metadata": {
        "id": "D9kDlsm97SDz"
      }
    },
    {
      "cell_type": "code",
      "source": [
        "model1 = Sequential([\n",
        "    Dense(80, input_dim=60, activation='relu'),\n",
        "    Dense(12, activation='relu'),\n",
        "    Dense(1, activation='sigmoid')\n",
        "])\n",
        "model1.summary() "
      ],
      "metadata": {
        "colab": {
          "base_uri": "https://localhost:8080/"
        },
        "id": "PWIWqw8E7EYU",
        "outputId": "15009308-8acb-4b41-83a2-58876df612d8"
      },
      "execution_count": 9,
      "outputs": [
        {
          "output_type": "stream",
          "name": "stdout",
          "text": [
            "Model: \"sequential\"\n",
            "_________________________________________________________________\n",
            " Layer (type)                Output Shape              Param #   \n",
            "=================================================================\n",
            " dense (Dense)               (None, 80)                4880      \n",
            "                                                                 \n",
            " dense_1 (Dense)             (None, 12)                972       \n",
            "                                                                 \n",
            " dense_2 (Dense)             (None, 1)                 13        \n",
            "                                                                 \n",
            "=================================================================\n",
            "Total params: 5,865\n",
            "Trainable params: 5,865\n",
            "Non-trainable params: 0\n",
            "_________________________________________________________________\n"
          ]
        }
      ]
    },
    {
      "cell_type": "code",
      "source": [
        "model1.compile(optimizer='adam', loss='binary_crossentropy', metrics=['accuracy'])\n",
        "h1 = model1.fit(X_train, y_train, validation_split=0.2, epochs=200, batch_size=50, verbose=0)\n",
        "model1.evaluate(X_test, y_test)"
      ],
      "metadata": {
        "colab": {
          "base_uri": "https://localhost:8080/"
        },
        "id": "ffJ5VHJQ7yE9",
        "outputId": "b5994991-fa6d-418c-81e8-09716257b07c"
      },
      "execution_count": 10,
      "outputs": [
        {
          "output_type": "stream",
          "name": "stdout",
          "text": [
            "2/2 [==============================] - 0s 4ms/step - loss: 0.3529 - accuracy: 0.9048\n"
          ]
        },
        {
          "output_type": "execute_result",
          "data": {
            "text/plain": [
              "[0.3528617322444916, 0.9047619104385376]"
            ]
          },
          "metadata": {},
          "execution_count": 10
        }
      ]
    },
    {
      "cell_type": "markdown",
      "source": [
        "2. 은닉층 4개"
      ],
      "metadata": {
        "id": "h7Y2YuVt8o2S"
      }
    },
    {
      "cell_type": "code",
      "source": [
        "model2 = Sequential([\n",
        "    Dense(64, input_dim=60, activation='relu'),\n",
        "    Dense(30, activation='relu'),\n",
        "    Dense(12, activation='relu'),\n",
        "    Dense(4, activation='relu'),\n",
        "    Dense(1, activation='sigmoid')\n",
        "])\n",
        "model2.summary()"
      ],
      "metadata": {
        "colab": {
          "base_uri": "https://localhost:8080/"
        },
        "id": "RbHHuBnN8Z0I",
        "outputId": "5c66d582-1b6c-4a2c-dd28-19e7d345dcfd"
      },
      "execution_count": 11,
      "outputs": [
        {
          "output_type": "stream",
          "name": "stdout",
          "text": [
            "Model: \"sequential_1\"\n",
            "_________________________________________________________________\n",
            " Layer (type)                Output Shape              Param #   \n",
            "=================================================================\n",
            " dense_3 (Dense)             (None, 64)                3904      \n",
            "                                                                 \n",
            " dense_4 (Dense)             (None, 30)                1950      \n",
            "                                                                 \n",
            " dense_5 (Dense)             (None, 12)                372       \n",
            "                                                                 \n",
            " dense_6 (Dense)             (None, 4)                 52        \n",
            "                                                                 \n",
            " dense_7 (Dense)             (None, 1)                 5         \n",
            "                                                                 \n",
            "=================================================================\n",
            "Total params: 6,283\n",
            "Trainable params: 6,283\n",
            "Non-trainable params: 0\n",
            "_________________________________________________________________\n"
          ]
        }
      ]
    },
    {
      "cell_type": "code",
      "source": [
        "model2.compile(optimizer='adam', loss='binary_crossentropy', metrics=['accuracy'])\n",
        "h2 = model2.fit(X_train, y_train, validation_split=0.2, epochs=200, batch_size=50, verbose=0)\n",
        "model2.evaluate(X_test, y_test)"
      ],
      "metadata": {
        "colab": {
          "base_uri": "https://localhost:8080/"
        },
        "id": "ejOIXfEo8_kp",
        "outputId": "3d3b150e-c203-4a59-f99d-a89678c73740"
      },
      "execution_count": 12,
      "outputs": [
        {
          "output_type": "stream",
          "name": "stdout",
          "text": [
            "2/2 [==============================] - 0s 7ms/step - loss: 0.5415 - accuracy: 0.8095\n"
          ]
        },
        {
          "output_type": "execute_result",
          "data": {
            "text/plain": [
              "[0.5415384769439697, 0.8095238208770752]"
            ]
          },
          "metadata": {},
          "execution_count": 12
        }
      ]
    },
    {
      "cell_type": "markdown",
      "source": [
        "3. 은닉층 6개"
      ],
      "metadata": {
        "id": "YUVyEM029Zv3"
      }
    },
    {
      "cell_type": "code",
      "source": [
        "model3 = Sequential([\n",
        "    Dense(64, input_dim=60, activation='relu'),\n",
        "    Dense(40, activation='relu'),\n",
        "    Dense(28, activation='relu'),\n",
        "    Dense(16, activation='relu'),\n",
        "    Dense(8, activation='relu'),\n",
        "    Dense(4, activation='relu'),\n",
        "    Dense(1, activation='sigmoid')\n",
        "])\n",
        "model3.summary()"
      ],
      "metadata": {
        "colab": {
          "base_uri": "https://localhost:8080/"
        },
        "id": "QRo68hVe9bsf",
        "outputId": "354079fc-b15d-4aaa-fd97-9875f517d9d4"
      },
      "execution_count": 13,
      "outputs": [
        {
          "output_type": "stream",
          "name": "stdout",
          "text": [
            "Model: \"sequential_2\"\n",
            "_________________________________________________________________\n",
            " Layer (type)                Output Shape              Param #   \n",
            "=================================================================\n",
            " dense_8 (Dense)             (None, 64)                3904      \n",
            "                                                                 \n",
            " dense_9 (Dense)             (None, 40)                2600      \n",
            "                                                                 \n",
            " dense_10 (Dense)            (None, 28)                1148      \n",
            "                                                                 \n",
            " dense_11 (Dense)            (None, 16)                464       \n",
            "                                                                 \n",
            " dense_12 (Dense)            (None, 8)                 136       \n",
            "                                                                 \n",
            " dense_13 (Dense)            (None, 4)                 36        \n",
            "                                                                 \n",
            " dense_14 (Dense)            (None, 1)                 5         \n",
            "                                                                 \n",
            "=================================================================\n",
            "Total params: 8,293\n",
            "Trainable params: 8,293\n",
            "Non-trainable params: 0\n",
            "_________________________________________________________________\n"
          ]
        }
      ]
    },
    {
      "cell_type": "code",
      "source": [
        "model3.compile(optimizer='adam', loss='binary_crossentropy', metrics=['accuracy'])\n",
        "h3 = model3.fit(X_train, y_train, validation_split=0.2, epochs=200, batch_size=50, verbose=0)\n",
        "model3.evaluate(X_test, y_test)"
      ],
      "metadata": {
        "colab": {
          "base_uri": "https://localhost:8080/"
        },
        "id": "IfQc9EOI94ge",
        "outputId": "679b725e-d377-4a9f-c3d3-b29b73d21fe0"
      },
      "execution_count": 14,
      "outputs": [
        {
          "output_type": "stream",
          "name": "stdout",
          "text": [
            "2/2 [==============================] - 0s 7ms/step - loss: 0.5902 - accuracy: 0.8333\n"
          ]
        },
        {
          "output_type": "execute_result",
          "data": {
            "text/plain": [
              "[0.5901774168014526, 0.8333333134651184]"
            ]
          },
          "metadata": {},
          "execution_count": 14
        }
      ]
    },
    {
      "cell_type": "markdown",
      "source": [
        "- model1을 그대로 사용 + epoch 횟수 증가"
      ],
      "metadata": {
        "id": "K2_ZOE8M-Y4V"
      }
    },
    {
      "cell_type": "code",
      "source": [
        "model = Sequential([\n",
        "    Dense(80, input_dim=60, activation='relu'),\n",
        "    Dense(12, activation='relu'),\n",
        "    Dense(1, activation='sigmoid')\n",
        "])\n",
        "model.summary()"
      ],
      "metadata": {
        "colab": {
          "base_uri": "https://localhost:8080/"
        },
        "id": "ZYdL6du5-KmF",
        "outputId": "bc8883a6-e1ac-4977-83c0-da54fd46f24d"
      },
      "execution_count": 15,
      "outputs": [
        {
          "output_type": "stream",
          "name": "stdout",
          "text": [
            "Model: \"sequential_3\"\n",
            "_________________________________________________________________\n",
            " Layer (type)                Output Shape              Param #   \n",
            "=================================================================\n",
            " dense_15 (Dense)            (None, 80)                4880      \n",
            "                                                                 \n",
            " dense_16 (Dense)            (None, 12)                972       \n",
            "                                                                 \n",
            " dense_17 (Dense)            (None, 1)                 13        \n",
            "                                                                 \n",
            "=================================================================\n",
            "Total params: 5,865\n",
            "Trainable params: 5,865\n",
            "Non-trainable params: 0\n",
            "_________________________________________________________________\n"
          ]
        }
      ]
    },
    {
      "cell_type": "code",
      "source": [
        "model.compile(optimizer='adam', loss='binary_crossentropy', metrics=['accuracy'])\n",
        "hist = model.fit(X_train, y_train, validation_split=0.2, epochs=1000, batch_size=50, verbose=0)\n",
        "model.evaluate(X_test, y_test)"
      ],
      "metadata": {
        "colab": {
          "base_uri": "https://localhost:8080/"
        },
        "id": "p3xXc8MW-qZz",
        "outputId": "29a85811-94a8-4be2-b359-0af6931c17b3"
      },
      "execution_count": 16,
      "outputs": [
        {
          "output_type": "stream",
          "name": "stdout",
          "text": [
            "2/2 [==============================] - 0s 7ms/step - loss: 0.6320 - accuracy: 0.8571\n"
          ]
        },
        {
          "output_type": "execute_result",
          "data": {
            "text/plain": [
              "[0.6319936513900757, 0.8571428656578064]"
            ]
          },
          "metadata": {},
          "execution_count": 16
        }
      ]
    },
    {
      "cell_type": "markdown",
      "source": [
        "- 학습 과정 시각화"
      ],
      "metadata": {
        "id": "Fc2nck8c_N5l"
      }
    },
    {
      "cell_type": "code",
      "source": [
        "y_acc = hist.history['accuracy'][:200]\n",
        "y_vloss = hist.history['val_loss'][:200]\n",
        "xs = np.arange(1, len(y_acc)+1)"
      ],
      "metadata": {
        "id": "dGDdhlT8_dn8"
      },
      "execution_count": 19,
      "outputs": []
    },
    {
      "cell_type": "code",
      "source": [
        "import matplotlib.pyplot as plt\n",
        "plt.figure(figsize=(12,8))\n",
        "plt.plot(xs, y_acc, ms=5, label='train accuracy')\n",
        "plt.plot(xs, y_vloss, ms=5, label='validation loss')\n",
        "plt.legend()\n",
        "plt.grid()\n",
        "plt.xlabel('Epoch')\n",
        "plt.show()"
      ],
      "metadata": {
        "colab": {
          "base_uri": "https://localhost:8080/",
          "height": 497
        },
        "id": "P2xxtQld-3Du",
        "outputId": "11337279-ccd5-4e12-da8e-7a7c8242bd5f"
      },
      "execution_count": 20,
      "outputs": [
        {
          "output_type": "display_data",
          "data": {
            "image/png": "[encoded data removed]",
            "text/plain": [
              "<Figure size 864x576 with 1 Axes>"
            ]
          },
          "metadata": {
            "needs_background": "light"
          }
        }
      ]
    },
    {
      "cell_type": "markdown",
      "source": [
        "- 모델 저장 조건 설정 (for 과적합 피하기)"
      ],
      "metadata": {
        "id": "SJAk8TYTT-Yn"
      }
    },
    {
      "cell_type": "code",
      "source": [
        "from tensorflow.keras.callbacks import ModelCheckpoint  # 무엇인 실행된 후 끝나면 callback으로 저장된 함수가 자동 실행되도록 함"
      ],
      "metadata": {
        "id": "E-_gq021Aoha"
      },
      "execution_count": 21,
      "outputs": []
    },
    {
      "cell_type": "code",
      "source": [
        "import os\n",
        "if not os.path.exists('model'): \n",
        "    os.mkdir('model')   # model 디렉토리가 없으면 만들어라"
      ],
      "metadata": {
        "id": "cI74nxCqUMLl"
      },
      "execution_count": 23,
      "outputs": []
    },
    {
      "cell_type": "code",
      "source": [
        "os.path.exists('model')"
      ],
      "metadata": {
        "colab": {
          "base_uri": "https://localhost:8080/"
        },
        "id": "gXSDe2-pUfjp",
        "outputId": "db365977-a3c9-4872-ee5c-b5c9ce780ec7"
      },
      "execution_count": 24,
      "outputs": [
        {
          "output_type": "execute_result",
          "data": {
            "text/plain": [
              "True"
            ]
          },
          "metadata": {},
          "execution_count": 24
        }
      ]
    },
    {
      "cell_type": "code",
      "source": [
        "model_path = 'model/sonar.h5'\n",
        "checkpoint = ModelCheckpoint(\n",
        "    model_path, monitor='val_loss', verbose=1, save_best_only=True\n",
        ") # ModelCheckpoint 객체 생성"
      ],
      "metadata": {
        "id": "SAkifrMGU4Wx"
      },
      "execution_count": 26,
      "outputs": []
    },
    {
      "cell_type": "code",
      "source": [
        "model = Sequential([\n",
        "    Dense(80, input_dim=60, activation='relu'),\n",
        "    Dense(12, activation='relu'),\n",
        "    Dense(1, activation='sigmoid')\n",
        "])\n",
        "model.summary()"
      ],
      "metadata": {
        "colab": {
          "base_uri": "https://localhost:8080/"
        },
        "id": "f2TNqwjXVgdj",
        "outputId": "597b48cb-778b-4f43-8765-cbe57be4a80d"
      },
      "execution_count": 32,
      "outputs": [
        {
          "output_type": "stream",
          "name": "stdout",
          "text": [
            "Model: \"sequential_5\"\n",
            "_________________________________________________________________\n",
            " Layer (type)                Output Shape              Param #   \n",
            "=================================================================\n",
            " dense_21 (Dense)            (None, 80)                4880      \n",
            "                                                                 \n",
            " dense_22 (Dense)            (None, 12)                972       \n",
            "                                                                 \n",
            " dense_23 (Dense)            (None, 1)                 13        \n",
            "                                                                 \n",
            "=================================================================\n",
            "Total params: 5,865\n",
            "Trainable params: 5,865\n",
            "Non-trainable params: 0\n",
            "_________________________________________________________________\n"
          ]
        }
      ]
    },
    {
      "cell_type": "code",
      "source": [
        "model.compile(optimizer='adam', loss='binary_crossentropy', metrics=['accuracy'])\n",
        "hist = model.fit(\n",
        "    X_train, y_train, validation_split=0.2, \n",
        "    epochs=400, batch_size=50, verbose=0,\n",
        "    callbacks=[checkpoint]\n",
        ")"
      ],
      "metadata": {
        "colab": {
          "base_uri": "https://localhost:8080/"
        },
        "id": "4LXh2XGMVye3",
        "outputId": "91da7182-4f3c-4188-cb30-db6eb3e4d2a1"
      },
      "execution_count": 33,
      "outputs": [
        {
          "output_type": "stream",
          "name": "stdout",
          "text": [
            "\n",
            "Epoch 00001: val_loss did not improve from 0.29198\n",
            "\n",
            "Epoch 00002: val_loss did not improve from 0.29198\n",
            "\n",
            "Epoch 00003: val_loss did not improve from 0.29198\n",
            "\n",
            "Epoch 00004: val_loss did not improve from 0.29198\n",
            "\n",
            "Epoch 00005: val_loss did not improve from 0.29198\n",
            "\n",
            "Epoch 00006: val_loss did not improve from 0.29198\n",
            "\n",
            "Epoch 00007: val_loss did not improve from 0.29198\n",
            "\n",
            "Epoch 00008: val_loss did not improve from 0.29198\n",
            "\n",
            "Epoch 00009: val_loss did not improve from 0.29198\n",
            "\n",
            "Epoch 00010: val_loss did not improve from 0.29198\n",
            "\n",
            "Epoch 00011: val_loss did not improve from 0.29198\n",
            "\n",
            "Epoch 00012: val_loss did not improve from 0.29198\n",
            "\n",
            "Epoch 00013: val_loss did not improve from 0.29198\n",
            "\n",
            "Epoch 00014: val_loss did not improve from 0.29198\n",
            "\n",
            "Epoch 00015: val_loss did not improve from 0.29198\n",
            "\n",
            "Epoch 00016: val_loss did not improve from 0.29198\n",
            "\n",
            "Epoch 00017: val_loss did not improve from 0.29198\n",
            "\n",
            "Epoch 00018: val_loss did not improve from 0.29198\n",
            "\n",
            "Epoch 00019: val_loss did not improve from 0.29198\n",
            "\n",
            "Epoch 00020: val_loss did not improve from 0.29198\n",
            "\n",
            "Epoch 00021: val_loss did not improve from 0.29198\n",
            "\n",
            "Epoch 00022: val_loss did not improve from 0.29198\n",
            "\n",
            "Epoch 00023: val_loss did not improve from 0.29198\n",
            "\n",
            "Epoch 00024: val_loss did not improve from 0.29198\n",
            "\n",
            "Epoch 00025: val_loss did not improve from 0.29198\n",
            "\n",
            "Epoch 00026: val_loss did not improve from 0.29198\n",
            "\n",
            "Epoch 00027: val_loss did not improve from 0.29198\n",
            "\n",
            "Epoch 00028: val_loss did not improve from 0.29198\n",
            "\n",
            "Epoch 00029: val_loss did not improve from 0.29198\n",
            "\n",
            "Epoch 00030: val_loss did not improve from 0.29198\n",
            "\n",
            "Epoch 00031: val_loss did not improve from 0.29198\n",
            "\n",
            "Epoch 00032: val_loss did not improve from 0.29198\n",
            "\n",
            "Epoch 00033: val_loss did not improve from 0.29198\n",
            "\n",
            "Epoch 00034: val_loss did not improve from 0.29198\n",
            "\n",
            "Epoch 00035: val_loss did not improve from 0.29198\n",
            "\n",
            "Epoch 00036: val_loss did not improve from 0.29198\n",
            "\n",
            "Epoch 00037: val_loss did not improve from 0.29198\n",
            "\n",
            "Epoch 00038: val_loss did not improve from 0.29198\n",
            "\n",
            "Epoch 00039: val_loss did not improve from 0.29198\n",
            "\n",
            "Epoch 00040: val_loss did not improve from 0.29198\n",
            "\n",
            "Epoch 00041: val_loss did not improve from 0.29198\n",
            "\n",
            "Epoch 00042: val_loss did not improve from 0.29198\n",
            "\n",
            "Epoch 00043: val_loss did not improve from 0.29198\n",
            "\n",
            "Epoch 00044: val_loss did not improve from 0.29198\n",
            "\n",
            "Epoch 00045: val_loss did not improve from 0.29198\n",
            "\n",
            "Epoch 00046: val_loss did not improve from 0.29198\n",
            "\n",
            "Epoch 00047: val_loss did not improve from 0.29198\n",
            "\n",
            "Epoch 00048: val_loss did not improve from 0.29198\n",
            "\n",
            "Epoch 00049: val_loss did not improve from 0.29198\n",
            "\n",
            "Epoch 00050: val_loss improved from 0.29198 to 0.29119, saving model to model/sonar.h5\n",
            "\n",
            "Epoch 00051: val_loss improved from 0.29119 to 0.29104, saving model to model/sonar.h5\n",
            "\n",
            "Epoch 00052: val_loss improved from 0.29104 to 0.28912, saving model to model/sonar.h5\n",
            "\n",
            "Epoch 00053: val_loss improved from 0.28912 to 0.28872, saving model to model/sonar.h5\n",
            "\n",
            "Epoch 00054: val_loss improved from 0.28872 to 0.28667, saving model to model/sonar.h5\n",
            "\n",
            "Epoch 00055: val_loss improved from 0.28667 to 0.28536, saving model to model/sonar.h5\n",
            "\n",
            "Epoch 00056: val_loss improved from 0.28536 to 0.28435, saving model to model/sonar.h5\n",
            "\n",
            "Epoch 00057: val_loss improved from 0.28435 to 0.28362, saving model to model/sonar.h5\n",
            "\n",
            "Epoch 00058: val_loss improved from 0.28362 to 0.28326, saving model to model/sonar.h5\n",
            "\n",
            "Epoch 00059: val_loss improved from 0.28326 to 0.28175, saving model to model/sonar.h5\n",
            "\n",
            "Epoch 00060: val_loss improved from 0.28175 to 0.28159, saving model to model/sonar.h5\n",
            "\n",
            "Epoch 00061: val_loss improved from 0.28159 to 0.28136, saving model to model/sonar.h5\n",
            "\n",
            "Epoch 00062: val_loss improved from 0.28136 to 0.27951, saving model to model/sonar.h5\n",
            "\n",
            "Epoch 00063: val_loss improved from 0.27951 to 0.27800, saving model to model/sonar.h5\n",
            "\n",
            "Epoch 00064: val_loss improved from 0.27800 to 0.27620, saving model to model/sonar.h5\n",
            "\n",
            "Epoch 00065: val_loss improved from 0.27620 to 0.27458, saving model to model/sonar.h5\n",
            "\n",
            "Epoch 00066: val_loss improved from 0.27458 to 0.27410, saving model to model/sonar.h5\n",
            "\n",
            "Epoch 00067: val_loss improved from 0.27410 to 0.27395, saving model to model/sonar.h5\n",
            "\n",
            "Epoch 00068: val_loss improved from 0.27395 to 0.27385, saving model to model/sonar.h5\n",
            "\n",
            "Epoch 00069: val_loss improved from 0.27385 to 0.27298, saving model to model/sonar.h5\n",
            "\n",
            "Epoch 00070: val_loss improved from 0.27298 to 0.27123, saving model to model/sonar.h5\n",
            "\n",
            "Epoch 00071: val_loss improved from 0.27123 to 0.27026, saving model to model/sonar.h5\n",
            "\n",
            "Epoch 00072: val_loss improved from 0.27026 to 0.27018, saving model to model/sonar.h5\n",
            "\n",
            "Epoch 00073: val_loss improved from 0.27018 to 0.26958, saving model to model/sonar.h5\n",
            "\n",
            "Epoch 00074: val_loss did not improve from 0.26958\n",
            "\n",
            "Epoch 00075: val_loss improved from 0.26958 to 0.26936, saving model to model/sonar.h5\n",
            "\n",
            "Epoch 00076: val_loss improved from 0.26936 to 0.26931, saving model to model/sonar.h5\n",
            "\n",
            "Epoch 00077: val_loss did not improve from 0.26931\n",
            "\n",
            "Epoch 00078: val_loss improved from 0.26931 to 0.26891, saving model to model/sonar.h5\n",
            "\n",
            "Epoch 00079: val_loss improved from 0.26891 to 0.26872, saving model to model/sonar.h5\n",
            "\n",
            "Epoch 00080: val_loss did not improve from 0.26872\n",
            "\n",
            "Epoch 00081: val_loss improved from 0.26872 to 0.26815, saving model to model/sonar.h5\n",
            "\n",
            "Epoch 00082: val_loss did not improve from 0.26815\n",
            "\n",
            "Epoch 00083: val_loss improved from 0.26815 to 0.26778, saving model to model/sonar.h5\n",
            "\n",
            "Epoch 00084: val_loss improved from 0.26778 to 0.26742, saving model to model/sonar.h5\n",
            "\n",
            "Epoch 00085: val_loss did not improve from 0.26742\n",
            "\n",
            "Epoch 00086: val_loss improved from 0.26742 to 0.26604, saving model to model/sonar.h5\n",
            "\n",
            "Epoch 00087: val_loss improved from 0.26604 to 0.26524, saving model to model/sonar.h5\n",
            "\n",
            "Epoch 00088: val_loss improved from 0.26524 to 0.26308, saving model to model/sonar.h5\n",
            "\n",
            "Epoch 00089: val_loss improved from 0.26308 to 0.26296, saving model to model/sonar.h5\n",
            "\n",
            "Epoch 00090: val_loss did not improve from 0.26296\n",
            "\n",
            "Epoch 00091: val_loss improved from 0.26296 to 0.26247, saving model to model/sonar.h5\n",
            "\n",
            "Epoch 00092: val_loss improved from 0.26247 to 0.26164, saving model to model/sonar.h5\n",
            "\n",
            "Epoch 00093: val_loss improved from 0.26164 to 0.26143, saving model to model/sonar.h5\n",
            "\n",
            "Epoch 00094: val_loss improved from 0.26143 to 0.26003, saving model to model/sonar.h5\n",
            "\n",
            "Epoch 00095: val_loss improved from 0.26003 to 0.25963, saving model to model/sonar.h5\n",
            "\n",
            "Epoch 00096: val_loss improved from 0.25963 to 0.25930, saving model to model/sonar.h5\n",
            "\n",
            "Epoch 00097: val_loss improved from 0.25930 to 0.25843, saving model to model/sonar.h5\n",
            "\n",
            "Epoch 00098: val_loss improved from 0.25843 to 0.25819, saving model to model/sonar.h5\n",
            "\n",
            "Epoch 00099: val_loss improved from 0.25819 to 0.25771, saving model to model/sonar.h5\n",
            "\n",
            "Epoch 00100: val_loss improved from 0.25771 to 0.25746, saving model to model/sonar.h5\n",
            "\n",
            "Epoch 00101: val_loss improved from 0.25746 to 0.25730, saving model to model/sonar.h5\n",
            "\n",
            "Epoch 00102: val_loss did not improve from 0.25730\n",
            "\n",
            "Epoch 00103: val_loss did not improve from 0.25730\n",
            "\n",
            "Epoch 00104: val_loss did not improve from 0.25730\n",
            "\n",
            "Epoch 00105: val_loss did not improve from 0.25730\n",
            "\n",
            "Epoch 00106: val_loss improved from 0.25730 to 0.25713, saving model to model/sonar.h5\n",
            "\n",
            "Epoch 00107: val_loss improved from 0.25713 to 0.25634, saving model to model/sonar.h5\n",
            "\n",
            "Epoch 00108: val_loss improved from 0.25634 to 0.25581, saving model to model/sonar.h5\n",
            "\n",
            "Epoch 00109: val_loss improved from 0.25581 to 0.25567, saving model to model/sonar.h5\n",
            "\n",
            "Epoch 00110: val_loss improved from 0.25567 to 0.25552, saving model to model/sonar.h5\n",
            "\n",
            "Epoch 00111: val_loss improved from 0.25552 to 0.25528, saving model to model/sonar.h5\n",
            "\n",
            "Epoch 00112: val_loss did not improve from 0.25528\n",
            "\n",
            "Epoch 00113: val_loss did not improve from 0.25528\n",
            "\n",
            "Epoch 00114: val_loss did not improve from 0.25528\n",
            "\n",
            "Epoch 00115: val_loss did not improve from 0.25528\n",
            "\n",
            "Epoch 00116: val_loss did not improve from 0.25528\n",
            "\n",
            "Epoch 00117: val_loss did not improve from 0.25528\n",
            "\n",
            "Epoch 00118: val_loss did not improve from 0.25528\n",
            "\n",
            "Epoch 00119: val_loss did not improve from 0.25528\n",
            "\n",
            "Epoch 00120: val_loss did not improve from 0.25528\n",
            "\n",
            "Epoch 00121: val_loss did not improve from 0.25528\n",
            "\n",
            "Epoch 00122: val_loss improved from 0.25528 to 0.25510, saving model to model/sonar.h5\n",
            "\n",
            "Epoch 00123: val_loss did not improve from 0.25510\n",
            "\n",
            "Epoch 00124: val_loss did not improve from 0.25510\n",
            "\n",
            "Epoch 00125: val_loss did not improve from 0.25510\n",
            "\n",
            "Epoch 00126: val_loss did not improve from 0.25510\n",
            "\n",
            "Epoch 00127: val_loss did not improve from 0.25510\n",
            "\n",
            "Epoch 00128: val_loss improved from 0.25510 to 0.25458, saving model to model/sonar.h5\n",
            "\n",
            "Epoch 00129: val_loss did not improve from 0.25458\n",
            "\n",
            "Epoch 00130: val_loss did not improve from 0.25458\n",
            "\n",
            "Epoch 00131: val_loss improved from 0.25458 to 0.25436, saving model to model/sonar.h5\n",
            "\n",
            "Epoch 00132: val_loss improved from 0.25436 to 0.25421, saving model to model/sonar.h5\n",
            "\n",
            "Epoch 00133: val_loss improved from 0.25421 to 0.25384, saving model to model/sonar.h5\n",
            "\n",
            "Epoch 00134: val_loss improved from 0.25384 to 0.25353, saving model to model/sonar.h5\n",
            "\n",
            "Epoch 00135: val_loss improved from 0.25353 to 0.25340, saving model to model/sonar.h5\n",
            "\n",
            "Epoch 00136: val_loss improved from 0.25340 to 0.25281, saving model to model/sonar.h5\n",
            "\n",
            "Epoch 00137: val_loss improved from 0.25281 to 0.25238, saving model to model/sonar.h5\n",
            "\n",
            "Epoch 00138: val_loss did not improve from 0.25238\n",
            "\n",
            "Epoch 00139: val_loss improved from 0.25238 to 0.25221, saving model to model/sonar.h5\n",
            "\n",
            "Epoch 00140: val_loss improved from 0.25221 to 0.25170, saving model to model/sonar.h5\n",
            "\n",
            "Epoch 00141: val_loss improved from 0.25170 to 0.25094, saving model to model/sonar.h5\n",
            "\n",
            "Epoch 00142: val_loss improved from 0.25094 to 0.25071, saving model to model/sonar.h5\n",
            "\n",
            "Epoch 00143: val_loss did not improve from 0.25071\n",
            "\n",
            "Epoch 00144: val_loss did not improve from 0.25071\n",
            "\n",
            "Epoch 00145: val_loss did not improve from 0.25071\n",
            "\n",
            "Epoch 00146: val_loss improved from 0.25071 to 0.25040, saving model to model/sonar.h5\n",
            "\n",
            "Epoch 00147: val_loss improved from 0.25040 to 0.25005, saving model to model/sonar.h5\n",
            "\n",
            "Epoch 00148: val_loss improved from 0.25005 to 0.25003, saving model to model/sonar.h5\n",
            "\n",
            "Epoch 00149: val_loss did not improve from 0.25003\n",
            "\n",
            "Epoch 00150: val_loss did not improve from 0.25003\n",
            "\n",
            "Epoch 00151: val_loss did not improve from 0.25003\n",
            "\n",
            "Epoch 00152: val_loss did not improve from 0.25003\n",
            "\n",
            "Epoch 00153: val_loss did not improve from 0.25003\n",
            "\n",
            "Epoch 00154: val_loss did not improve from 0.25003\n",
            "\n",
            "Epoch 00155: val_loss did not improve from 0.25003\n",
            "\n",
            "Epoch 00156: val_loss did not improve from 0.25003\n",
            "\n",
            "Epoch 00157: val_loss did not improve from 0.25003\n",
            "\n",
            "Epoch 00158: val_loss did not improve from 0.25003\n",
            "\n",
            "Epoch 00159: val_loss did not improve from 0.25003\n",
            "\n",
            "Epoch 00160: val_loss did not improve from 0.25003\n",
            "\n",
            "Epoch 00161: val_loss did not improve from 0.25003\n",
            "\n",
            "Epoch 00162: val_loss did not improve from 0.25003\n",
            "\n",
            "Epoch 00163: val_loss did not improve from 0.25003\n",
            "\n",
            "Epoch 00164: val_loss did not improve from 0.25003\n",
            "\n",
            "Epoch 00165: val_loss did not improve from 0.25003\n",
            "\n",
            "Epoch 00166: val_loss did not improve from 0.25003\n",
            "\n",
            "Epoch 00167: val_loss did not improve from 0.25003\n",
            "\n",
            "Epoch 00168: val_loss did not improve from 0.25003\n",
            "\n",
            "Epoch 00169: val_loss did not improve from 0.25003\n",
            "\n",
            "Epoch 00170: val_loss did not improve from 0.25003\n",
            "\n",
            "Epoch 00171: val_loss did not improve from 0.25003\n",
            "\n",
            "Epoch 00172: val_loss did not improve from 0.25003\n",
            "\n",
            "Epoch 00173: val_loss did not improve from 0.25003\n",
            "\n",
            "Epoch 00174: val_loss did not improve from 0.25003\n",
            "\n",
            "Epoch 00175: val_loss did not improve from 0.25003\n",
            "\n",
            "Epoch 00176: val_loss did not improve from 0.25003\n",
            "\n",
            "Epoch 00177: val_loss did not improve from 0.25003\n",
            "\n",
            "Epoch 00178: val_loss did not improve from 0.25003\n",
            "\n",
            "Epoch 00179: val_loss did not improve from 0.25003\n",
            "\n",
            "Epoch 00180: val_loss did not improve from 0.25003\n",
            "\n",
            "Epoch 00181: val_loss did not improve from 0.25003\n",
            "\n",
            "Epoch 00182: val_loss did not improve from 0.25003\n",
            "\n",
            "Epoch 00183: val_loss did not improve from 0.25003\n",
            "\n",
            "Epoch 00184: val_loss did not improve from 0.25003\n",
            "\n",
            "Epoch 00185: val_loss did not improve from 0.25003\n",
            "\n",
            "Epoch 00186: val_loss did not improve from 0.25003\n",
            "\n",
            "Epoch 00187: val_loss did not improve from 0.25003\n",
            "\n",
            "Epoch 00188: val_loss did not improve from 0.25003\n",
            "\n",
            "Epoch 00189: val_loss did not improve from 0.25003\n",
            "\n",
            "Epoch 00190: val_loss did not improve from 0.25003\n",
            "\n",
            "Epoch 00191: val_loss did not improve from 0.25003\n",
            "\n",
            "Epoch 00192: val_loss did not improve from 0.25003\n",
            "\n",
            "Epoch 00193: val_loss did not improve from 0.25003\n",
            "\n",
            "Epoch 00194: val_loss did not improve from 0.25003\n",
            "\n",
            "Epoch 00195: val_loss did not improve from 0.25003\n",
            "\n",
            "Epoch 00196: val_loss did not improve from 0.25003\n",
            "\n",
            "Epoch 00197: val_loss did not improve from 0.25003\n",
            "\n",
            "Epoch 00198: val_loss did not improve from 0.25003\n",
            "\n",
            "Epoch 00199: val_loss did not improve from 0.25003\n",
            "\n",
            "Epoch 00200: val_loss did not improve from 0.25003\n",
            "\n",
            "Epoch 00201: val_loss did not improve from 0.25003\n",
            "\n",
            "Epoch 00202: val_loss did not improve from 0.25003\n",
            "\n",
            "Epoch 00203: val_loss did not improve from 0.25003\n",
            "\n",
            "Epoch 00204: val_loss did not improve from 0.25003\n",
            "\n",
            "Epoch 00205: val_loss did not improve from 0.25003\n",
            "\n",
            "Epoch 00206: val_loss did not improve from 0.25003\n",
            "\n",
            "Epoch 00207: val_loss did not improve from 0.25003\n",
            "\n",
            "Epoch 00208: val_loss did not improve from 0.25003\n",
            "\n",
            "Epoch 00209: val_loss did not improve from 0.25003\n",
            "\n",
            "Epoch 00210: val_loss did not improve from 0.25003\n",
            "\n",
            "Epoch 00211: val_loss did not improve from 0.25003\n",
            "\n",
            "Epoch 00212: val_loss did not improve from 0.25003\n",
            "\n",
            "Epoch 00213: val_loss did not improve from 0.25003\n",
            "\n",
            "Epoch 00214: val_loss did not improve from 0.25003\n",
            "\n",
            "Epoch 00215: val_loss did not improve from 0.25003\n",
            "\n",
            "Epoch 00216: val_loss did not improve from 0.25003\n",
            "\n",
            "Epoch 00217: val_loss did not improve from 0.25003\n",
            "\n",
            "Epoch 00218: val_loss did not improve from 0.25003\n",
            "\n",
            "Epoch 00219: val_loss did not improve from 0.25003\n",
            "\n",
            "Epoch 00220: val_loss did not improve from 0.25003\n",
            "\n",
            "Epoch 00221: val_loss did not improve from 0.25003\n",
            "\n",
            "Epoch 00222: val_loss did not improve from 0.25003\n",
            "\n",
            "Epoch 00223: val_loss did not improve from 0.25003\n",
            "\n",
            "Epoch 00224: val_loss did not improve from 0.25003\n",
            "\n",
            "Epoch 00225: val_loss did not improve from 0.25003\n",
            "\n",
            "Epoch 00226: val_loss did not improve from 0.25003\n",
            "\n",
            "Epoch 00227: val_loss did not improve from 0.25003\n",
            "\n",
            "Epoch 00228: val_loss did not improve from 0.25003\n",
            "\n",
            "Epoch 00229: val_loss did not improve from 0.25003\n",
            "\n",
            "Epoch 00230: val_loss did not improve from 0.25003\n",
            "\n",
            "Epoch 00231: val_loss did not improve from 0.25003\n",
            "\n",
            "Epoch 00232: val_loss did not improve from 0.25003\n",
            "\n",
            "Epoch 00233: val_loss did not improve from 0.25003\n",
            "\n",
            "Epoch 00234: val_loss did not improve from 0.25003\n",
            "\n",
            "Epoch 00235: val_loss did not improve from 0.25003\n",
            "\n",
            "Epoch 00236: val_loss did not improve from 0.25003\n",
            "\n",
            "Epoch 00237: val_loss did not improve from 0.25003\n",
            "\n",
            "Epoch 00238: val_loss did not improve from 0.25003\n",
            "\n",
            "Epoch 00239: val_loss did not improve from 0.25003\n",
            "\n",
            "Epoch 00240: val_loss did not improve from 0.25003\n",
            "\n",
            "Epoch 00241: val_loss did not improve from 0.25003\n",
            "\n",
            "Epoch 00242: val_loss did not improve from 0.25003\n",
            "\n",
            "Epoch 00243: val_loss did not improve from 0.25003\n",
            "\n",
            "Epoch 00244: val_loss did not improve from 0.25003\n",
            "\n",
            "Epoch 00245: val_loss did not improve from 0.25003\n",
            "\n",
            "Epoch 00246: val_loss did not improve from 0.25003\n",
            "\n",
            "Epoch 00247: val_loss did not improve from 0.25003\n",
            "\n",
            "Epoch 00248: val_loss did not improve from 0.25003\n",
            "\n",
            "Epoch 00249: val_loss did not improve from 0.25003\n",
            "\n",
            "Epoch 00250: val_loss did not improve from 0.25003\n",
            "\n",
            "Epoch 00251: val_loss did not improve from 0.25003\n",
            "\n",
            "Epoch 00252: val_loss did not improve from 0.25003\n",
            "\n",
            "Epoch 00253: val_loss did not improve from 0.25003\n",
            "\n",
            "Epoch 00254: val_loss did not improve from 0.25003\n",
            "\n",
            "Epoch 00255: val_loss did not improve from 0.25003\n",
            "\n",
            "Epoch 00256: val_loss did not improve from 0.25003\n",
            "\n",
            "Epoch 00257: val_loss did not improve from 0.25003\n",
            "\n",
            "Epoch 00258: val_loss did not improve from 0.25003\n",
            "\n",
            "Epoch 00259: val_loss did not improve from 0.25003\n",
            "\n",
            "Epoch 00260: val_loss did not improve from 0.25003\n",
            "\n",
            "Epoch 00261: val_loss did not improve from 0.25003\n",
            "\n",
            "Epoch 00262: val_loss did not improve from 0.25003\n",
            "\n",
            "Epoch 00263: val_loss did not improve from 0.25003\n",
            "\n",
            "Epoch 00264: val_loss did not improve from 0.25003\n",
            "\n",
            "Epoch 00265: val_loss did not improve from 0.25003\n",
            "\n",
            "Epoch 00266: val_loss did not improve from 0.25003\n",
            "\n",
            "Epoch 00267: val_loss did not improve from 0.25003\n",
            "\n",
            "Epoch 00268: val_loss did not improve from 0.25003\n",
            "\n",
            "Epoch 00269: val_loss did not improve from 0.25003\n",
            "\n",
            "Epoch 00270: val_loss did not improve from 0.25003\n",
            "\n",
            "Epoch 00271: val_loss did not improve from 0.25003\n",
            "\n",
            "Epoch 00272: val_loss did not improve from 0.25003\n",
            "\n",
            "Epoch 00273: val_loss did not improve from 0.25003\n",
            "\n",
            "Epoch 00274: val_loss did not improve from 0.25003\n",
            "\n",
            "Epoch 00275: val_loss did not improve from 0.25003\n",
            "\n",
            "Epoch 00276: val_loss did not improve from 0.25003\n",
            "\n",
            "Epoch 00277: val_loss did not improve from 0.25003\n",
            "\n",
            "Epoch 00278: val_loss did not improve from 0.25003\n",
            "\n",
            "Epoch 00279: val_loss did not improve from 0.25003\n",
            "\n",
            "Epoch 00280: val_loss did not improve from 0.25003\n",
            "\n",
            "Epoch 00281: val_loss did not improve from 0.25003\n",
            "\n",
            "Epoch 00282: val_loss did not improve from 0.25003\n",
            "\n",
            "Epoch 00283: val_loss did not improve from 0.25003\n",
            "\n",
            "Epoch 00284: val_loss did not improve from 0.25003\n",
            "\n",
            "Epoch 00285: val_loss did not improve from 0.25003\n",
            "\n",
            "Epoch 00286: val_loss did not improve from 0.25003\n",
            "\n",
            "Epoch 00287: val_loss did not improve from 0.25003\n",
            "\n",
            "Epoch 00288: val_loss did not improve from 0.25003\n",
            "\n",
            "Epoch 00289: val_loss did not improve from 0.25003\n",
            "\n",
            "Epoch 00290: val_loss did not improve from 0.25003\n",
            "\n",
            "Epoch 00291: val_loss did not improve from 0.25003\n",
            "\n",
            "Epoch 00292: val_loss did not improve from 0.25003\n",
            "\n",
            "Epoch 00293: val_loss did not improve from 0.25003\n",
            "\n",
            "Epoch 00294: val_loss did not improve from 0.25003\n",
            "\n",
            "Epoch 00295: val_loss did not improve from 0.25003\n",
            "\n",
            "Epoch 00296: val_loss did not improve from 0.25003\n",
            "\n",
            "Epoch 00297: val_loss did not improve from 0.25003\n",
            "\n",
            "Epoch 00298: val_loss did not improve from 0.25003\n",
            "\n",
            "Epoch 00299: val_loss did not improve from 0.25003\n",
            "\n",
            "Epoch 00300: val_loss did not improve from 0.25003\n",
            "\n",
            "Epoch 00301: val_loss did not improve from 0.25003\n",
            "\n",
            "Epoch 00302: val_loss did not improve from 0.25003\n",
            "\n",
            "Epoch 00303: val_loss did not improve from 0.25003\n",
            "\n",
            "Epoch 00304: val_loss did not improve from 0.25003\n",
            "\n",
            "Epoch 00305: val_loss did not improve from 0.25003\n",
            "\n",
            "Epoch 00306: val_loss did not improve from 0.25003\n",
            "\n",
            "Epoch 00307: val_loss did not improve from 0.25003\n",
            "\n",
            "Epoch 00308: val_loss did not improve from 0.25003\n",
            "\n",
            "Epoch 00309: val_loss did not improve from 0.25003\n",
            "\n",
            "Epoch 00310: val_loss did not improve from 0.25003\n",
            "\n",
            "Epoch 00311: val_loss did not improve from 0.25003\n",
            "\n",
            "Epoch 00312: val_loss did not improve from 0.25003\n",
            "\n",
            "Epoch 00313: val_loss did not improve from 0.25003\n",
            "\n",
            "Epoch 00314: val_loss did not improve from 0.25003\n",
            "\n",
            "Epoch 00315: val_loss did not improve from 0.25003\n",
            "\n",
            "Epoch 00316: val_loss did not improve from 0.25003\n",
            "\n",
            "Epoch 00317: val_loss did not improve from 0.25003\n",
            "\n",
            "Epoch 00318: val_loss did not improve from 0.25003\n",
            "\n",
            "Epoch 00319: val_loss did not improve from 0.25003\n",
            "\n",
            "Epoch 00320: val_loss did not improve from 0.25003\n",
            "\n",
            "Epoch 00321: val_loss did not improve from 0.25003\n",
            "\n",
            "Epoch 00322: val_loss did not improve from 0.25003\n",
            "\n",
            "Epoch 00323: val_loss did not improve from 0.25003\n",
            "\n",
            "Epoch 00324: val_loss did not improve from 0.25003\n",
            "\n",
            "Epoch 00325: val_loss did not improve from 0.25003\n",
            "\n",
            "Epoch 00326: val_loss did not improve from 0.25003\n",
            "\n",
            "Epoch 00327: val_loss did not improve from 0.25003\n",
            "\n",
            "Epoch 00328: val_loss did not improve from 0.25003\n",
            "\n",
            "Epoch 00329: val_loss did not improve from 0.25003\n",
            "\n",
            "Epoch 00330: val_loss did not improve from 0.25003\n",
            "\n",
            "Epoch 00331: val_loss did not improve from 0.25003\n",
            "\n",
            "Epoch 00332: val_loss did not improve from 0.25003\n",
            "\n",
            "Epoch 00333: val_loss did not improve from 0.25003\n",
            "\n",
            "Epoch 00334: val_loss did not improve from 0.25003\n",
            "\n",
            "Epoch 00335: val_loss did not improve from 0.25003\n",
            "\n",
            "Epoch 00336: val_loss did not improve from 0.25003\n",
            "\n",
            "Epoch 00337: val_loss did not improve from 0.25003\n",
            "\n",
            "Epoch 00338: val_loss did not improve from 0.25003\n",
            "\n",
            "Epoch 00339: val_loss did not improve from 0.25003\n",
            "\n",
            "Epoch 00340: val_loss did not improve from 0.25003\n",
            "\n",
            "Epoch 00341: val_loss did not improve from 0.25003\n",
            "\n",
            "Epoch 00342: val_loss did not improve from 0.25003\n",
            "\n",
            "Epoch 00343: val_loss did not improve from 0.25003\n",
            "\n",
            "Epoch 00344: val_loss did not improve from 0.25003\n",
            "\n",
            "Epoch 00345: val_loss did not improve from 0.25003\n",
            "\n",
            "Epoch 00346: val_loss did not improve from 0.25003\n",
            "\n",
            "Epoch 00347: val_loss did not improve from 0.25003\n",
            "\n",
            "Epoch 00348: val_loss did not improve from 0.25003\n",
            "\n",
            "Epoch 00349: val_loss did not improve from 0.25003\n",
            "\n",
            "Epoch 00350: val_loss did not improve from 0.25003\n",
            "\n",
            "Epoch 00351: val_loss did not improve from 0.25003\n",
            "\n",
            "Epoch 00352: val_loss did not improve from 0.25003\n",
            "\n",
            "Epoch 00353: val_loss did not improve from 0.25003\n",
            "\n",
            "Epoch 00354: val_loss did not improve from 0.25003\n",
            "\n",
            "Epoch 00355: val_loss did not improve from 0.25003\n",
            "\n",
            "Epoch 00356: val_loss did not improve from 0.25003\n",
            "\n",
            "Epoch 00357: val_loss did not improve from 0.25003\n",
            "\n",
            "Epoch 00358: val_loss did not improve from 0.25003\n",
            "\n",
            "Epoch 00359: val_loss did not improve from 0.25003\n",
            "\n",
            "Epoch 00360: val_loss did not improve from 0.25003\n",
            "\n",
            "Epoch 00361: val_loss did not improve from 0.25003\n",
            "\n",
            "Epoch 00362: val_loss did not improve from 0.25003\n",
            "\n",
            "Epoch 00363: val_loss did not improve from 0.25003\n",
            "\n",
            "Epoch 00364: val_loss did not improve from 0.25003\n",
            "\n",
            "Epoch 00365: val_loss did not improve from 0.25003\n",
            "\n",
            "Epoch 00366: val_loss did not improve from 0.25003\n",
            "\n",
            "Epoch 00367: val_loss did not improve from 0.25003\n",
            "\n",
            "Epoch 00368: val_loss did not improve from 0.25003\n",
            "\n",
            "Epoch 00369: val_loss did not improve from 0.25003\n",
            "\n",
            "Epoch 00370: val_loss did not improve from 0.25003\n",
            "\n",
            "Epoch 00371: val_loss did not improve from 0.25003\n",
            "\n",
            "Epoch 00372: val_loss did not improve from 0.25003\n",
            "\n",
            "Epoch 00373: val_loss did not improve from 0.25003\n",
            "\n",
            "Epoch 00374: val_loss did not improve from 0.25003\n",
            "\n",
            "Epoch 00375: val_loss did not improve from 0.25003\n",
            "\n",
            "Epoch 00376: val_loss did not improve from 0.25003\n",
            "\n",
            "Epoch 00377: val_loss did not improve from 0.25003\n",
            "\n",
            "Epoch 00378: val_loss did not improve from 0.25003\n",
            "\n",
            "Epoch 00379: val_loss did not improve from 0.25003\n",
            "\n",
            "Epoch 00380: val_loss did not improve from 0.25003\n",
            "\n",
            "Epoch 00381: val_loss did not improve from 0.25003\n",
            "\n",
            "Epoch 00382: val_loss did not improve from 0.25003\n",
            "\n",
            "Epoch 00383: val_loss did not improve from 0.25003\n",
            "\n",
            "Epoch 00384: val_loss did not improve from 0.25003\n",
            "\n",
            "Epoch 00385: val_loss did not improve from 0.25003\n",
            "\n",
            "Epoch 00386: val_loss did not improve from 0.25003\n",
            "\n",
            "Epoch 00387: val_loss did not improve from 0.25003\n",
            "\n",
            "Epoch 00388: val_loss did not improve from 0.25003\n",
            "\n",
            "Epoch 00389: val_loss did not improve from 0.25003\n",
            "\n",
            "Epoch 00390: val_loss did not improve from 0.25003\n",
            "\n",
            "Epoch 00391: val_loss did not improve from 0.25003\n",
            "\n",
            "Epoch 00392: val_loss did not improve from 0.25003\n",
            "\n",
            "Epoch 00393: val_loss did not improve from 0.25003\n",
            "\n",
            "Epoch 00394: val_loss did not improve from 0.25003\n",
            "\n",
            "Epoch 00395: val_loss did not improve from 0.25003\n",
            "\n",
            "Epoch 00396: val_loss did not improve from 0.25003\n",
            "\n",
            "Epoch 00397: val_loss did not improve from 0.25003\n",
            "\n",
            "Epoch 00398: val_loss did not improve from 0.25003\n",
            "\n",
            "Epoch 00399: val_loss did not improve from 0.25003\n",
            "\n",
            "Epoch 00400: val_loss did not improve from 0.25003\n"
          ]
        }
      ]
    },
    {
      "cell_type": "code",
      "source": [
        "y_acc = hist.history['accuracy']\n",
        "y_vloss = hist.history['val_loss']\n",
        "xs = np.arange(1, len(y_acc)+1)"
      ],
      "metadata": {
        "id": "a9TpsOMFWWR8"
      },
      "execution_count": 34,
      "outputs": []
    },
    {
      "cell_type": "code",
      "source": [
        "plt.figure(figsize=(12,8))\n",
        "plt.plot(xs, y_acc, ms=5, label='train accuracy')\n",
        "plt.plot(xs, y_vloss, ms=5, label='validation loss')\n",
        "plt.legend()\n",
        "plt.grid()\n",
        "plt.xlabel('Epoch')\n",
        "plt.show()"
      ],
      "metadata": {
        "colab": {
          "base_uri": "https://localhost:8080/",
          "height": 497
        },
        "id": "YsaOuMhQWH26",
        "outputId": "511aef4e-9568-439d-abda-fa42fec0e2e0"
      },
      "execution_count": 35,
      "outputs": [
        {
          "output_type": "display_data",
          "data": {
            "image/png": "[encoded data removed]",
            "text/plain": [
              "<Figure size 864x576 with 1 Axes>"
            ]
          },
          "metadata": {
            "needs_background": "light"
          }
        }
      ]
    },
    {
      "cell_type": "code",
      "source": [
        "from tensorflow.keras.models import load_model\n",
        "best_model = load_model(model_path) # val_loss가 최소인 모델 저장\n",
        "best_model.evaluate(X_test, y_test)"
      ],
      "metadata": {
        "colab": {
          "base_uri": "https://localhost:8080/"
        },
        "id": "sw1QArN_WiSM",
        "outputId": "337ac453-0e4f-4701-f17d-cc6d41bcb2b2"
      },
      "execution_count": 36,
      "outputs": [
        {
          "output_type": "stream",
          "name": "stdout",
          "text": [
            "2/2 [==============================] - 0s 7ms/step - loss: 0.4513 - accuracy: 0.8810\n"
          ]
        },
        {
          "output_type": "execute_result",
          "data": {
            "text/plain": [
              "[0.4512503445148468, 0.8809523582458496]"
            ]
          },
          "metadata": {},
          "execution_count": 36
        }
      ]
    },
    {
      "cell_type": "markdown",
      "source": [
        "- 조기 종료시점 설정"
      ],
      "metadata": {
        "id": "LLsix0VWYq2P"
      }
    },
    {
      "cell_type": "code",
      "source": [
        "from tensorflow.keras.callbacks import EarlyStopping\n",
        "\n",
        "early_stopping = EarlyStopping(patience=30)"
      ],
      "metadata": {
        "id": "EyazK2B1X4kE"
      },
      "execution_count": 45,
      "outputs": []
    },
    {
      "cell_type": "code",
      "source": [
        "model = Sequential([\n",
        "    Dense(80, input_dim=60, activation='relu'),\n",
        "    Dense(12, activation='relu'),\n",
        "    Dense(1, activation='sigmoid')\n",
        "])\n",
        "model.summary()"
      ],
      "metadata": {
        "colab": {
          "base_uri": "https://localhost:8080/"
        },
        "id": "IWGWQy2tY6UQ",
        "outputId": "f9100ff5-3b98-4524-e261-77413857a7d0"
      },
      "execution_count": 46,
      "outputs": [
        {
          "output_type": "stream",
          "name": "stdout",
          "text": [
            "Model: \"sequential_7\"\n",
            "_________________________________________________________________\n",
            " Layer (type)                Output Shape              Param #   \n",
            "=================================================================\n",
            " dense_27 (Dense)            (None, 80)                4880      \n",
            "                                                                 \n",
            " dense_28 (Dense)            (None, 12)                972       \n",
            "                                                                 \n",
            " dense_29 (Dense)            (None, 1)                 13        \n",
            "                                                                 \n",
            "=================================================================\n",
            "Total params: 5,865\n",
            "Trainable params: 5,865\n",
            "Non-trainable params: 0\n",
            "_________________________________________________________________\n"
          ]
        }
      ]
    },
    {
      "cell_type": "code",
      "source": [
        "model.compile(optimizer='adam', loss='binary_crossentropy', metrics=['accuracy'])\n",
        "hist = model.fit(\n",
        "    X_train, y_train, validation_split=0.2, \n",
        "    epochs=400, batch_size=50, verbose=1,\n",
        "    callbacks=[checkpoint, early_stopping]  # checkpoint: best model만 save # early_stopping: 30번 동안 수치가 나아지지 않으면 stop\n",
        ")"
      ],
      "metadata": {
        "colab": {
          "base_uri": "https://localhost:8080/"
        },
        "id": "F_sU57eJZIAd",
        "outputId": "951e74f7-441f-4a77-acfa-1e28a5946be9"
      },
      "execution_count": 47,
      "outputs": [
        {
          "output_type": "stream",
          "name": "stdout",
          "text": [
            "Epoch 1/400\n",
            "1/3 [=========>....................] - ETA: 0s - loss: 0.7988 - accuracy: 0.4000\n",
            "Epoch 00001: val_loss did not improve from 0.22971\n",
            "3/3 [==============================] - 1s 83ms/step - loss: 0.7181 - accuracy: 0.5303 - val_loss: 0.6538 - val_accuracy: 0.6176\n",
            "Epoch 2/400\n",
            "1/3 [=========>....................] - ETA: 0s - loss: 0.6709 - accuracy: 0.6400\n",
            "Epoch 00002: val_loss did not improve from 0.22971\n",
            "3/3 [==============================] - 0s 15ms/step - loss: 0.6389 - accuracy: 0.6742 - val_loss: 0.6149 - val_accuracy: 0.7059\n",
            "Epoch 3/400\n",
            "1/3 [=========>....................] - ETA: 0s - loss: 0.5535 - accuracy: 0.8200\n",
            "Epoch 00003: val_loss did not improve from 0.22971\n",
            "3/3 [==============================] - 0s 15ms/step - loss: 0.5828 - accuracy: 0.7273 - val_loss: 0.5860 - val_accuracy: 0.7941\n",
            "Epoch 4/400\n",
            "1/3 [=========>....................] - ETA: 0s - loss: 0.5531 - accuracy: 0.8000\n",
            "Epoch 00004: val_loss did not improve from 0.22971\n",
            "3/3 [==============================] - 0s 15ms/step - loss: 0.5414 - accuracy: 0.7727 - val_loss: 0.5605 - val_accuracy: 0.7941\n",
            "Epoch 5/400\n",
            "1/3 [=========>....................] - ETA: 0s - loss: 0.5403 - accuracy: 0.7600\n",
            "Epoch 00005: val_loss did not improve from 0.22971\n",
            "3/3 [==============================] - 0s 16ms/step - loss: 0.5032 - accuracy: 0.8106 - val_loss: 0.5365 - val_accuracy: 0.7941\n",
            "Epoch 6/400\n",
            "1/3 [=========>....................] - ETA: 0s - loss: 0.4610 - accuracy: 0.8200\n",
            "Epoch 00006: val_loss did not improve from 0.22971\n",
            "3/3 [==============================] - 0s 17ms/step - loss: 0.4684 - accuracy: 0.8409 - val_loss: 0.5147 - val_accuracy: 0.8235\n",
            "Epoch 7/400\n",
            "1/3 [=========>....................] - ETA: 0s - loss: 0.4846 - accuracy: 0.8400\n",
            "Epoch 00007: val_loss did not improve from 0.22971\n",
            "3/3 [==============================] - 0s 17ms/step - loss: 0.4377 - accuracy: 0.8409 - val_loss: 0.4956 - val_accuracy: 0.8529\n",
            "Epoch 8/400\n",
            "1/3 [=========>....................] - ETA: 0s - loss: 0.4244 - accuracy: 0.8800\n",
            "Epoch 00008: val_loss did not improve from 0.22971\n",
            "3/3 [==============================] - 0s 15ms/step - loss: 0.4095 - accuracy: 0.8712 - val_loss: 0.4778 - val_accuracy: 0.8529\n",
            "Epoch 9/400\n",
            "1/3 [=========>....................] - ETA: 0s - loss: 0.4049 - accuracy: 0.8800\n",
            "Epoch 00009: val_loss did not improve from 0.22971\n",
            "3/3 [==============================] - 0s 15ms/step - loss: 0.3826 - accuracy: 0.9015 - val_loss: 0.4619 - val_accuracy: 0.8529\n",
            "Epoch 10/400\n",
            "1/3 [=========>....................] - ETA: 0s - loss: 0.3865 - accuracy: 0.9200\n",
            "Epoch 00010: val_loss did not improve from 0.22971\n",
            "3/3 [==============================] - 0s 16ms/step - loss: 0.3588 - accuracy: 0.9318 - val_loss: 0.4487 - val_accuracy: 0.8529\n",
            "Epoch 11/400\n",
            "1/3 [=========>....................] - ETA: 0s - loss: 0.3286 - accuracy: 0.9200\n",
            "Epoch 00011: val_loss did not improve from 0.22971\n",
            "3/3 [==============================] - 0s 17ms/step - loss: 0.3369 - accuracy: 0.9318 - val_loss: 0.4370 - val_accuracy: 0.8235\n",
            "Epoch 12/400\n",
            "1/3 [=========>....................] - ETA: 0s - loss: 0.3891 - accuracy: 0.9000\n",
            "Epoch 00012: val_loss did not improve from 0.22971\n",
            "3/3 [==============================] - 0s 16ms/step - loss: 0.3163 - accuracy: 0.9318 - val_loss: 0.4278 - val_accuracy: 0.8235\n",
            "Epoch 13/400\n",
            "1/3 [=========>....................] - ETA: 0s - loss: 0.3394 - accuracy: 0.9000\n",
            "Epoch 00013: val_loss did not improve from 0.22971\n",
            "3/3 [==============================] - 0s 17ms/step - loss: 0.2979 - accuracy: 0.9470 - val_loss: 0.4195 - val_accuracy: 0.8235\n",
            "Epoch 14/400\n",
            "1/3 [=========>....................] - ETA: 0s - loss: 0.3141 - accuracy: 0.9000\n",
            "Epoch 00014: val_loss did not improve from 0.22971\n",
            "3/3 [==============================] - 0s 15ms/step - loss: 0.2802 - accuracy: 0.9470 - val_loss: 0.4118 - val_accuracy: 0.8235\n",
            "Epoch 15/400\n",
            "1/3 [=========>....................] - ETA: 0s - loss: 0.2807 - accuracy: 0.9200\n",
            "Epoch 00015: val_loss did not improve from 0.22971\n",
            "3/3 [==============================] - 0s 15ms/step - loss: 0.2639 - accuracy: 0.9545 - val_loss: 0.4057 - val_accuracy: 0.8235\n",
            "Epoch 16/400\n",
            "1/3 [=========>....................] - ETA: 0s - loss: 0.2808 - accuracy: 0.9200\n",
            "Epoch 00016: val_loss did not improve from 0.22971\n",
            "3/3 [==============================] - 0s 17ms/step - loss: 0.2485 - accuracy: 0.9545 - val_loss: 0.3992 - val_accuracy: 0.8235\n",
            "Epoch 17/400\n",
            "1/3 [=========>....................] - ETA: 0s - loss: 0.2702 - accuracy: 0.9400\n",
            "Epoch 00017: val_loss did not improve from 0.22971\n",
            "3/3 [==============================] - 0s 23ms/step - loss: 0.2341 - accuracy: 0.9621 - val_loss: 0.3937 - val_accuracy: 0.8235\n",
            "Epoch 18/400\n",
            "1/3 [=========>....................] - ETA: 0s - loss: 0.2455 - accuracy: 0.9400\n",
            "Epoch 00018: val_loss did not improve from 0.22971\n",
            "3/3 [==============================] - 0s 15ms/step - loss: 0.2205 - accuracy: 0.9621 - val_loss: 0.3891 - val_accuracy: 0.8529\n",
            "Epoch 19/400\n",
            "1/3 [=========>....................] - ETA: 0s - loss: 0.2035 - accuracy: 0.9800\n",
            "Epoch 00019: val_loss did not improve from 0.22971\n",
            "3/3 [==============================] - 0s 15ms/step - loss: 0.2080 - accuracy: 0.9621 - val_loss: 0.3860 - val_accuracy: 0.8529\n",
            "Epoch 20/400\n",
            "1/3 [=========>....................] - ETA: 0s - loss: 0.1699 - accuracy: 0.9400\n",
            "Epoch 00020: val_loss did not improve from 0.22971\n",
            "3/3 [==============================] - 0s 18ms/step - loss: 0.1959 - accuracy: 0.9621 - val_loss: 0.3825 - val_accuracy: 0.8529\n",
            "Epoch 21/400\n",
            "1/3 [=========>....................] - ETA: 0s - loss: 0.1650 - accuracy: 1.0000\n",
            "Epoch 00021: val_loss did not improve from 0.22971\n",
            "3/3 [==============================] - 0s 15ms/step - loss: 0.1844 - accuracy: 0.9773 - val_loss: 0.3793 - val_accuracy: 0.8529\n",
            "Epoch 22/400\n",
            "1/3 [=========>....................] - ETA: 0s - loss: 0.1579 - accuracy: 0.9800\n",
            "Epoch 00022: val_loss did not improve from 0.22971\n",
            "3/3 [==============================] - 0s 16ms/step - loss: 0.1736 - accuracy: 0.9773 - val_loss: 0.3769 - val_accuracy: 0.8235\n",
            "Epoch 23/400\n",
            "1/3 [=========>....................] - ETA: 0s - loss: 0.1813 - accuracy: 0.9600\n",
            "Epoch 00023: val_loss did not improve from 0.22971\n",
            "3/3 [==============================] - 0s 19ms/step - loss: 0.1636 - accuracy: 0.9773 - val_loss: 0.3748 - val_accuracy: 0.8235\n",
            "Epoch 24/400\n",
            "1/3 [=========>....................] - ETA: 0s - loss: 0.1589 - accuracy: 0.9800\n",
            "Epoch 00024: val_loss did not improve from 0.22971\n",
            "3/3 [==============================] - 0s 16ms/step - loss: 0.1539 - accuracy: 0.9848 - val_loss: 0.3716 - val_accuracy: 0.8235\n",
            "Epoch 25/400\n",
            "1/3 [=========>....................] - ETA: 0s - loss: 0.1644 - accuracy: 0.9800\n",
            "Epoch 00025: val_loss did not improve from 0.22971\n",
            "3/3 [==============================] - 0s 15ms/step - loss: 0.1446 - accuracy: 0.9924 - val_loss: 0.3679 - val_accuracy: 0.8235\n",
            "Epoch 26/400\n",
            "1/3 [=========>....................] - ETA: 0s - loss: 0.1466 - accuracy: 1.0000\n",
            "Epoch 00026: val_loss did not improve from 0.22971\n",
            "3/3 [==============================] - 0s 17ms/step - loss: 0.1360 - accuracy: 1.0000 - val_loss: 0.3643 - val_accuracy: 0.8235\n",
            "Epoch 27/400\n",
            "1/3 [=========>....................] - ETA: 0s - loss: 0.1251 - accuracy: 1.0000\n",
            "Epoch 00027: val_loss did not improve from 0.22971\n",
            "3/3 [==============================] - 0s 16ms/step - loss: 0.1280 - accuracy: 1.0000 - val_loss: 0.3633 - val_accuracy: 0.8235\n",
            "Epoch 28/400\n",
            "1/3 [=========>....................] - ETA: 0s - loss: 0.1125 - accuracy: 1.0000\n",
            "Epoch 00028: val_loss did not improve from 0.22971\n",
            "3/3 [==============================] - 0s 17ms/step - loss: 0.1202 - accuracy: 1.0000 - val_loss: 0.3625 - val_accuracy: 0.8235\n",
            "Epoch 29/400\n",
            "1/3 [=========>....................] - ETA: 0s - loss: 0.1091 - accuracy: 1.0000\n",
            "Epoch 00029: val_loss did not improve from 0.22971\n",
            "3/3 [==============================] - 0s 16ms/step - loss: 0.1131 - accuracy: 1.0000 - val_loss: 0.3602 - val_accuracy: 0.8235\n",
            "Epoch 30/400\n",
            "1/3 [=========>....................] - ETA: 0s - loss: 0.1024 - accuracy: 1.0000\n",
            "Epoch 00030: val_loss did not improve from 0.22971\n",
            "3/3 [==============================] - 0s 20ms/step - loss: 0.1066 - accuracy: 1.0000 - val_loss: 0.3587 - val_accuracy: 0.8235\n",
            "Epoch 31/400\n",
            "1/3 [=========>....................] - ETA: 0s - loss: 0.1083 - accuracy: 1.0000\n",
            "Epoch 00031: val_loss did not improve from 0.22971\n",
            "3/3 [==============================] - 0s 15ms/step - loss: 0.1006 - accuracy: 1.0000 - val_loss: 0.3561 - val_accuracy: 0.8235\n",
            "Epoch 32/400\n",
            "1/3 [=========>....................] - ETA: 0s - loss: 0.0826 - accuracy: 1.0000\n",
            "Epoch 00032: val_loss did not improve from 0.22971\n",
            "3/3 [==============================] - 0s 18ms/step - loss: 0.0944 - accuracy: 1.0000 - val_loss: 0.3566 - val_accuracy: 0.8235\n",
            "Epoch 33/400\n",
            "1/3 [=========>....................] - ETA: 0s - loss: 0.0775 - accuracy: 1.0000\n",
            "Epoch 00033: val_loss did not improve from 0.22971\n",
            "3/3 [==============================] - 0s 16ms/step - loss: 0.0888 - accuracy: 1.0000 - val_loss: 0.3580 - val_accuracy: 0.8235\n",
            "Epoch 34/400\n",
            "1/3 [=========>....................] - ETA: 0s - loss: 0.0726 - accuracy: 1.0000\n",
            "Epoch 00034: val_loss did not improve from 0.22971\n",
            "3/3 [==============================] - 0s 16ms/step - loss: 0.0837 - accuracy: 1.0000 - val_loss: 0.3594 - val_accuracy: 0.8235\n",
            "Epoch 35/400\n",
            "1/3 [=========>....................] - ETA: 0s - loss: 0.0629 - accuracy: 1.0000\n",
            "Epoch 00035: val_loss did not improve from 0.22971\n",
            "3/3 [==============================] - 0s 16ms/step - loss: 0.0789 - accuracy: 1.0000 - val_loss: 0.3591 - val_accuracy: 0.8235\n",
            "Epoch 36/400\n",
            "1/3 [=========>....................] - ETA: 0s - loss: 0.0573 - accuracy: 1.0000\n",
            "Epoch 00036: val_loss did not improve from 0.22971\n",
            "3/3 [==============================] - 0s 18ms/step - loss: 0.0747 - accuracy: 1.0000 - val_loss: 0.3599 - val_accuracy: 0.8235\n",
            "Epoch 37/400\n",
            "1/3 [=========>....................] - ETA: 0s - loss: 0.0775 - accuracy: 1.0000\n",
            "Epoch 00037: val_loss did not improve from 0.22971\n",
            "3/3 [==============================] - 0s 18ms/step - loss: 0.0705 - accuracy: 1.0000 - val_loss: 0.3580 - val_accuracy: 0.8235\n",
            "Epoch 38/400\n",
            "1/3 [=========>....................] - ETA: 0s - loss: 0.0580 - accuracy: 1.0000\n",
            "Epoch 00038: val_loss did not improve from 0.22971\n",
            "3/3 [==============================] - 0s 17ms/step - loss: 0.0663 - accuracy: 1.0000 - val_loss: 0.3553 - val_accuracy: 0.8235\n",
            "Epoch 39/400\n",
            "1/3 [=========>....................] - ETA: 0s - loss: 0.0737 - accuracy: 1.0000\n",
            "Epoch 00039: val_loss did not improve from 0.22971\n",
            "3/3 [==============================] - 0s 16ms/step - loss: 0.0627 - accuracy: 1.0000 - val_loss: 0.3531 - val_accuracy: 0.8235\n",
            "Epoch 40/400\n",
            "1/3 [=========>....................] - ETA: 0s - loss: 0.0584 - accuracy: 1.0000\n",
            "Epoch 00040: val_loss did not improve from 0.22971\n",
            "3/3 [==============================] - 0s 19ms/step - loss: 0.0593 - accuracy: 1.0000 - val_loss: 0.3518 - val_accuracy: 0.8235\n",
            "Epoch 41/400\n",
            "1/3 [=========>....................] - ETA: 0s - loss: 0.0660 - accuracy: 1.0000\n",
            "Epoch 00041: val_loss did not improve from 0.22971\n",
            "3/3 [==============================] - 0s 15ms/step - loss: 0.0561 - accuracy: 1.0000 - val_loss: 0.3524 - val_accuracy: 0.8235\n",
            "Epoch 42/400\n",
            "1/3 [=========>....................] - ETA: 0s - loss: 0.0503 - accuracy: 1.0000\n",
            "Epoch 00042: val_loss did not improve from 0.22971\n",
            "3/3 [==============================] - 0s 20ms/step - loss: 0.0530 - accuracy: 1.0000 - val_loss: 0.3531 - val_accuracy: 0.8235\n",
            "Epoch 43/400\n",
            "1/3 [=========>....................] - ETA: 0s - loss: 0.0533 - accuracy: 1.0000\n",
            "Epoch 00043: val_loss did not improve from 0.22971\n",
            "3/3 [==============================] - 0s 15ms/step - loss: 0.0502 - accuracy: 1.0000 - val_loss: 0.3526 - val_accuracy: 0.8235\n",
            "Epoch 44/400\n",
            "1/3 [=========>....................] - ETA: 0s - loss: 0.0558 - accuracy: 1.0000\n",
            "Epoch 00044: val_loss did not improve from 0.22971\n",
            "3/3 [==============================] - 0s 16ms/step - loss: 0.0475 - accuracy: 1.0000 - val_loss: 0.3525 - val_accuracy: 0.8235\n",
            "Epoch 45/400\n",
            "1/3 [=========>....................] - ETA: 0s - loss: 0.0331 - accuracy: 1.0000\n",
            "Epoch 00045: val_loss did not improve from 0.22971\n",
            "3/3 [==============================] - 0s 18ms/step - loss: 0.0450 - accuracy: 1.0000 - val_loss: 0.3529 - val_accuracy: 0.8235\n",
            "Epoch 46/400\n",
            "1/3 [=========>....................] - ETA: 0s - loss: 0.0384 - accuracy: 1.0000\n",
            "Epoch 00046: val_loss did not improve from 0.22971\n",
            "3/3 [==============================] - 0s 16ms/step - loss: 0.0427 - accuracy: 1.0000 - val_loss: 0.3523 - val_accuracy: 0.8235\n",
            "Epoch 47/400\n",
            "1/3 [=========>....................] - ETA: 0s - loss: 0.0387 - accuracy: 1.0000\n",
            "Epoch 00047: val_loss did not improve from 0.22971\n",
            "3/3 [==============================] - 0s 18ms/step - loss: 0.0406 - accuracy: 1.0000 - val_loss: 0.3522 - val_accuracy: 0.8235\n",
            "Epoch 48/400\n",
            "1/3 [=========>....................] - ETA: 0s - loss: 0.0259 - accuracy: 1.0000\n",
            "Epoch 00048: val_loss did not improve from 0.22971\n",
            "3/3 [==============================] - 0s 15ms/step - loss: 0.0384 - accuracy: 1.0000 - val_loss: 0.3527 - val_accuracy: 0.8235\n",
            "Epoch 49/400\n",
            "1/3 [=========>....................] - ETA: 0s - loss: 0.0469 - accuracy: 1.0000\n",
            "Epoch 00049: val_loss did not improve from 0.22971\n",
            "3/3 [==============================] - 0s 16ms/step - loss: 0.0368 - accuracy: 1.0000 - val_loss: 0.3525 - val_accuracy: 0.8235\n",
            "Epoch 50/400\n",
            "1/3 [=========>....................] - ETA: 0s - loss: 0.0406 - accuracy: 1.0000\n",
            "Epoch 00050: val_loss did not improve from 0.22971\n",
            "3/3 [==============================] - 0s 16ms/step - loss: 0.0350 - accuracy: 1.0000 - val_loss: 0.3528 - val_accuracy: 0.8235\n",
            "Epoch 51/400\n",
            "1/3 [=========>....................] - ETA: 0s - loss: 0.0316 - accuracy: 1.0000\n",
            "Epoch 00051: val_loss did not improve from 0.22971\n",
            "3/3 [==============================] - 0s 23ms/step - loss: 0.0333 - accuracy: 1.0000 - val_loss: 0.3546 - val_accuracy: 0.8235\n",
            "Epoch 52/400\n",
            "1/3 [=========>....................] - ETA: 0s - loss: 0.0356 - accuracy: 1.0000\n",
            "Epoch 00052: val_loss did not improve from 0.22971\n",
            "3/3 [==============================] - 0s 16ms/step - loss: 0.0317 - accuracy: 1.0000 - val_loss: 0.3546 - val_accuracy: 0.8235\n",
            "Epoch 53/400\n",
            "1/3 [=========>....................] - ETA: 0s - loss: 0.0339 - accuracy: 1.0000\n",
            "Epoch 00053: val_loss did not improve from 0.22971\n",
            "3/3 [==============================] - 0s 18ms/step - loss: 0.0302 - accuracy: 1.0000 - val_loss: 0.3552 - val_accuracy: 0.8235\n",
            "Epoch 54/400\n",
            "1/3 [=========>....................] - ETA: 0s - loss: 0.0294 - accuracy: 1.0000\n",
            "Epoch 00054: val_loss did not improve from 0.22971\n",
            "3/3 [==============================] - 0s 17ms/step - loss: 0.0288 - accuracy: 1.0000 - val_loss: 0.3541 - val_accuracy: 0.8235\n",
            "Epoch 55/400\n",
            "1/3 [=========>....................] - ETA: 0s - loss: 0.0264 - accuracy: 1.0000\n",
            "Epoch 00055: val_loss did not improve from 0.22971\n",
            "3/3 [==============================] - 0s 17ms/step - loss: 0.0275 - accuracy: 1.0000 - val_loss: 0.3543 - val_accuracy: 0.8235\n",
            "Epoch 56/400\n",
            "1/3 [=========>....................] - ETA: 0s - loss: 0.0203 - accuracy: 1.0000\n",
            "Epoch 00056: val_loss did not improve from 0.22971\n",
            "3/3 [==============================] - 0s 18ms/step - loss: 0.0262 - accuracy: 1.0000 - val_loss: 0.3550 - val_accuracy: 0.8235\n",
            "Epoch 57/400\n",
            "1/3 [=========>....................] - ETA: 0s - loss: 0.0215 - accuracy: 1.0000\n",
            "Epoch 00057: val_loss did not improve from 0.22971\n",
            "3/3 [==============================] - 0s 19ms/step - loss: 0.0251 - accuracy: 1.0000 - val_loss: 0.3551 - val_accuracy: 0.8235\n",
            "Epoch 58/400\n",
            "1/3 [=========>....................] - ETA: 0s - loss: 0.0260 - accuracy: 1.0000\n",
            "Epoch 00058: val_loss did not improve from 0.22971\n",
            "3/3 [==============================] - 0s 15ms/step - loss: 0.0241 - accuracy: 1.0000 - val_loss: 0.3559 - val_accuracy: 0.8235\n",
            "Epoch 59/400\n",
            "1/3 [=========>....................] - ETA: 0s - loss: 0.0208 - accuracy: 1.0000\n",
            "Epoch 00059: val_loss did not improve from 0.22971\n",
            "3/3 [==============================] - 0s 15ms/step - loss: 0.0230 - accuracy: 1.0000 - val_loss: 0.3565 - val_accuracy: 0.8235\n",
            "Epoch 60/400\n",
            "1/3 [=========>....................] - ETA: 0s - loss: 0.0209 - accuracy: 1.0000\n",
            "Epoch 00060: val_loss did not improve from 0.22971\n",
            "3/3 [==============================] - 0s 15ms/step - loss: 0.0220 - accuracy: 1.0000 - val_loss: 0.3579 - val_accuracy: 0.8235\n",
            "Epoch 61/400\n",
            "1/3 [=========>....................] - ETA: 0s - loss: 0.0234 - accuracy: 1.0000\n",
            "Epoch 00061: val_loss did not improve from 0.22971\n",
            "3/3 [==============================] - 0s 15ms/step - loss: 0.0211 - accuracy: 1.0000 - val_loss: 0.3592 - val_accuracy: 0.8235\n",
            "Epoch 62/400\n",
            "1/3 [=========>....................] - ETA: 0s - loss: 0.0181 - accuracy: 1.0000\n",
            "Epoch 00062: val_loss did not improve from 0.22971\n",
            "3/3 [==============================] - 0s 15ms/step - loss: 0.0202 - accuracy: 1.0000 - val_loss: 0.3587 - val_accuracy: 0.8235\n",
            "Epoch 63/400\n",
            "1/3 [=========>....................] - ETA: 0s - loss: 0.0168 - accuracy: 1.0000\n",
            "Epoch 00063: val_loss did not improve from 0.22971\n",
            "3/3 [==============================] - 0s 18ms/step - loss: 0.0194 - accuracy: 1.0000 - val_loss: 0.3589 - val_accuracy: 0.8235\n",
            "Epoch 64/400\n",
            "1/3 [=========>....................] - ETA: 0s - loss: 0.0214 - accuracy: 1.0000\n",
            "Epoch 00064: val_loss did not improve from 0.22971\n",
            "3/3 [==============================] - 0s 18ms/step - loss: 0.0187 - accuracy: 1.0000 - val_loss: 0.3591 - val_accuracy: 0.8235\n",
            "Epoch 65/400\n",
            "1/3 [=========>....................] - ETA: 0s - loss: 0.0167 - accuracy: 1.0000\n",
            "Epoch 00065: val_loss did not improve from 0.22971\n",
            "3/3 [==============================] - 0s 16ms/step - loss: 0.0179 - accuracy: 1.0000 - val_loss: 0.3596 - val_accuracy: 0.8235\n",
            "Epoch 66/400\n",
            "1/3 [=========>....................] - ETA: 0s - loss: 0.0189 - accuracy: 1.0000\n",
            "Epoch 00066: val_loss did not improve from 0.22971\n",
            "3/3 [==============================] - 0s 16ms/step - loss: 0.0173 - accuracy: 1.0000 - val_loss: 0.3608 - val_accuracy: 0.8235\n",
            "Epoch 67/400\n",
            "1/3 [=========>....................] - ETA: 0s - loss: 0.0170 - accuracy: 1.0000\n",
            "Epoch 00067: val_loss did not improve from 0.22971\n",
            "3/3 [==============================] - 0s 16ms/step - loss: 0.0166 - accuracy: 1.0000 - val_loss: 0.3621 - val_accuracy: 0.8235\n",
            "Epoch 68/400\n",
            "1/3 [=========>....................] - ETA: 0s - loss: 0.0172 - accuracy: 1.0000\n",
            "Epoch 00068: val_loss did not improve from 0.22971\n",
            "3/3 [==============================] - 0s 15ms/step - loss: 0.0160 - accuracy: 1.0000 - val_loss: 0.3637 - val_accuracy: 0.8235\n",
            "Epoch 69/400\n",
            "1/3 [=========>....................] - ETA: 0s - loss: 0.0199 - accuracy: 1.0000\n",
            "Epoch 00069: val_loss did not improve from 0.22971\n",
            "3/3 [==============================] - 0s 15ms/step - loss: 0.0155 - accuracy: 1.0000 - val_loss: 0.3648 - val_accuracy: 0.8235\n",
            "Epoch 70/400\n",
            "1/3 [=========>....................] - ETA: 0s - loss: 0.0161 - accuracy: 1.0000\n",
            "Epoch 00070: val_loss did not improve from 0.22971\n",
            "3/3 [==============================] - 0s 18ms/step - loss: 0.0149 - accuracy: 1.0000 - val_loss: 0.3651 - val_accuracy: 0.8235\n"
          ]
        }
      ]
    },
    {
      "cell_type": "code",
      "source": [
        "y_acc = hist.history['accuracy']\n",
        "y_vloss = hist.history['val_loss']\n",
        "xs = np.arange(1, len(y_acc)+1)"
      ],
      "metadata": {
        "id": "Z9ZnjeqWZojm"
      },
      "execution_count": 48,
      "outputs": []
    },
    {
      "cell_type": "code",
      "source": [
        "plt.figure(figsize=(12,8))\n",
        "plt.plot(xs, y_acc, ms=5, label='train accuracy')\n",
        "plt.plot(xs, y_vloss, ms=5, label='validation loss')\n",
        "plt.legend()\n",
        "plt.grid()\n",
        "plt.xlabel('Epoch')\n",
        "plt.show()"
      ],
      "metadata": {
        "colab": {
          "base_uri": "https://localhost:8080/",
          "height": 497
        },
        "id": "Qrj07xIZaAqA",
        "outputId": "e7aa89f2-9bed-4f9f-e4d5-bcc0f90b7d7e"
      },
      "execution_count": 49,
      "outputs": [
        {
          "output_type": "display_data",
          "data": {
            "image/png": "[encoded data removed]",
            "text/plain": [
              "<Figure size 864x576 with 1 Axes>"
            ]
          },
          "metadata": {
            "needs_background": "light"
          }
        }
      ]
    },
    {
      "cell_type": "code",
      "source": [
        "best_model = load_model(model_path)\n",
        "best_model.evaluate(X_test, y_test)"
      ],
      "metadata": {
        "colab": {
          "base_uri": "https://localhost:8080/"
        },
        "id": "70At-jhraFB9",
        "outputId": "ca9f5563-9e4d-4960-c659-21ef1dfb653b"
      },
      "execution_count": 50,
      "outputs": [
        {
          "output_type": "stream",
          "name": "stdout",
          "text": [
            "2/2 [==============================] - 0s 6ms/step - loss: 0.4587 - accuracy: 0.8810\n"
          ]
        },
        {
          "output_type": "execute_result",
          "data": {
            "text/plain": [
              "[0.4587287902832031, 0.8809523582458496]"
            ]
          },
          "metadata": {},
          "execution_count": 50
        }
      ]
    },
    {
      "cell_type": "code",
      "source": [
        ""
      ],
      "metadata": {
        "id": "bKk07s0BbPyN"
      },
      "execution_count": null,
      "outputs": []
    }
  ]
}