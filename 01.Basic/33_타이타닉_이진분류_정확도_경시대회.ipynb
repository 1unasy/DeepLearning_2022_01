{
  "nbformat": 4,
  "nbformat_minor": 0,
  "metadata": {
    "colab": {
      "name": "33.타이타닉_이진분류_정확도_경시대회.ipynb",
      "provenance": [],
      "collapsed_sections": []
    },
    "kernelspec": {
      "name": "python3",
      "display_name": "Python 3"
    },
    "language_info": {
      "name": "python"
    }
  },
  "cells": [
    {
      "cell_type": "markdown",
      "source": [
        "# 타이타닉 데이터 이진분류 정확도 경시대회\n",
        "- Seaborn titanic data: **전처리는 ML에서 했던대로 할 것**\n",
        "- random_state = 2022\n",
        "- train_test_split : test_size=0.2\n",
        "- validation_split = 0.2\n",
        "\n",
        "### - 신경망을 사용해서 정확도 도출\n",
        "### - 모델 정의/설정/실행/학습 --> 임의로 결정\n",
        "### - 파일명: 이름0.----.html 형식으로 저장&제출"
      ],
      "metadata": {
        "id": "prnNsQYSo9tG"
      }
    },
    {
      "cell_type": "code",
      "execution_count": null,
      "metadata": {
        "id": "jWQOt4E9o4od"
      },
      "outputs": [],
      "source": [
        "# 필요한 패키지 임포트\n",
        "import numpy as np\n",
        "import pandas as pd\n",
        "import seaborn as sns\n",
        "import matplotlib.pyplot as plt\n",
        "import tensorflow as tf\n",
        "seed = 2022\n",
        "np.random.seed(seed)\n",
        "tf.random.set_seed(seed)"
      ]
    },
    {
      "cell_type": "markdown",
      "source": [
        "## 1. 데이터 전처리"
      ],
      "metadata": {
        "id": "nboeB-7cqMyy"
      }
    },
    {
      "cell_type": "code",
      "source": [
        "# 데이터 불러오기\n",
        "df = sns.load_dataset('titanic')\n",
        "df.head(3)"
      ],
      "metadata": {
        "colab": {
          "base_uri": "https://localhost:8080/",
          "height": 143
        },
        "id": "nq8fJXfUqJkM",
        "outputId": "e981e102-7310-4ad0-fc72-b17064d65a8b"
      },
      "execution_count": null,
      "outputs": [
        {
          "output_type": "execute_result",
          "data": {
            "text/html": [
              "\n",
              "  <div id=\"df-c9571d94-fcab-4e16-8bb1-84961616b290\">\n",
              "    <div class=\"colab-df-container\">\n",
              "      <div>\n",
              "<style scoped>\n",
              "    .dataframe tbody tr th:only-of-type {\n",
              "        vertical-align: middle;\n",
              "    }\n",
              "\n",
              "    .dataframe tbody tr th {\n",
              "        vertical-align: top;\n",
              "    }\n",
              "\n",
              "    .dataframe thead th {\n",
              "        text-align: right;\n",
              "    }\n",
              "</style>\n",
              "<table border=\"1\" class=\"dataframe\">\n",
              "  <thead>\n",
              "    <tr style=\"text-align: right;\">\n",
              "      <th></th>\n",
              "      <th>survived</th>\n",
              "      <th>pclass</th>\n",
              "      <th>sex</th>\n",
              "      <th>age</th>\n",
              "      <th>sibsp</th>\n",
              "      <th>parch</th>\n",
              "      <th>fare</th>\n",
              "      <th>embarked</th>\n",
              "      <th>class</th>\n",
              "      <th>who</th>\n",
              "      <th>adult_male</th>\n",
              "      <th>deck</th>\n",
              "      <th>embark_town</th>\n",
              "      <th>alive</th>\n",
              "      <th>alone</th>\n",
              "    </tr>\n",
              "  </thead>\n",
              "  <tbody>\n",
              "    <tr>\n",
              "      <th>0</th>\n",
              "      <td>0</td>\n",
              "      <td>3</td>\n",
              "      <td>male</td>\n",
              "      <td>22.0</td>\n",
              "      <td>1</td>\n",
              "      <td>0</td>\n",
              "      <td>7.2500</td>\n",
              "      <td>S</td>\n",
              "      <td>Third</td>\n",
              "      <td>man</td>\n",
              "      <td>True</td>\n",
              "      <td>NaN</td>\n",
              "      <td>Southampton</td>\n",
              "      <td>no</td>\n",
              "      <td>False</td>\n",
              "    </tr>\n",
              "    <tr>\n",
              "      <th>1</th>\n",
              "      <td>1</td>\n",
              "      <td>1</td>\n",
              "      <td>female</td>\n",
              "      <td>38.0</td>\n",
              "      <td>1</td>\n",
              "      <td>0</td>\n",
              "      <td>71.2833</td>\n",
              "      <td>C</td>\n",
              "      <td>First</td>\n",
              "      <td>woman</td>\n",
              "      <td>False</td>\n",
              "      <td>C</td>\n",
              "      <td>Cherbourg</td>\n",
              "      <td>yes</td>\n",
              "      <td>False</td>\n",
              "    </tr>\n",
              "    <tr>\n",
              "      <th>2</th>\n",
              "      <td>1</td>\n",
              "      <td>3</td>\n",
              "      <td>female</td>\n",
              "      <td>26.0</td>\n",
              "      <td>0</td>\n",
              "      <td>0</td>\n",
              "      <td>7.9250</td>\n",
              "      <td>S</td>\n",
              "      <td>Third</td>\n",
              "      <td>woman</td>\n",
              "      <td>False</td>\n",
              "      <td>NaN</td>\n",
              "      <td>Southampton</td>\n",
              "      <td>yes</td>\n",
              "      <td>True</td>\n",
              "    </tr>\n",
              "  </tbody>\n",
              "</table>\n",
              "</div>\n",
              "      <button class=\"colab-df-convert\" onclick=\"convertToInteractive('df-c9571d94-fcab-4e16-8bb1-84961616b290')\"\n",
              "              title=\"Convert this dataframe to an interactive table.\"\n",
              "              style=\"display:none;\">\n",
              "        \n",
              "  <svg xmlns=\"http://www.w3.org/2000/svg\" height=\"24px\"viewBox=\"0 0 24 24\"\n",
              "       width=\"24px\">\n",
              "    <path d=\"M0 0h24v24H0V0z\" fill=\"none\"/>\n",
              "    <path d=\"M18.56 5.44l.94 2.06.94-2.06 2.06-.94-2.06-.94-.94-2.06-.94 2.06-2.06.94zm-11 1L8.5 8.5l.94-2.06 2.06-.94-2.06-.94L8.5 2.5l-.94 2.06-2.06.94zm10 10l.94 2.06.94-2.06 2.06-.94-2.06-.94-.94-2.06-.94 2.06-2.06.94z\"/><path d=\"M17.41 7.96l-1.37-1.37c-.4-.4-.92-.59-1.43-.59-.52 0-1.04.2-1.43.59L10.3 9.45l-7.72 7.72c-.78.78-.78 2.05 0 2.83L4 21.41c.39.39.9.59 1.41.59.51 0 1.02-.2 1.41-.59l7.78-7.78 2.81-2.81c.8-.78.8-2.07 0-2.86zM5.41 20L4 18.59l7.72-7.72 1.47 1.35L5.41 20z\"/>\n",
              "  </svg>\n",
              "      </button>\n",
              "      \n",
              "  <style>\n",
              "    .colab-df-container {\n",
              "      display:flex;\n",
              "      flex-wrap:wrap;\n",
              "      gap: 12px;\n",
              "    }\n",
              "\n",
              "    .colab-df-convert {\n",
              "      background-color: #E8F0FE;\n",
              "      border: none;\n",
              "      border-radius: 50%;\n",
              "      cursor: pointer;\n",
              "      display: none;\n",
              "      fill: #1967D2;\n",
              "      height: 32px;\n",
              "      padding: 0 0 0 0;\n",
              "      width: 32px;\n",
              "    }\n",
              "\n",
              "    .colab-df-convert:hover {\n",
              "      background-color: #E2EBFA;\n",
              "      box-shadow: 0px 1px 2px rgba(60, 64, 67, 0.3), 0px 1px 3px 1px rgba(60, 64, 67, 0.15);\n",
              "      fill: #174EA6;\n",
              "    }\n",
              "\n",
              "    [theme=dark] .colab-df-convert {\n",
              "      background-color: #3B4455;\n",
              "      fill: #D2E3FC;\n",
              "    }\n",
              "\n",
              "    [theme=dark] .colab-df-convert:hover {\n",
              "      background-color: #434B5C;\n",
              "      box-shadow: 0px 1px 3px 1px rgba(0, 0, 0, 0.15);\n",
              "      filter: drop-shadow(0px 1px 2px rgba(0, 0, 0, 0.3));\n",
              "      fill: #FFFFFF;\n",
              "    }\n",
              "  </style>\n",
              "\n",
              "      <script>\n",
              "        const buttonEl =\n",
              "          document.querySelector('#df-c9571d94-fcab-4e16-8bb1-84961616b290 button.colab-df-convert');\n",
              "        buttonEl.style.display =\n",
              "          google.colab.kernel.accessAllowed ? 'block' : 'none';\n",
              "\n",
              "        async function convertToInteractive(key) {\n",
              "          const element = document.querySelector('#df-c9571d94-fcab-4e16-8bb1-84961616b290');\n",
              "          const dataTable =\n",
              "            await google.colab.kernel.invokeFunction('convertToInteractive',\n",
              "                                                     [key], {});\n",
              "          if (!dataTable) return;\n",
              "\n",
              "          const docLinkHtml = 'Like what you see? Visit the ' +\n",
              "            '<a target=\"_blank\" href=https://colab.research.google.com/notebooks/data_table.ipynb>data table notebook</a>'\n",
              "            + ' to learn more about interactive tables.';\n",
              "          element.innerHTML = '';\n",
              "          dataTable['output_type'] = 'display_data';\n",
              "          await google.colab.output.renderOutput(dataTable, element);\n",
              "          const docLink = document.createElement('div');\n",
              "          docLink.innerHTML = docLinkHtml;\n",
              "          element.appendChild(docLink);\n",
              "        }\n",
              "      </script>\n",
              "    </div>\n",
              "  </div>\n",
              "  "
            ],
            "text/plain": [
              "   survived  pclass     sex   age  ...  deck  embark_town  alive  alone\n",
              "0         0       3    male  22.0  ...   NaN  Southampton     no  False\n",
              "1         1       1  female  38.0  ...     C    Cherbourg    yes  False\n",
              "2         1       3  female  26.0  ...   NaN  Southampton    yes   True\n",
              "\n",
              "[3 rows x 15 columns]"
            ]
          },
          "metadata": {},
          "execution_count": 2
        }
      ]
    },
    {
      "cell_type": "code",
      "source": [
        "# 필요한 컬럼만 가져오기\n",
        "df = df[['survived', 'pclass', 'sex', 'age', 'sibsp', 'parch', 'fare', 'embarked', 'deck']]\n",
        "df.head(3)"
      ],
      "metadata": {
        "colab": {
          "base_uri": "https://localhost:8080/",
          "height": 143
        },
        "id": "ZJHR3PrIsX0Z",
        "outputId": "c8aa6630-d79d-4f28-bbfc-5c5254f872bc"
      },
      "execution_count": null,
      "outputs": [
        {
          "output_type": "execute_result",
          "data": {
            "text/html": [
              "\n",
              "  <div id=\"df-a7c64b56-3488-4097-bc26-36fc13fd393b\">\n",
              "    <div class=\"colab-df-container\">\n",
              "      <div>\n",
              "<style scoped>\n",
              "    .dataframe tbody tr th:only-of-type {\n",
              "        vertical-align: middle;\n",
              "    }\n",
              "\n",
              "    .dataframe tbody tr th {\n",
              "        vertical-align: top;\n",
              "    }\n",
              "\n",
              "    .dataframe thead th {\n",
              "        text-align: right;\n",
              "    }\n",
              "</style>\n",
              "<table border=\"1\" class=\"dataframe\">\n",
              "  <thead>\n",
              "    <tr style=\"text-align: right;\">\n",
              "      <th></th>\n",
              "      <th>survived</th>\n",
              "      <th>pclass</th>\n",
              "      <th>sex</th>\n",
              "      <th>age</th>\n",
              "      <th>sibsp</th>\n",
              "      <th>parch</th>\n",
              "      <th>fare</th>\n",
              "      <th>embarked</th>\n",
              "      <th>deck</th>\n",
              "    </tr>\n",
              "  </thead>\n",
              "  <tbody>\n",
              "    <tr>\n",
              "      <th>0</th>\n",
              "      <td>0</td>\n",
              "      <td>3</td>\n",
              "      <td>male</td>\n",
              "      <td>22.0</td>\n",
              "      <td>1</td>\n",
              "      <td>0</td>\n",
              "      <td>7.2500</td>\n",
              "      <td>S</td>\n",
              "      <td>NaN</td>\n",
              "    </tr>\n",
              "    <tr>\n",
              "      <th>1</th>\n",
              "      <td>1</td>\n",
              "      <td>1</td>\n",
              "      <td>female</td>\n",
              "      <td>38.0</td>\n",
              "      <td>1</td>\n",
              "      <td>0</td>\n",
              "      <td>71.2833</td>\n",
              "      <td>C</td>\n",
              "      <td>C</td>\n",
              "    </tr>\n",
              "    <tr>\n",
              "      <th>2</th>\n",
              "      <td>1</td>\n",
              "      <td>3</td>\n",
              "      <td>female</td>\n",
              "      <td>26.0</td>\n",
              "      <td>0</td>\n",
              "      <td>0</td>\n",
              "      <td>7.9250</td>\n",
              "      <td>S</td>\n",
              "      <td>NaN</td>\n",
              "    </tr>\n",
              "  </tbody>\n",
              "</table>\n",
              "</div>\n",
              "      <button class=\"colab-df-convert\" onclick=\"convertToInteractive('df-a7c64b56-3488-4097-bc26-36fc13fd393b')\"\n",
              "              title=\"Convert this dataframe to an interactive table.\"\n",
              "              style=\"display:none;\">\n",
              "        \n",
              "  <svg xmlns=\"http://www.w3.org/2000/svg\" height=\"24px\"viewBox=\"0 0 24 24\"\n",
              "       width=\"24px\">\n",
              "    <path d=\"M0 0h24v24H0V0z\" fill=\"none\"/>\n",
              "    <path d=\"M18.56 5.44l.94 2.06.94-2.06 2.06-.94-2.06-.94-.94-2.06-.94 2.06-2.06.94zm-11 1L8.5 8.5l.94-2.06 2.06-.94-2.06-.94L8.5 2.5l-.94 2.06-2.06.94zm10 10l.94 2.06.94-2.06 2.06-.94-2.06-.94-.94-2.06-.94 2.06-2.06.94z\"/><path d=\"M17.41 7.96l-1.37-1.37c-.4-.4-.92-.59-1.43-.59-.52 0-1.04.2-1.43.59L10.3 9.45l-7.72 7.72c-.78.78-.78 2.05 0 2.83L4 21.41c.39.39.9.59 1.41.59.51 0 1.02-.2 1.41-.59l7.78-7.78 2.81-2.81c.8-.78.8-2.07 0-2.86zM5.41 20L4 18.59l7.72-7.72 1.47 1.35L5.41 20z\"/>\n",
              "  </svg>\n",
              "      </button>\n",
              "      \n",
              "  <style>\n",
              "    .colab-df-container {\n",
              "      display:flex;\n",
              "      flex-wrap:wrap;\n",
              "      gap: 12px;\n",
              "    }\n",
              "\n",
              "    .colab-df-convert {\n",
              "      background-color: #E8F0FE;\n",
              "      border: none;\n",
              "      border-radius: 50%;\n",
              "      cursor: pointer;\n",
              "      display: none;\n",
              "      fill: #1967D2;\n",
              "      height: 32px;\n",
              "      padding: 0 0 0 0;\n",
              "      width: 32px;\n",
              "    }\n",
              "\n",
              "    .colab-df-convert:hover {\n",
              "      background-color: #E2EBFA;\n",
              "      box-shadow: 0px 1px 2px rgba(60, 64, 67, 0.3), 0px 1px 3px 1px rgba(60, 64, 67, 0.15);\n",
              "      fill: #174EA6;\n",
              "    }\n",
              "\n",
              "    [theme=dark] .colab-df-convert {\n",
              "      background-color: #3B4455;\n",
              "      fill: #D2E3FC;\n",
              "    }\n",
              "\n",
              "    [theme=dark] .colab-df-convert:hover {\n",
              "      background-color: #434B5C;\n",
              "      box-shadow: 0px 1px 3px 1px rgba(0, 0, 0, 0.15);\n",
              "      filter: drop-shadow(0px 1px 2px rgba(0, 0, 0, 0.3));\n",
              "      fill: #FFFFFF;\n",
              "    }\n",
              "  </style>\n",
              "\n",
              "      <script>\n",
              "        const buttonEl =\n",
              "          document.querySelector('#df-a7c64b56-3488-4097-bc26-36fc13fd393b button.colab-df-convert');\n",
              "        buttonEl.style.display =\n",
              "          google.colab.kernel.accessAllowed ? 'block' : 'none';\n",
              "\n",
              "        async function convertToInteractive(key) {\n",
              "          const element = document.querySelector('#df-a7c64b56-3488-4097-bc26-36fc13fd393b');\n",
              "          const dataTable =\n",
              "            await google.colab.kernel.invokeFunction('convertToInteractive',\n",
              "                                                     [key], {});\n",
              "          if (!dataTable) return;\n",
              "\n",
              "          const docLinkHtml = 'Like what you see? Visit the ' +\n",
              "            '<a target=\"_blank\" href=https://colab.research.google.com/notebooks/data_table.ipynb>data table notebook</a>'\n",
              "            + ' to learn more about interactive tables.';\n",
              "          element.innerHTML = '';\n",
              "          dataTable['output_type'] = 'display_data';\n",
              "          await google.colab.output.renderOutput(dataTable, element);\n",
              "          const docLink = document.createElement('div');\n",
              "          docLink.innerHTML = docLinkHtml;\n",
              "          element.appendChild(docLink);\n",
              "        }\n",
              "      </script>\n",
              "    </div>\n",
              "  </div>\n",
              "  "
            ],
            "text/plain": [
              "   survived  pclass     sex   age  sibsp  parch     fare embarked deck\n",
              "0         0       3    male  22.0      1      0   7.2500        S  NaN\n",
              "1         1       1  female  38.0      1      0  71.2833        C    C\n",
              "2         1       3  female  26.0      0      0   7.9250        S  NaN"
            ]
          },
          "metadata": {},
          "execution_count": 3
        }
      ]
    },
    {
      "cell_type": "code",
      "source": [
        "df.shape"
      ],
      "metadata": {
        "colab": {
          "base_uri": "https://localhost:8080/"
        },
        "id": "9RWj-kbQqubK",
        "outputId": "0be7cc11-cd16-41fe-9efa-e2bad2067cdc"
      },
      "execution_count": null,
      "outputs": [
        {
          "output_type": "execute_result",
          "data": {
            "text/plain": [
              "(891, 9)"
            ]
          },
          "metadata": {},
          "execution_count": 4
        }
      ]
    },
    {
      "cell_type": "code",
      "source": [
        "df.isna().sum()"
      ],
      "metadata": {
        "colab": {
          "base_uri": "https://localhost:8080/"
        },
        "id": "oa5iGYmIqjB7",
        "outputId": "a8e1866f-fece-4917-8941-709428b220c8"
      },
      "execution_count": null,
      "outputs": [
        {
          "output_type": "execute_result",
          "data": {
            "text/plain": [
              "survived      0\n",
              "pclass        0\n",
              "sex           0\n",
              "age         177\n",
              "sibsp         0\n",
              "parch         0\n",
              "fare          0\n",
              "embarked      2\n",
              "deck        688\n",
              "dtype: int64"
            ]
          },
          "metadata": {},
          "execution_count": 5
        }
      ]
    },
    {
      "cell_type": "code",
      "source": [
        "# age 결측치 - 평균 나이로 채우기\n",
        "df.age.fillna(df.age.mean(), inplace=True)\n",
        "# deck 결측치 - drop\n",
        "df.drop(columns=['deck'], inplace=True)"
      ],
      "metadata": {
        "id": "08ScswEMqq_8"
      },
      "execution_count": null,
      "outputs": []
    },
    {
      "cell_type": "code",
      "source": [
        "# embarked - 최빈값으로 채우기\n",
        "# 최빈값 찾기\n",
        "print(df.embarked.value_counts())"
      ],
      "metadata": {
        "colab": {
          "base_uri": "https://localhost:8080/"
        },
        "id": "gCcaXCo1rY6l",
        "outputId": "6a0445b5-b14d-49bb-e385-fa71c7f5d9b3"
      },
      "execution_count": null,
      "outputs": [
        {
          "output_type": "stream",
          "name": "stdout",
          "text": [
            "S    644\n",
            "C    168\n",
            "Q     77\n",
            "Name: embarked, dtype: int64\n"
          ]
        }
      ]
    },
    {
      "cell_type": "code",
      "source": [
        "# embarked - Q 로 채우기\n",
        "df.embarked.fillna('Q', inplace=True)"
      ],
      "metadata": {
        "id": "0fMdaXChrwhX"
      },
      "execution_count": null,
      "outputs": []
    },
    {
      "cell_type": "code",
      "source": [
        "# 결측치 확인\n",
        "df.isna().sum().sum()"
      ],
      "metadata": {
        "colab": {
          "base_uri": "https://localhost:8080/"
        },
        "id": "F1vbY94usGvt",
        "outputId": "5bdbf9ef-2ea4-4fca-aeb9-e2f6a01e9915"
      },
      "execution_count": null,
      "outputs": [
        {
          "output_type": "execute_result",
          "data": {
            "text/plain": [
              "0"
            ]
          },
          "metadata": {},
          "execution_count": 9
        }
      ]
    },
    {
      "cell_type": "code",
      "source": [
        "# 카테고리 값: sex, embarked 인코딩\n",
        "from sklearn.preprocessing import LabelEncoder\n",
        "le = LabelEncoder()\n",
        "df.sex = le.fit_transform(df.sex)\n",
        "df.embarked = le.fit_transform(df.embarked)\n",
        "df.head(3)"
      ],
      "metadata": {
        "colab": {
          "base_uri": "https://localhost:8080/",
          "height": 143
        },
        "id": "bt1wEYZfsHrB",
        "outputId": "5436f469-9c15-4c1e-a0be-d754cbee80e4"
      },
      "execution_count": null,
      "outputs": [
        {
          "output_type": "execute_result",
          "data": {
            "text/html": [
              "\n",
              "  <div id=\"df-13d7092f-e7e2-4ca8-a888-790f2b6867c6\">\n",
              "    <div class=\"colab-df-container\">\n",
              "      <div>\n",
              "<style scoped>\n",
              "    .dataframe tbody tr th:only-of-type {\n",
              "        vertical-align: middle;\n",
              "    }\n",
              "\n",
              "    .dataframe tbody tr th {\n",
              "        vertical-align: top;\n",
              "    }\n",
              "\n",
              "    .dataframe thead th {\n",
              "        text-align: right;\n",
              "    }\n",
              "</style>\n",
              "<table border=\"1\" class=\"dataframe\">\n",
              "  <thead>\n",
              "    <tr style=\"text-align: right;\">\n",
              "      <th></th>\n",
              "      <th>survived</th>\n",
              "      <th>pclass</th>\n",
              "      <th>sex</th>\n",
              "      <th>age</th>\n",
              "      <th>sibsp</th>\n",
              "      <th>parch</th>\n",
              "      <th>fare</th>\n",
              "      <th>embarked</th>\n",
              "    </tr>\n",
              "  </thead>\n",
              "  <tbody>\n",
              "    <tr>\n",
              "      <th>0</th>\n",
              "      <td>0</td>\n",
              "      <td>3</td>\n",
              "      <td>1</td>\n",
              "      <td>22.0</td>\n",
              "      <td>1</td>\n",
              "      <td>0</td>\n",
              "      <td>7.2500</td>\n",
              "      <td>2</td>\n",
              "    </tr>\n",
              "    <tr>\n",
              "      <th>1</th>\n",
              "      <td>1</td>\n",
              "      <td>1</td>\n",
              "      <td>0</td>\n",
              "      <td>38.0</td>\n",
              "      <td>1</td>\n",
              "      <td>0</td>\n",
              "      <td>71.2833</td>\n",
              "      <td>0</td>\n",
              "    </tr>\n",
              "    <tr>\n",
              "      <th>2</th>\n",
              "      <td>1</td>\n",
              "      <td>3</td>\n",
              "      <td>0</td>\n",
              "      <td>26.0</td>\n",
              "      <td>0</td>\n",
              "      <td>0</td>\n",
              "      <td>7.9250</td>\n",
              "      <td>2</td>\n",
              "    </tr>\n",
              "  </tbody>\n",
              "</table>\n",
              "</div>\n",
              "      <button class=\"colab-df-convert\" onclick=\"convertToInteractive('df-13d7092f-e7e2-4ca8-a888-790f2b6867c6')\"\n",
              "              title=\"Convert this dataframe to an interactive table.\"\n",
              "              style=\"display:none;\">\n",
              "        \n",
              "  <svg xmlns=\"http://www.w3.org/2000/svg\" height=\"24px\"viewBox=\"0 0 24 24\"\n",
              "       width=\"24px\">\n",
              "    <path d=\"M0 0h24v24H0V0z\" fill=\"none\"/>\n",
              "    <path d=\"M18.56 5.44l.94 2.06.94-2.06 2.06-.94-2.06-.94-.94-2.06-.94 2.06-2.06.94zm-11 1L8.5 8.5l.94-2.06 2.06-.94-2.06-.94L8.5 2.5l-.94 2.06-2.06.94zm10 10l.94 2.06.94-2.06 2.06-.94-2.06-.94-.94-2.06-.94 2.06-2.06.94z\"/><path d=\"M17.41 7.96l-1.37-1.37c-.4-.4-.92-.59-1.43-.59-.52 0-1.04.2-1.43.59L10.3 9.45l-7.72 7.72c-.78.78-.78 2.05 0 2.83L4 21.41c.39.39.9.59 1.41.59.51 0 1.02-.2 1.41-.59l7.78-7.78 2.81-2.81c.8-.78.8-2.07 0-2.86zM5.41 20L4 18.59l7.72-7.72 1.47 1.35L5.41 20z\"/>\n",
              "  </svg>\n",
              "      </button>\n",
              "      \n",
              "  <style>\n",
              "    .colab-df-container {\n",
              "      display:flex;\n",
              "      flex-wrap:wrap;\n",
              "      gap: 12px;\n",
              "    }\n",
              "\n",
              "    .colab-df-convert {\n",
              "      background-color: #E8F0FE;\n",
              "      border: none;\n",
              "      border-radius: 50%;\n",
              "      cursor: pointer;\n",
              "      display: none;\n",
              "      fill: #1967D2;\n",
              "      height: 32px;\n",
              "      padding: 0 0 0 0;\n",
              "      width: 32px;\n",
              "    }\n",
              "\n",
              "    .colab-df-convert:hover {\n",
              "      background-color: #E2EBFA;\n",
              "      box-shadow: 0px 1px 2px rgba(60, 64, 67, 0.3), 0px 1px 3px 1px rgba(60, 64, 67, 0.15);\n",
              "      fill: #174EA6;\n",
              "    }\n",
              "\n",
              "    [theme=dark] .colab-df-convert {\n",
              "      background-color: #3B4455;\n",
              "      fill: #D2E3FC;\n",
              "    }\n",
              "\n",
              "    [theme=dark] .colab-df-convert:hover {\n",
              "      background-color: #434B5C;\n",
              "      box-shadow: 0px 1px 3px 1px rgba(0, 0, 0, 0.15);\n",
              "      filter: drop-shadow(0px 1px 2px rgba(0, 0, 0, 0.3));\n",
              "      fill: #FFFFFF;\n",
              "    }\n",
              "  </style>\n",
              "\n",
              "      <script>\n",
              "        const buttonEl =\n",
              "          document.querySelector('#df-13d7092f-e7e2-4ca8-a888-790f2b6867c6 button.colab-df-convert');\n",
              "        buttonEl.style.display =\n",
              "          google.colab.kernel.accessAllowed ? 'block' : 'none';\n",
              "\n",
              "        async function convertToInteractive(key) {\n",
              "          const element = document.querySelector('#df-13d7092f-e7e2-4ca8-a888-790f2b6867c6');\n",
              "          const dataTable =\n",
              "            await google.colab.kernel.invokeFunction('convertToInteractive',\n",
              "                                                     [key], {});\n",
              "          if (!dataTable) return;\n",
              "\n",
              "          const docLinkHtml = 'Like what you see? Visit the ' +\n",
              "            '<a target=\"_blank\" href=https://colab.research.google.com/notebooks/data_table.ipynb>data table notebook</a>'\n",
              "            + ' to learn more about interactive tables.';\n",
              "          element.innerHTML = '';\n",
              "          dataTable['output_type'] = 'display_data';\n",
              "          await google.colab.output.renderOutput(dataTable, element);\n",
              "          const docLink = document.createElement('div');\n",
              "          docLink.innerHTML = docLinkHtml;\n",
              "          element.appendChild(docLink);\n",
              "        }\n",
              "      </script>\n",
              "    </div>\n",
              "  </div>\n",
              "  "
            ],
            "text/plain": [
              "   survived  pclass  sex   age  sibsp  parch     fare  embarked\n",
              "0         0       3    1  22.0      1      0   7.2500         2\n",
              "1         1       1    0  38.0      1      0  71.2833         0\n",
              "2         1       3    0  26.0      0      0   7.9250         2"
            ]
          },
          "metadata": {},
          "execution_count": 10
        }
      ]
    },
    {
      "cell_type": "code",
      "source": [
        "# X data : scaling\n",
        "from sklearn.preprocessing import StandardScaler\n",
        "X_scaled = StandardScaler().fit_transform(df.iloc[:,1:].values)"
      ],
      "metadata": {
        "id": "nCARaw6buWlc"
      },
      "execution_count": null,
      "outputs": []
    },
    {
      "cell_type": "markdown",
      "source": [
        "## 2. 학습/테스트 데이터셋 분리"
      ],
      "metadata": {
        "id": "XyEtgWQrvkPd"
      }
    },
    {
      "cell_type": "code",
      "source": [
        "from sklearn.model_selection import train_test_split\n",
        "X_train, X_test, y_train, y_test = train_test_split(\n",
        "    X_scaled, df.iloc[:,0].values, stratify=df.iloc[:,0].values, test_size=0.2, random_state=seed\n",
        ")"
      ],
      "metadata": {
        "id": "ZCVyS4tEvjjo"
      },
      "execution_count": null,
      "outputs": []
    },
    {
      "cell_type": "code",
      "source": [
        "X_train.shape, X_test.shape, y_train.shape, y_test.shape"
      ],
      "metadata": {
        "colab": {
          "base_uri": "https://localhost:8080/"
        },
        "id": "sPi0dReUwjFu",
        "outputId": "c2b1f92e-8956-4d12-cf2f-44342d416577"
      },
      "execution_count": null,
      "outputs": [
        {
          "output_type": "execute_result",
          "data": {
            "text/plain": [
              "((712, 7), (179, 7), (712,), (179,))"
            ]
          },
          "metadata": {},
          "execution_count": 13
        }
      ]
    },
    {
      "cell_type": "markdown",
      "source": [
        "## 3. 모델 정의/설정"
      ],
      "metadata": {
        "id": "bNwARSrhwo7V"
      }
    },
    {
      "cell_type": "code",
      "source": [
        "from tensorflow.keras.models import Sequential\n",
        "from tensorflow.keras.layers import Dense"
      ],
      "metadata": {
        "id": "fBtfAgeswmiQ"
      },
      "execution_count": null,
      "outputs": []
    },
    {
      "cell_type": "code",
      "source": [
        "model = Sequential([\n",
        "    Dense(30, input_dim=7, activation='relu'),\n",
        "    Dense(12, activation='relu'),\n",
        "    Dense(8, activation='relu'),\n",
        "    Dense(1, activation='sigmoid')\n",
        "])\n",
        "model.summary()"
      ],
      "metadata": {
        "colab": {
          "base_uri": "https://localhost:8080/"
        },
        "id": "ZmTaUerAwzAY",
        "outputId": "550ec364-3d10-460e-9c0b-6653e2f60209"
      },
      "execution_count": null,
      "outputs": [
        {
          "output_type": "stream",
          "name": "stdout",
          "text": [
            "Model: \"sequential\"\n",
            "_________________________________________________________________\n",
            " Layer (type)                Output Shape              Param #   \n",
            "=================================================================\n",
            " dense (Dense)               (None, 30)                240       \n",
            "                                                                 \n",
            " dense_1 (Dense)             (None, 12)                372       \n",
            "                                                                 \n",
            " dense_2 (Dense)             (None, 8)                 104       \n",
            "                                                                 \n",
            " dense_3 (Dense)             (None, 1)                 9         \n",
            "                                                                 \n",
            "=================================================================\n",
            "Total params: 725\n",
            "Trainable params: 725\n",
            "Non-trainable params: 0\n",
            "_________________________________________________________________\n"
          ]
        }
      ]
    },
    {
      "cell_type": "code",
      "source": [
        "model.compile(optimizer='adam', loss='binary_crossentropy', metrics=['accuracy'])"
      ],
      "metadata": {
        "id": "q4B-2Mvv0_2t"
      },
      "execution_count": null,
      "outputs": []
    },
    {
      "cell_type": "markdown",
      "source": [
        "- 모델 저장 관련 설정"
      ],
      "metadata": {
        "id": "oEPce0PR1G7d"
      }
    },
    {
      "cell_type": "code",
      "source": [
        "import os   # 파일(디렉토리) 생성\n",
        "if not os.path.exists('model'): # 디렉토리 존재 여부 확인\n",
        "    os.mkdir('model')   # 디렉토리 생성"
      ],
      "metadata": {
        "id": "M12M27ql1Gbl"
      },
      "execution_count": null,
      "outputs": []
    },
    {
      "cell_type": "code",
      "source": [
        "model_path = 'model/titanic.h5'"
      ],
      "metadata": {
        "id": "Xpg5x3Eu2DOA"
      },
      "execution_count": null,
      "outputs": []
    },
    {
      "cell_type": "code",
      "source": [
        "from tensorflow.keras.callbacks import ModelCheckpoint\n",
        "checkpoint = ModelCheckpoint(\n",
        "    model_path, monitor='val_loss', verbose=1, save_best_only=True\n",
        ")"
      ],
      "metadata": {
        "id": "svu7crKp2PIE"
      },
      "execution_count": null,
      "outputs": []
    },
    {
      "cell_type": "markdown",
      "source": [
        "- 조기 중단 관련 설정"
      ],
      "metadata": {
        "id": "K-qfHpgl3QQT"
      }
    },
    {
      "cell_type": "code",
      "source": [
        "from tensorflow.keras.callbacks import EarlyStopping\n",
        "early_stopping = EarlyStopping(patience=20)"
      ],
      "metadata": {
        "id": "fmVkKiiL2fgp"
      },
      "execution_count": null,
      "outputs": []
    },
    {
      "cell_type": "markdown",
      "source": [
        "## 4. 모델 학습/저장"
      ],
      "metadata": {
        "id": "iIVGx2YP3MnT"
      }
    },
    {
      "cell_type": "code",
      "source": [
        "hist = model.fit(X_train, y_train, validation_split=0.2, verbose=0,\n",
        "                 epochs=200, batch_size=200,\n",
        "                 callbacks=[checkpoint, early_stopping])"
      ],
      "metadata": {
        "colab": {
          "base_uri": "https://localhost:8080/"
        },
        "id": "UBe6mvsD3Iwv",
        "outputId": "ea2da3db-5493-4b22-9e4c-de85b9267732"
      },
      "execution_count": null,
      "outputs": [
        {
          "output_type": "stream",
          "name": "stdout",
          "text": [
            "\n",
            "Epoch 00001: val_loss improved from inf to 0.79185, saving model to model/titanic.h5\n",
            "\n",
            "Epoch 00002: val_loss improved from 0.79185 to 0.76247, saving model to model/titanic.h5\n",
            "\n",
            "Epoch 00003: val_loss improved from 0.76247 to 0.73687, saving model to model/titanic.h5\n",
            "\n",
            "Epoch 00004: val_loss improved from 0.73687 to 0.71500, saving model to model/titanic.h5\n",
            "\n",
            "Epoch 00005: val_loss improved from 0.71500 to 0.69595, saving model to model/titanic.h5\n",
            "\n",
            "Epoch 00006: val_loss improved from 0.69595 to 0.67966, saving model to model/titanic.h5\n",
            "\n",
            "Epoch 00007: val_loss improved from 0.67966 to 0.66495, saving model to model/titanic.h5\n",
            "\n",
            "Epoch 00008: val_loss improved from 0.66495 to 0.65182, saving model to model/titanic.h5\n",
            "\n",
            "Epoch 00009: val_loss improved from 0.65182 to 0.63990, saving model to model/titanic.h5\n",
            "\n",
            "Epoch 00010: val_loss improved from 0.63990 to 0.62902, saving model to model/titanic.h5\n",
            "\n",
            "Epoch 00011: val_loss improved from 0.62902 to 0.61890, saving model to model/titanic.h5\n",
            "\n",
            "Epoch 00012: val_loss improved from 0.61890 to 0.60965, saving model to model/titanic.h5\n",
            "\n",
            "Epoch 00013: val_loss improved from 0.60965 to 0.60102, saving model to model/titanic.h5\n",
            "\n",
            "Epoch 00014: val_loss improved from 0.60102 to 0.59302, saving model to model/titanic.h5\n",
            "\n",
            "Epoch 00015: val_loss improved from 0.59302 to 0.58534, saving model to model/titanic.h5\n",
            "\n",
            "Epoch 00016: val_loss improved from 0.58534 to 0.57817, saving model to model/titanic.h5\n",
            "\n",
            "Epoch 00017: val_loss improved from 0.57817 to 0.57128, saving model to model/titanic.h5\n",
            "\n",
            "Epoch 00018: val_loss improved from 0.57128 to 0.56434, saving model to model/titanic.h5\n",
            "\n",
            "Epoch 00019: val_loss improved from 0.56434 to 0.55723, saving model to model/titanic.h5\n",
            "\n",
            "Epoch 00020: val_loss improved from 0.55723 to 0.55026, saving model to model/titanic.h5\n",
            "\n",
            "Epoch 00021: val_loss improved from 0.55026 to 0.54371, saving model to model/titanic.h5\n",
            "\n",
            "Epoch 00022: val_loss improved from 0.54371 to 0.53747, saving model to model/titanic.h5\n",
            "\n",
            "Epoch 00023: val_loss improved from 0.53747 to 0.53155, saving model to model/titanic.h5\n",
            "\n",
            "Epoch 00024: val_loss improved from 0.53155 to 0.52554, saving model to model/titanic.h5\n",
            "\n",
            "Epoch 00025: val_loss improved from 0.52554 to 0.52003, saving model to model/titanic.h5\n",
            "\n",
            "Epoch 00026: val_loss improved from 0.52003 to 0.51493, saving model to model/titanic.h5\n",
            "\n",
            "Epoch 00027: val_loss improved from 0.51493 to 0.51012, saving model to model/titanic.h5\n",
            "\n",
            "Epoch 00028: val_loss improved from 0.51012 to 0.50546, saving model to model/titanic.h5\n",
            "\n",
            "Epoch 00029: val_loss improved from 0.50546 to 0.50118, saving model to model/titanic.h5\n",
            "\n",
            "Epoch 00030: val_loss improved from 0.50118 to 0.49747, saving model to model/titanic.h5\n",
            "\n",
            "Epoch 00031: val_loss improved from 0.49747 to 0.49397, saving model to model/titanic.h5\n",
            "\n",
            "Epoch 00032: val_loss improved from 0.49397 to 0.49069, saving model to model/titanic.h5\n",
            "\n",
            "Epoch 00033: val_loss improved from 0.49069 to 0.48788, saving model to model/titanic.h5\n",
            "\n",
            "Epoch 00034: val_loss improved from 0.48788 to 0.48521, saving model to model/titanic.h5\n",
            "\n",
            "Epoch 00035: val_loss improved from 0.48521 to 0.48287, saving model to model/titanic.h5\n",
            "\n",
            "Epoch 00036: val_loss improved from 0.48287 to 0.48074, saving model to model/titanic.h5\n",
            "\n",
            "Epoch 00037: val_loss improved from 0.48074 to 0.47887, saving model to model/titanic.h5\n",
            "\n",
            "Epoch 00038: val_loss improved from 0.47887 to 0.47698, saving model to model/titanic.h5\n",
            "\n",
            "Epoch 00039: val_loss improved from 0.47698 to 0.47546, saving model to model/titanic.h5\n",
            "\n",
            "Epoch 00040: val_loss improved from 0.47546 to 0.47399, saving model to model/titanic.h5\n",
            "\n",
            "Epoch 00041: val_loss improved from 0.47399 to 0.47280, saving model to model/titanic.h5\n",
            "\n",
            "Epoch 00042: val_loss improved from 0.47280 to 0.47185, saving model to model/titanic.h5\n",
            "\n",
            "Epoch 00043: val_loss improved from 0.47185 to 0.47119, saving model to model/titanic.h5\n",
            "\n",
            "Epoch 00044: val_loss improved from 0.47119 to 0.47066, saving model to model/titanic.h5\n",
            "\n",
            "Epoch 00045: val_loss improved from 0.47066 to 0.47025, saving model to model/titanic.h5\n",
            "\n",
            "Epoch 00046: val_loss improved from 0.47025 to 0.46990, saving model to model/titanic.h5\n",
            "\n",
            "Epoch 00047: val_loss improved from 0.46990 to 0.46937, saving model to model/titanic.h5\n",
            "\n",
            "Epoch 00048: val_loss improved from 0.46937 to 0.46903, saving model to model/titanic.h5\n",
            "\n",
            "Epoch 00049: val_loss improved from 0.46903 to 0.46901, saving model to model/titanic.h5\n",
            "\n",
            "Epoch 00050: val_loss improved from 0.46901 to 0.46871, saving model to model/titanic.h5\n",
            "\n",
            "Epoch 00051: val_loss improved from 0.46871 to 0.46868, saving model to model/titanic.h5\n",
            "\n",
            "Epoch 00052: val_loss improved from 0.46868 to 0.46857, saving model to model/titanic.h5\n",
            "\n",
            "Epoch 00053: val_loss improved from 0.46857 to 0.46848, saving model to model/titanic.h5\n",
            "\n",
            "Epoch 00054: val_loss improved from 0.46848 to 0.46842, saving model to model/titanic.h5\n",
            "\n",
            "Epoch 00055: val_loss improved from 0.46842 to 0.46830, saving model to model/titanic.h5\n",
            "\n",
            "Epoch 00056: val_loss improved from 0.46830 to 0.46829, saving model to model/titanic.h5\n",
            "\n",
            "Epoch 00057: val_loss improved from 0.46829 to 0.46814, saving model to model/titanic.h5\n",
            "\n",
            "Epoch 00058: val_loss improved from 0.46814 to 0.46794, saving model to model/titanic.h5\n",
            "\n",
            "Epoch 00059: val_loss improved from 0.46794 to 0.46776, saving model to model/titanic.h5\n",
            "\n",
            "Epoch 00060: val_loss did not improve from 0.46776\n",
            "\n",
            "Epoch 00061: val_loss did not improve from 0.46776\n",
            "\n",
            "Epoch 00062: val_loss did not improve from 0.46776\n",
            "\n",
            "Epoch 00063: val_loss did not improve from 0.46776\n",
            "\n",
            "Epoch 00064: val_loss did not improve from 0.46776\n",
            "\n",
            "Epoch 00065: val_loss did not improve from 0.46776\n",
            "\n",
            "Epoch 00066: val_loss did not improve from 0.46776\n",
            "\n",
            "Epoch 00067: val_loss did not improve from 0.46776\n",
            "\n",
            "Epoch 00068: val_loss did not improve from 0.46776\n",
            "\n",
            "Epoch 00069: val_loss did not improve from 0.46776\n",
            "\n",
            "Epoch 00070: val_loss improved from 0.46776 to 0.46771, saving model to model/titanic.h5\n",
            "\n",
            "Epoch 00071: val_loss improved from 0.46771 to 0.46762, saving model to model/titanic.h5\n",
            "\n",
            "Epoch 00072: val_loss did not improve from 0.46762\n",
            "\n",
            "Epoch 00073: val_loss did not improve from 0.46762\n",
            "\n",
            "Epoch 00074: val_loss did not improve from 0.46762\n",
            "\n",
            "Epoch 00075: val_loss did not improve from 0.46762\n",
            "\n",
            "Epoch 00076: val_loss did not improve from 0.46762\n",
            "\n",
            "Epoch 00077: val_loss did not improve from 0.46762\n",
            "\n",
            "Epoch 00078: val_loss did not improve from 0.46762\n",
            "\n",
            "Epoch 00079: val_loss did not improve from 0.46762\n",
            "\n",
            "Epoch 00080: val_loss did not improve from 0.46762\n",
            "\n",
            "Epoch 00081: val_loss improved from 0.46762 to 0.46743, saving model to model/titanic.h5\n",
            "\n",
            "Epoch 00082: val_loss improved from 0.46743 to 0.46719, saving model to model/titanic.h5\n",
            "\n",
            "Epoch 00083: val_loss did not improve from 0.46719\n",
            "\n",
            "Epoch 00084: val_loss improved from 0.46719 to 0.46699, saving model to model/titanic.h5\n",
            "\n",
            "Epoch 00085: val_loss improved from 0.46699 to 0.46691, saving model to model/titanic.h5\n",
            "\n",
            "Epoch 00086: val_loss did not improve from 0.46691\n",
            "\n",
            "Epoch 00087: val_loss did not improve from 0.46691\n",
            "\n",
            "Epoch 00088: val_loss did not improve from 0.46691\n",
            "\n",
            "Epoch 00089: val_loss did not improve from 0.46691\n",
            "\n",
            "Epoch 00090: val_loss did not improve from 0.46691\n",
            "\n",
            "Epoch 00091: val_loss did not improve from 0.46691\n",
            "\n",
            "Epoch 00092: val_loss did not improve from 0.46691\n",
            "\n",
            "Epoch 00093: val_loss did not improve from 0.46691\n",
            "\n",
            "Epoch 00094: val_loss did not improve from 0.46691\n",
            "\n",
            "Epoch 00095: val_loss did not improve from 0.46691\n",
            "\n",
            "Epoch 00096: val_loss did not improve from 0.46691\n",
            "\n",
            "Epoch 00097: val_loss did not improve from 0.46691\n",
            "\n",
            "Epoch 00098: val_loss did not improve from 0.46691\n",
            "\n",
            "Epoch 00099: val_loss did not improve from 0.46691\n",
            "\n",
            "Epoch 00100: val_loss did not improve from 0.46691\n",
            "\n",
            "Epoch 00101: val_loss did not improve from 0.46691\n",
            "\n",
            "Epoch 00102: val_loss did not improve from 0.46691\n",
            "\n",
            "Epoch 00103: val_loss did not improve from 0.46691\n",
            "\n",
            "Epoch 00104: val_loss did not improve from 0.46691\n",
            "\n",
            "Epoch 00105: val_loss did not improve from 0.46691\n"
          ]
        }
      ]
    },
    {
      "cell_type": "markdown",
      "source": [
        "## 5. 모델 평가"
      ],
      "metadata": {
        "id": "g4iaNzv04gpW"
      }
    },
    {
      "cell_type": "code",
      "source": [
        "from tensorflow.keras.models import load_model\n",
        "best_model = load_model(model_path)\n",
        "best_model.evaluate(X_test, y_test)"
      ],
      "metadata": {
        "colab": {
          "base_uri": "https://localhost:8080/"
        },
        "id": "BQT8N53X4QoR",
        "outputId": "31244c3f-66d1-4c8c-fc7a-1431dc0debec"
      },
      "execution_count": null,
      "outputs": [
        {
          "output_type": "stream",
          "name": "stdout",
          "text": [
            "6/6 [==============================] - 0s 2ms/step - loss: 0.4045 - accuracy: 0.8268\n"
          ]
        },
        {
          "output_type": "execute_result",
          "data": {
            "text/plain": [
              "[0.4044642448425293, 0.826815664768219]"
            ]
          },
          "metadata": {},
          "execution_count": 23
        }
      ]
    },
    {
      "cell_type": "markdown",
      "source": [
        "## 6. 학습 과정 시각화"
      ],
      "metadata": {
        "id": "YQLQVVwl4zuL"
      }
    },
    {
      "cell_type": "code",
      "source": [
        "y_acc = hist.history['accuracy']\n",
        "y_vloss = hist.history['val_loss']\n",
        "xs = np.arange(1, len(y_acc)+1)"
      ],
      "metadata": {
        "id": "E4xxA9O-4lqp"
      },
      "execution_count": null,
      "outputs": []
    },
    {
      "cell_type": "code",
      "source": [
        "import matplotlib.pyplot as plt\n",
        "plt.figure(figsize=(12,8))\n",
        "plt.plot(xs, y_acc, ms=5, label='train accuracy')\n",
        "plt.plot(xs, y_vloss, ms=5, label='validation loss')\n",
        "plt.legend()\n",
        "plt.grid()\n",
        "plt.xlabel('Epoch')\n",
        "plt.show()"
      ],
      "metadata": {
        "colab": {
          "base_uri": "https://localhost:8080/",
          "height": 497
        },
        "id": "OVGfFP_e45kU",
        "outputId": "87dc6eba-b93c-4e9d-8395-c271d60b0763"
      },
      "execution_count": null,
      "outputs": [
        {
          "output_type": "display_data",
          "data": {
            "image/png": "[encoded data removed]",
            "text/plain": [
              "<Figure size 864x576 with 1 Axes>"
            ]
          },
          "metadata": {
            "needs_background": "light"
          }
        }
      ]
    },
    {
      "cell_type": "markdown",
      "source": [
        "## 7. Epoch & Batch_size 값 다르게 해서 모델 정의/설정/학습/평가"
      ],
      "metadata": {
        "id": "C5uARDzp4_91"
      }
    },
    {
      "cell_type": "code",
      "source": [
        "del model"
      ],
      "metadata": {
        "id": "VF8VkNIqCb01"
      },
      "execution_count": null,
      "outputs": []
    },
    {
      "cell_type": "code",
      "source": [
        "model = Sequential([\n",
        "    Dense(30, input_dim=7, activation='relu'),\n",
        "    Dense(12, activation='relu'),\n",
        "    Dense(8, activation='relu'),\n",
        "    Dense(1, activation='sigmoid')\n",
        "])"
      ],
      "metadata": {
        "id": "l583k0V35cdV"
      },
      "execution_count": null,
      "outputs": []
    },
    {
      "cell_type": "code",
      "source": [
        "model.compile(optimizer='adam', loss='binary_crossentropy', metrics=['accuracy'])\n",
        "hist = model.fit(X_train, y_train, validation_split=0.2, verbose=0,\n",
        "                 epochs=1000, batch_size=200,\n",
        "                 callbacks=[checkpoint, early_stopping])"
      ],
      "metadata": {
        "colab": {
          "base_uri": "https://localhost:8080/"
        },
        "id": "EDKSsi2v5dy7",
        "outputId": "28d8cedf-299b-493d-fc60-fa89ae88c2ef"
      },
      "execution_count": null,
      "outputs": [
        {
          "output_type": "stream",
          "name": "stdout",
          "text": [
            "\n",
            "Epoch 00001: val_loss did not improve from 0.46691\n",
            "\n",
            "Epoch 00002: val_loss did not improve from 0.46691\n",
            "\n",
            "Epoch 00003: val_loss did not improve from 0.46691\n",
            "\n",
            "Epoch 00004: val_loss did not improve from 0.46691\n",
            "\n",
            "Epoch 00005: val_loss did not improve from 0.46691\n",
            "\n",
            "Epoch 00006: val_loss did not improve from 0.46691\n",
            "\n",
            "Epoch 00007: val_loss did not improve from 0.46691\n",
            "\n",
            "Epoch 00008: val_loss did not improve from 0.46691\n",
            "\n",
            "Epoch 00009: val_loss did not improve from 0.46691\n",
            "\n",
            "Epoch 00010: val_loss did not improve from 0.46691\n",
            "\n",
            "Epoch 00011: val_loss did not improve from 0.46691\n",
            "\n",
            "Epoch 00012: val_loss did not improve from 0.46691\n",
            "\n",
            "Epoch 00013: val_loss did not improve from 0.46691\n",
            "\n",
            "Epoch 00014: val_loss did not improve from 0.46691\n",
            "\n",
            "Epoch 00015: val_loss did not improve from 0.46691\n",
            "\n",
            "Epoch 00016: val_loss did not improve from 0.46691\n",
            "\n",
            "Epoch 00017: val_loss did not improve from 0.46691\n",
            "\n",
            "Epoch 00018: val_loss did not improve from 0.46691\n",
            "\n",
            "Epoch 00019: val_loss did not improve from 0.46691\n",
            "\n",
            "Epoch 00020: val_loss did not improve from 0.46691\n",
            "\n",
            "Epoch 00021: val_loss did not improve from 0.46691\n",
            "\n",
            "Epoch 00022: val_loss did not improve from 0.46691\n",
            "\n",
            "Epoch 00023: val_loss did not improve from 0.46691\n",
            "\n",
            "Epoch 00024: val_loss did not improve from 0.46691\n",
            "\n",
            "Epoch 00025: val_loss did not improve from 0.46691\n",
            "\n",
            "Epoch 00026: val_loss did not improve from 0.46691\n",
            "\n",
            "Epoch 00027: val_loss did not improve from 0.46691\n",
            "\n",
            "Epoch 00028: val_loss did not improve from 0.46691\n",
            "\n",
            "Epoch 00029: val_loss did not improve from 0.46691\n",
            "\n",
            "Epoch 00030: val_loss did not improve from 0.46691\n",
            "\n",
            "Epoch 00031: val_loss did not improve from 0.46691\n",
            "\n",
            "Epoch 00032: val_loss did not improve from 0.46691\n",
            "\n",
            "Epoch 00033: val_loss did not improve from 0.46691\n",
            "\n",
            "Epoch 00034: val_loss did not improve from 0.46691\n",
            "\n",
            "Epoch 00035: val_loss did not improve from 0.46691\n",
            "\n",
            "Epoch 00036: val_loss did not improve from 0.46691\n",
            "\n",
            "Epoch 00037: val_loss did not improve from 0.46691\n",
            "\n",
            "Epoch 00038: val_loss did not improve from 0.46691\n",
            "\n",
            "Epoch 00039: val_loss did not improve from 0.46691\n",
            "\n",
            "Epoch 00040: val_loss did not improve from 0.46691\n",
            "\n",
            "Epoch 00041: val_loss did not improve from 0.46691\n",
            "\n",
            "Epoch 00042: val_loss did not improve from 0.46691\n",
            "\n",
            "Epoch 00043: val_loss did not improve from 0.46691\n",
            "\n",
            "Epoch 00044: val_loss did not improve from 0.46691\n",
            "\n",
            "Epoch 00045: val_loss did not improve from 0.46691\n",
            "\n",
            "Epoch 00046: val_loss did not improve from 0.46691\n",
            "\n",
            "Epoch 00047: val_loss did not improve from 0.46691\n",
            "\n",
            "Epoch 00048: val_loss did not improve from 0.46691\n",
            "\n",
            "Epoch 00049: val_loss did not improve from 0.46691\n",
            "\n",
            "Epoch 00050: val_loss did not improve from 0.46691\n",
            "\n",
            "Epoch 00051: val_loss did not improve from 0.46691\n",
            "\n",
            "Epoch 00052: val_loss did not improve from 0.46691\n",
            "\n",
            "Epoch 00053: val_loss did not improve from 0.46691\n",
            "\n",
            "Epoch 00054: val_loss did not improve from 0.46691\n",
            "\n",
            "Epoch 00055: val_loss did not improve from 0.46691\n",
            "\n",
            "Epoch 00056: val_loss did not improve from 0.46691\n",
            "\n",
            "Epoch 00057: val_loss did not improve from 0.46691\n",
            "\n",
            "Epoch 00058: val_loss did not improve from 0.46691\n",
            "\n",
            "Epoch 00059: val_loss did not improve from 0.46691\n",
            "\n",
            "Epoch 00060: val_loss did not improve from 0.46691\n",
            "\n",
            "Epoch 00061: val_loss did not improve from 0.46691\n",
            "\n",
            "Epoch 00062: val_loss did not improve from 0.46691\n",
            "\n",
            "Epoch 00063: val_loss did not improve from 0.46691\n",
            "\n",
            "Epoch 00064: val_loss did not improve from 0.46691\n",
            "\n",
            "Epoch 00065: val_loss did not improve from 0.46691\n",
            "\n",
            "Epoch 00066: val_loss did not improve from 0.46691\n",
            "\n",
            "Epoch 00067: val_loss did not improve from 0.46691\n",
            "\n",
            "Epoch 00068: val_loss did not improve from 0.46691\n",
            "\n",
            "Epoch 00069: val_loss did not improve from 0.46691\n",
            "\n",
            "Epoch 00070: val_loss did not improve from 0.46691\n",
            "\n",
            "Epoch 00071: val_loss did not improve from 0.46691\n",
            "\n",
            "Epoch 00072: val_loss did not improve from 0.46691\n",
            "\n",
            "Epoch 00073: val_loss did not improve from 0.46691\n",
            "\n",
            "Epoch 00074: val_loss did not improve from 0.46691\n",
            "\n",
            "Epoch 00075: val_loss did not improve from 0.46691\n",
            "\n",
            "Epoch 00076: val_loss improved from 0.46691 to 0.46682, saving model to model/titanic.h5\n",
            "\n",
            "Epoch 00077: val_loss improved from 0.46682 to 0.46648, saving model to model/titanic.h5\n",
            "\n",
            "Epoch 00078: val_loss improved from 0.46648 to 0.46580, saving model to model/titanic.h5\n",
            "\n",
            "Epoch 00079: val_loss improved from 0.46580 to 0.46557, saving model to model/titanic.h5\n",
            "\n",
            "Epoch 00080: val_loss improved from 0.46557 to 0.46477, saving model to model/titanic.h5\n",
            "\n",
            "Epoch 00081: val_loss improved from 0.46477 to 0.46430, saving model to model/titanic.h5\n",
            "\n",
            "Epoch 00082: val_loss improved from 0.46430 to 0.46368, saving model to model/titanic.h5\n",
            "\n",
            "Epoch 00083: val_loss improved from 0.46368 to 0.46351, saving model to model/titanic.h5\n",
            "\n",
            "Epoch 00084: val_loss improved from 0.46351 to 0.46274, saving model to model/titanic.h5\n",
            "\n",
            "Epoch 00085: val_loss improved from 0.46274 to 0.46229, saving model to model/titanic.h5\n",
            "\n",
            "Epoch 00086: val_loss improved from 0.46229 to 0.46210, saving model to model/titanic.h5\n",
            "\n",
            "Epoch 00087: val_loss improved from 0.46210 to 0.46172, saving model to model/titanic.h5\n",
            "\n",
            "Epoch 00088: val_loss improved from 0.46172 to 0.46147, saving model to model/titanic.h5\n",
            "\n",
            "Epoch 00089: val_loss improved from 0.46147 to 0.46130, saving model to model/titanic.h5\n",
            "\n",
            "Epoch 00090: val_loss improved from 0.46130 to 0.46119, saving model to model/titanic.h5\n",
            "\n",
            "Epoch 00091: val_loss did not improve from 0.46119\n",
            "\n",
            "Epoch 00092: val_loss improved from 0.46119 to 0.46092, saving model to model/titanic.h5\n",
            "\n",
            "Epoch 00093: val_loss improved from 0.46092 to 0.46011, saving model to model/titanic.h5\n",
            "\n",
            "Epoch 00094: val_loss improved from 0.46011 to 0.45998, saving model to model/titanic.h5\n",
            "\n",
            "Epoch 00095: val_loss improved from 0.45998 to 0.45936, saving model to model/titanic.h5\n",
            "\n",
            "Epoch 00096: val_loss improved from 0.45936 to 0.45916, saving model to model/titanic.h5\n",
            "\n",
            "Epoch 00097: val_loss improved from 0.45916 to 0.45906, saving model to model/titanic.h5\n",
            "\n",
            "Epoch 00098: val_loss improved from 0.45906 to 0.45857, saving model to model/titanic.h5\n",
            "\n",
            "Epoch 00099: val_loss improved from 0.45857 to 0.45822, saving model to model/titanic.h5\n",
            "\n",
            "Epoch 00100: val_loss did not improve from 0.45822\n",
            "\n",
            "Epoch 00101: val_loss did not improve from 0.45822\n",
            "\n",
            "Epoch 00102: val_loss did not improve from 0.45822\n",
            "\n",
            "Epoch 00103: val_loss improved from 0.45822 to 0.45768, saving model to model/titanic.h5\n",
            "\n",
            "Epoch 00104: val_loss improved from 0.45768 to 0.45720, saving model to model/titanic.h5\n",
            "\n",
            "Epoch 00105: val_loss improved from 0.45720 to 0.45706, saving model to model/titanic.h5\n",
            "\n",
            "Epoch 00106: val_loss did not improve from 0.45706\n",
            "\n",
            "Epoch 00107: val_loss did not improve from 0.45706\n",
            "\n",
            "Epoch 00108: val_loss did not improve from 0.45706\n",
            "\n",
            "Epoch 00109: val_loss did not improve from 0.45706\n",
            "\n",
            "Epoch 00110: val_loss improved from 0.45706 to 0.45649, saving model to model/titanic.h5\n",
            "\n",
            "Epoch 00111: val_loss did not improve from 0.45649\n",
            "\n",
            "Epoch 00112: val_loss improved from 0.45649 to 0.45626, saving model to model/titanic.h5\n",
            "\n",
            "Epoch 00113: val_loss improved from 0.45626 to 0.45625, saving model to model/titanic.h5\n",
            "\n",
            "Epoch 00114: val_loss did not improve from 0.45625\n",
            "\n",
            "Epoch 00115: val_loss did not improve from 0.45625\n",
            "\n",
            "Epoch 00116: val_loss improved from 0.45625 to 0.45616, saving model to model/titanic.h5\n",
            "\n",
            "Epoch 00117: val_loss improved from 0.45616 to 0.45585, saving model to model/titanic.h5\n",
            "\n",
            "Epoch 00118: val_loss improved from 0.45585 to 0.45555, saving model to model/titanic.h5\n",
            "\n",
            "Epoch 00119: val_loss improved from 0.45555 to 0.45519, saving model to model/titanic.h5\n",
            "\n",
            "Epoch 00120: val_loss did not improve from 0.45519\n",
            "\n",
            "Epoch 00121: val_loss did not improve from 0.45519\n",
            "\n",
            "Epoch 00122: val_loss improved from 0.45519 to 0.45496, saving model to model/titanic.h5\n",
            "\n",
            "Epoch 00123: val_loss did not improve from 0.45496\n",
            "\n",
            "Epoch 00124: val_loss did not improve from 0.45496\n",
            "\n",
            "Epoch 00125: val_loss did not improve from 0.45496\n",
            "\n",
            "Epoch 00126: val_loss did not improve from 0.45496\n",
            "\n",
            "Epoch 00127: val_loss did not improve from 0.45496\n",
            "\n",
            "Epoch 00128: val_loss did not improve from 0.45496\n",
            "\n",
            "Epoch 00129: val_loss did not improve from 0.45496\n",
            "\n",
            "Epoch 00130: val_loss did not improve from 0.45496\n",
            "\n",
            "Epoch 00131: val_loss did not improve from 0.45496\n",
            "\n",
            "Epoch 00132: val_loss did not improve from 0.45496\n",
            "\n",
            "Epoch 00133: val_loss did not improve from 0.45496\n",
            "\n",
            "Epoch 00134: val_loss did not improve from 0.45496\n",
            "\n",
            "Epoch 00135: val_loss did not improve from 0.45496\n",
            "\n",
            "Epoch 00136: val_loss improved from 0.45496 to 0.45472, saving model to model/titanic.h5\n",
            "\n",
            "Epoch 00137: val_loss did not improve from 0.45472\n",
            "\n",
            "Epoch 00138: val_loss did not improve from 0.45472\n",
            "\n",
            "Epoch 00139: val_loss did not improve from 0.45472\n",
            "\n",
            "Epoch 00140: val_loss did not improve from 0.45472\n",
            "\n",
            "Epoch 00141: val_loss did not improve from 0.45472\n",
            "\n",
            "Epoch 00142: val_loss did not improve from 0.45472\n",
            "\n",
            "Epoch 00143: val_loss did not improve from 0.45472\n",
            "\n",
            "Epoch 00144: val_loss did not improve from 0.45472\n",
            "\n",
            "Epoch 00145: val_loss did not improve from 0.45472\n",
            "\n",
            "Epoch 00146: val_loss did not improve from 0.45472\n",
            "\n",
            "Epoch 00147: val_loss did not improve from 0.45472\n",
            "\n",
            "Epoch 00148: val_loss did not improve from 0.45472\n",
            "\n",
            "Epoch 00149: val_loss did not improve from 0.45472\n",
            "\n",
            "Epoch 00150: val_loss did not improve from 0.45472\n",
            "\n",
            "Epoch 00151: val_loss did not improve from 0.45472\n",
            "\n",
            "Epoch 00152: val_loss did not improve from 0.45472\n",
            "\n",
            "Epoch 00153: val_loss did not improve from 0.45472\n",
            "\n",
            "Epoch 00154: val_loss did not improve from 0.45472\n",
            "\n",
            "Epoch 00155: val_loss did not improve from 0.45472\n",
            "\n",
            "Epoch 00156: val_loss did not improve from 0.45472\n"
          ]
        }
      ]
    },
    {
      "cell_type": "code",
      "source": [
        "from tensorflow.keras.models import load_model\n",
        "best_model = load_model(model_path)\n",
        "best_model.evaluate(X_test, y_test)"
      ],
      "metadata": {
        "colab": {
          "base_uri": "https://localhost:8080/"
        },
        "id": "JpQRftwR6HD2",
        "outputId": "7a53f285-6f95-4841-f946-a8787486153b"
      },
      "execution_count": null,
      "outputs": [
        {
          "output_type": "stream",
          "name": "stdout",
          "text": [
            "6/6 [==============================] - 0s 2ms/step - loss: 0.4132 - accuracy: 0.8436\n"
          ]
        },
        {
          "output_type": "execute_result",
          "data": {
            "text/plain": [
              "[0.41315561532974243, 0.8435754179954529]"
            ]
          },
          "metadata": {},
          "execution_count": 29
        }
      ]
    },
    {
      "cell_type": "markdown",
      "source": [
        "- 학습 과정 시각화"
      ],
      "metadata": {
        "id": "w5E-QBjt7QlG"
      }
    },
    {
      "cell_type": "code",
      "source": [
        "y_acc = hist.history['accuracy']\n",
        "y_vloss = hist.history['val_loss']\n",
        "xs = np.arange(1, len(y_acc)+1)"
      ],
      "metadata": {
        "id": "v422dkZX6psq"
      },
      "execution_count": null,
      "outputs": []
    },
    {
      "cell_type": "code",
      "source": [
        "plt.figure(figsize=(12,8))\n",
        "plt.plot(xs, y_acc, ms=5, label='train accuracy')\n",
        "plt.plot(xs, y_vloss, ms=5, label='validation loss')\n",
        "plt.legend()\n",
        "plt.grid()\n",
        "plt.xlabel('Epoch')\n",
        "plt.show()"
      ],
      "metadata": {
        "colab": {
          "base_uri": "https://localhost:8080/",
          "height": 497
        },
        "id": "RMFDpP3N7SOm",
        "outputId": "3febdf92-11ab-40fc-bccf-8989e54ae0e0"
      },
      "execution_count": null,
      "outputs": [
        {
          "output_type": "display_data",
          "data": {
            "image/png": "[encoded data removed]",
            "text/plain": [
              "<Figure size 864x576 with 1 Axes>"
            ]
          },
          "metadata": {
            "needs_background": "light"
          }
        }
      ]
    },
    {
      "cell_type": "markdown",
      "source": [
        "## 8. 은닉층 갯수 늘려서 모델 정의/설정/학습/평가"
      ],
      "metadata": {
        "id": "fQ5h1W4j7ZPQ"
      }
    },
    {
      "cell_type": "markdown",
      "source": [
        "- 은닉층 4개 → 6개 증가"
      ],
      "metadata": {
        "id": "ha7bC3cE7naI"
      }
    },
    {
      "cell_type": "code",
      "source": [
        "del model2"
      ],
      "metadata": {
        "id": "stVAimXCOCRq"
      },
      "execution_count": null,
      "outputs": []
    },
    {
      "cell_type": "code",
      "source": [
        "model2 = Sequential([\n",
        "    Dense(64, input_dim=7, activation='relu'),\n",
        "    Dense(32, activation='relu'),\n",
        "    Dense(24, activation='relu'),\n",
        "    Dense(12, activation='relu'),\n",
        "    Dense(8, activation='relu'),\n",
        "    Dense(4, activation='relu'),\n",
        "    Dense(1, activation='sigmoid')\n",
        "])\n",
        "model2.summary()"
      ],
      "metadata": {
        "colab": {
          "base_uri": "https://localhost:8080/"
        },
        "id": "UKoRTHFX7WGY",
        "outputId": "d59a478a-747d-420a-ccd7-699f5244a230"
      },
      "execution_count": null,
      "outputs": [
        {
          "output_type": "stream",
          "name": "stdout",
          "text": [
            "Model: \"sequential_4\"\n",
            "_________________________________________________________________\n",
            " Layer (type)                Output Shape              Param #   \n",
            "=================================================================\n",
            " dense_22 (Dense)            (None, 64)                512       \n",
            "                                                                 \n",
            " dense_23 (Dense)            (None, 32)                2080      \n",
            "                                                                 \n",
            " dense_24 (Dense)            (None, 24)                792       \n",
            "                                                                 \n",
            " dense_25 (Dense)            (None, 12)                300       \n",
            "                                                                 \n",
            " dense_26 (Dense)            (None, 8)                 104       \n",
            "                                                                 \n",
            " dense_27 (Dense)            (None, 4)                 36        \n",
            "                                                                 \n",
            " dense_28 (Dense)            (None, 1)                 5         \n",
            "                                                                 \n",
            "=================================================================\n",
            "Total params: 3,829\n",
            "Trainable params: 3,829\n",
            "Non-trainable params: 0\n",
            "_________________________________________________________________\n"
          ]
        }
      ]
    },
    {
      "cell_type": "code",
      "source": [
        "model2.compile(optimizer='adam', loss='binary_crossentropy', metrics=['accuracy'])\n",
        "hist2 = model2.fit(X_train, y_train, validation_split=0.2, verbose=0,\n",
        "                 epochs=200, batch_size=200,\n",
        "                 callbacks=[checkpoint, early_stopping])"
      ],
      "metadata": {
        "colab": {
          "base_uri": "https://localhost:8080/"
        },
        "id": "ze281wwL7-gD",
        "outputId": "6f9fbe22-5d17-4a3a-cc78-402273220b3e"
      },
      "execution_count": null,
      "outputs": [
        {
          "output_type": "stream",
          "name": "stdout",
          "text": [
            "\n",
            "Epoch 00001: val_loss did not improve from 0.45472\n",
            "\n",
            "Epoch 00002: val_loss did not improve from 0.45472\n",
            "\n",
            "Epoch 00003: val_loss did not improve from 0.45472\n",
            "\n",
            "Epoch 00004: val_loss did not improve from 0.45472\n",
            "\n",
            "Epoch 00005: val_loss did not improve from 0.45472\n",
            "\n",
            "Epoch 00006: val_loss did not improve from 0.45472\n",
            "\n",
            "Epoch 00007: val_loss did not improve from 0.45472\n",
            "\n",
            "Epoch 00008: val_loss did not improve from 0.45472\n",
            "\n",
            "Epoch 00009: val_loss did not improve from 0.45472\n",
            "\n",
            "Epoch 00010: val_loss did not improve from 0.45472\n",
            "\n",
            "Epoch 00011: val_loss did not improve from 0.45472\n",
            "\n",
            "Epoch 00012: val_loss did not improve from 0.45472\n",
            "\n",
            "Epoch 00013: val_loss did not improve from 0.45472\n",
            "\n",
            "Epoch 00014: val_loss did not improve from 0.45472\n",
            "\n",
            "Epoch 00015: val_loss did not improve from 0.45472\n",
            "\n",
            "Epoch 00016: val_loss did not improve from 0.45472\n",
            "\n",
            "Epoch 00017: val_loss did not improve from 0.45472\n",
            "\n",
            "Epoch 00018: val_loss did not improve from 0.45472\n",
            "\n",
            "Epoch 00019: val_loss did not improve from 0.45472\n",
            "\n",
            "Epoch 00020: val_loss did not improve from 0.45472\n",
            "\n",
            "Epoch 00021: val_loss did not improve from 0.45472\n",
            "\n",
            "Epoch 00022: val_loss did not improve from 0.45472\n",
            "\n",
            "Epoch 00023: val_loss did not improve from 0.45472\n",
            "\n",
            "Epoch 00024: val_loss did not improve from 0.45472\n",
            "\n",
            "Epoch 00025: val_loss did not improve from 0.45472\n",
            "\n",
            "Epoch 00026: val_loss did not improve from 0.45472\n",
            "\n",
            "Epoch 00027: val_loss did not improve from 0.45472\n",
            "\n",
            "Epoch 00028: val_loss did not improve from 0.45472\n",
            "\n",
            "Epoch 00029: val_loss did not improve from 0.45472\n",
            "\n",
            "Epoch 00030: val_loss did not improve from 0.45472\n",
            "\n",
            "Epoch 00031: val_loss did not improve from 0.45472\n",
            "\n",
            "Epoch 00032: val_loss did not improve from 0.45472\n",
            "\n",
            "Epoch 00033: val_loss did not improve from 0.45472\n",
            "\n",
            "Epoch 00034: val_loss did not improve from 0.45472\n",
            "\n",
            "Epoch 00035: val_loss did not improve from 0.45472\n",
            "\n",
            "Epoch 00036: val_loss did not improve from 0.45472\n",
            "\n",
            "Epoch 00037: val_loss did not improve from 0.45472\n",
            "\n",
            "Epoch 00038: val_loss did not improve from 0.45472\n",
            "\n",
            "Epoch 00039: val_loss did not improve from 0.45472\n",
            "\n",
            "Epoch 00040: val_loss did not improve from 0.45472\n",
            "\n",
            "Epoch 00041: val_loss did not improve from 0.45472\n",
            "\n",
            "Epoch 00042: val_loss did not improve from 0.45472\n",
            "\n",
            "Epoch 00043: val_loss did not improve from 0.45472\n",
            "\n",
            "Epoch 00044: val_loss did not improve from 0.45472\n",
            "\n",
            "Epoch 00045: val_loss did not improve from 0.45472\n",
            "\n",
            "Epoch 00046: val_loss did not improve from 0.45472\n",
            "\n",
            "Epoch 00047: val_loss did not improve from 0.45472\n",
            "\n",
            "Epoch 00048: val_loss did not improve from 0.45472\n",
            "\n",
            "Epoch 00049: val_loss did not improve from 0.45472\n",
            "\n",
            "Epoch 00050: val_loss did not improve from 0.45472\n",
            "\n",
            "Epoch 00051: val_loss did not improve from 0.45472\n",
            "\n",
            "Epoch 00052: val_loss did not improve from 0.45472\n",
            "\n",
            "Epoch 00053: val_loss did not improve from 0.45472\n",
            "\n",
            "Epoch 00054: val_loss did not improve from 0.45472\n",
            "\n",
            "Epoch 00055: val_loss did not improve from 0.45472\n",
            "\n",
            "Epoch 00056: val_loss did not improve from 0.45472\n",
            "\n",
            "Epoch 00057: val_loss did not improve from 0.45472\n",
            "\n",
            "Epoch 00058: val_loss did not improve from 0.45472\n"
          ]
        }
      ]
    },
    {
      "cell_type": "code",
      "source": [
        "best_model = load_model(model_path)\n",
        "best_model.evaluate(X_test, y_test)"
      ],
      "metadata": {
        "colab": {
          "base_uri": "https://localhost:8080/"
        },
        "id": "T28gDaBY8MHi",
        "outputId": "3dcf18ed-3ae3-4a03-bf2f-0dc651732ff0"
      },
      "execution_count": null,
      "outputs": [
        {
          "output_type": "stream",
          "name": "stdout",
          "text": [
            "6/6 [==============================] - 0s 2ms/step - loss: 0.4132 - accuracy: 0.8436\n"
          ]
        },
        {
          "output_type": "execute_result",
          "data": {
            "text/plain": [
              "[0.41315561532974243, 0.8435754179954529]"
            ]
          },
          "metadata": {},
          "execution_count": 46
        }
      ]
    },
    {
      "cell_type": "markdown",
      "source": [
        "- 학습 과정 시각화"
      ],
      "metadata": {
        "id": "qWSMgjm78wWx"
      }
    },
    {
      "cell_type": "code",
      "source": [
        "y_acc = hist2.history['accuracy']\n",
        "y_vloss = hist2.history['val_loss']\n",
        "xs = np.arange(1, len(y_acc)+1)"
      ],
      "metadata": {
        "id": "G6_8bdF28p5P"
      },
      "execution_count": null,
      "outputs": []
    },
    {
      "cell_type": "code",
      "source": [
        "plt.figure(figsize=(12,8))\n",
        "plt.plot(xs, y_acc, ms=5, label='train accuracy')\n",
        "plt.plot(xs, y_vloss, ms=5, label='validation loss')\n",
        "plt.legend()\n",
        "plt.grid()\n",
        "plt.xlabel('Epoch')\n",
        "plt.show()"
      ],
      "metadata": {
        "colab": {
          "base_uri": "https://localhost:8080/",
          "height": 497
        },
        "id": "6P3XTkji85uE",
        "outputId": "bfb2c626-5d09-490d-dad4-639939670cb3"
      },
      "execution_count": null,
      "outputs": [
        {
          "output_type": "display_data",
          "data": {
            "image/png": "[encoded data removed]",
            "text/plain": [
              "<Figure size 864x576 with 1 Axes>"
            ]
          },
          "metadata": {
            "needs_background": "light"
          }
        }
      ]
    }
  ]
}