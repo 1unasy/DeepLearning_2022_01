{
  "nbformat": 4,
  "nbformat_minor": 0,
  "metadata": {
    "colab": {
      "name": "51.IMDB감성분석_LSTM.ipynb",
      "provenance": [],
      "collapsed_sections": []
    },
    "kernelspec": {
      "name": "python3",
      "display_name": "Python 3"
    },
    "language_info": {
      "name": "python"
    }
  },
  "cells": [
    {
      "cell_type": "markdown",
      "source": [
        "# IMDB 영화 리뷰 감성 분석 - LSTM"
      ],
      "metadata": {
        "id": "TJjZuqomm2bs"
      }
    },
    {
      "cell_type": "code",
      "execution_count": 1,
      "metadata": {
        "id": "2bKyKXLJmwxE"
      },
      "outputs": [],
      "source": [
        "import numpy as np\n",
        "import matplotlib.pyplot as plt\n",
        "from tensorflow.keras.datasets import imdb\n",
        "import warnings\n",
        "warnings.filterwarnings('ignore')"
      ]
    },
    {
      "cell_type": "code",
      "source": [
        "(X_train, y_train), (X_test, y_test) = imdb.load_data()\n",
        "X_train.shape, X_test.shape, y_train.shape"
      ],
      "metadata": {
        "colab": {
          "base_uri": "https://localhost:8080/"
        },
        "id": "wKF8Hoxyng4C",
        "outputId": "7ab3cc28-e1e9-4c2a-dfe1-b6fcbee363d7"
      },
      "execution_count": 2,
      "outputs": [
        {
          "output_type": "execute_result",
          "data": {
            "text/plain": [
              "((25000,), (25000,), (25000,))"
            ]
          },
          "metadata": {},
          "execution_count": 2
        }
      ]
    },
    {
      "cell_type": "code",
      "source": [
        "print('등장한 단어수', len(imdb.get_word_index()))\n",
        "print('리뷰 최대 길이', max(len(s) for s in X_train))\n",
        "print('리뷰 평균 길이', sum(map(len, X_train)) / len(X_train))"
      ],
      "metadata": {
        "colab": {
          "base_uri": "https://localhost:8080/"
        },
        "id": "n_IYNgprnr7G",
        "outputId": "3dcf868a-8903-4615-818d-9920292cdf3d"
      },
      "execution_count": 3,
      "outputs": [
        {
          "output_type": "stream",
          "name": "stdout",
          "text": [
            "등장한 단어수 88584\n",
            "리뷰 최대 길이 2494\n",
            "리뷰 평균 길이 238.71364\n"
          ]
        }
      ]
    },
    {
      "cell_type": "markdown",
      "source": [
        "# LSTM으로 IMDB 리뷰 감성 분석\n",
        "- 단어 빈도수: 10,000 (총 88,584)\n",
        "- 문장의 단어수: 500 (최대 2,494)\n",
        "- test data 중 40%(10,000개)는 검증용"
      ],
      "metadata": {
        "id": "ydc7UCncoZCy"
      }
    },
    {
      "cell_type": "code",
      "source": [
        "import tensorflow as tf\n",
        "seed = 2022\n",
        "np.random.seed(seed)\n",
        "tf.random.set_seed(seed)"
      ],
      "metadata": {
        "id": "-Zq_yl9Dn9GF"
      },
      "execution_count": 4,
      "outputs": []
    },
    {
      "cell_type": "code",
      "source": [
        "from tensorflow.keras.models import Sequential, load_model\n",
        "from tensorflow.keras.layers import Embedding, LSTM, Dense\n",
        "from tensorflow.keras.preprocessing.sequence import pad_sequences\n",
        "from tensorflow.keras.callbacks import ModelCheckpoint, EarlyStopping"
      ],
      "metadata": {
        "id": "zqb_HudnpwhN"
      },
      "execution_count": 5,
      "outputs": []
    },
    {
      "cell_type": "code",
      "source": [
        "(X_train, y_train), (X_test, y_test) = imdb.load_data(num_words=10000)\n",
        "X_train.shape, X_test.shape, y_train.shape"
      ],
      "metadata": {
        "colab": {
          "base_uri": "https://localhost:8080/"
        },
        "id": "XHd98HsDqABi",
        "outputId": "dc2f333e-3efb-4055-c58e-d7b123819a6a"
      },
      "execution_count": 6,
      "outputs": [
        {
          "output_type": "execute_result",
          "data": {
            "text/plain": [
              "((25000,), (25000,), (25000,))"
            ]
          },
          "metadata": {},
          "execution_count": 6
        }
      ]
    },
    {
      "cell_type": "code",
      "source": [
        "max_len = 500\n",
        "X_train = pad_sequences(X_train, maxlen=max_len)\n",
        "X_test = pad_sequences(X_test, maxlen=max_len)\n",
        "X_train.shape, X_test.shape"
      ],
      "metadata": {
        "colab": {
          "base_uri": "https://localhost:8080/"
        },
        "id": "f3yor0vwqb61",
        "outputId": "26c0f131-844a-4aa3-b672-bd57cc4ce6dc"
      },
      "execution_count": 7,
      "outputs": [
        {
          "output_type": "execute_result",
          "data": {
            "text/plain": [
              "((25000, 500), (25000, 500))"
            ]
          },
          "metadata": {},
          "execution_count": 7
        }
      ]
    },
    {
      "cell_type": "code",
      "source": [
        "from sklearn.model_selection import train_test_split\n",
        "X_test, X_valid, y_test, y_valid = train_test_split(\n",
        "    X_test, y_test, stratify=y_test, test_size=0.4, random_state=seed\n",
        ")\n",
        "X_test.shape, X_valid.shape, y_test.shape, y_valid.shape"
      ],
      "metadata": {
        "colab": {
          "base_uri": "https://localhost:8080/"
        },
        "id": "AxHdL8pIrXf8",
        "outputId": "97038408-c55a-43e2-827f-5b979655aec0"
      },
      "execution_count": 8,
      "outputs": [
        {
          "output_type": "execute_result",
          "data": {
            "text/plain": [
              "((15000, 500), (10000, 500), (15000,), (10000,))"
            ]
          },
          "metadata": {},
          "execution_count": 8
        }
      ]
    },
    {
      "cell_type": "markdown",
      "source": [
        "- Case 1) LSTM\n",
        "    - embedding_dim: 100\n",
        "    - hidden_units: 128"
      ],
      "metadata": {
        "id": "vfQ1M1uuryVY"
      }
    },
    {
      "cell_type": "code",
      "source": [
        "model1 = Sequential([\n",
        "    Embedding(10000, 100, input_length=max_len),\n",
        "    LSTM(128),\n",
        "    Dense(1, activation='sigmoid')\n",
        "])\n",
        "model1.summary()"
      ],
      "metadata": {
        "colab": {
          "base_uri": "https://localhost:8080/"
        },
        "id": "pxSmrb63rwnS",
        "outputId": "fc162507-fd2e-4f2d-f72b-c8db02f22c04"
      },
      "execution_count": 9,
      "outputs": [
        {
          "output_type": "stream",
          "name": "stdout",
          "text": [
            "Model: \"sequential\"\n",
            "_________________________________________________________________\n",
            " Layer (type)                Output Shape              Param #   \n",
            "=================================================================\n",
            " embedding (Embedding)       (None, 500, 100)          1000000   \n",
            "                                                                 \n",
            " lstm (LSTM)                 (None, 128)               117248    \n",
            "                                                                 \n",
            " dense (Dense)               (None, 1)                 129       \n",
            "                                                                 \n",
            "=================================================================\n",
            "Total params: 1,117,377\n",
            "Trainable params: 1,117,377\n",
            "Non-trainable params: 0\n",
            "_________________________________________________________________\n"
          ]
        }
      ]
    },
    {
      "cell_type": "code",
      "source": [
        "model1.compile('adam', 'binary_crossentropy', ['accuracy'])\n",
        "\n",
        "model_path = 'best-imdb-lstm.h5'\n",
        "mc = ModelCheckpoint(model_path, save_best_only=True, verbose=1)\n",
        "es = EarlyStopping(patience=5)"
      ],
      "metadata": {
        "id": "C82G4R-0sH0Y"
      },
      "execution_count": 10,
      "outputs": []
    },
    {
      "cell_type": "code",
      "source": [
        "hist1 = model1.fit(\n",
        "    X_train, y_train, epochs=30, batch_size=64,\n",
        "    validation_data=[X_valid, y_valid],\n",
        "    callbacks=[mc,es]\n",
        ")"
      ],
      "metadata": {
        "colab": {
          "base_uri": "https://localhost:8080/"
        },
        "id": "XD7_mEqOsbd9",
        "outputId": "916b99c3-3333-48d0-ec94-af20440964bd"
      },
      "execution_count": 11,
      "outputs": [
        {
          "output_type": "stream",
          "name": "stdout",
          "text": [
            "Epoch 1/30\n",
            "391/391 [==============================] - ETA: 0s - loss: 0.4869 - accuracy: 0.7538\n",
            "Epoch 00001: val_loss improved from inf to 0.38435, saving model to best-imdb-lstm.h5\n",
            "391/391 [==============================] - 651s 2s/step - loss: 0.4869 - accuracy: 0.7538 - val_loss: 0.3843 - val_accuracy: 0.8335\n",
            "Epoch 2/30\n",
            "391/391 [==============================] - ETA: 0s - loss: 0.2847 - accuracy: 0.8888\n",
            "Epoch 00002: val_loss improved from 0.38435 to 0.33613, saving model to best-imdb-lstm.h5\n",
            "391/391 [==============================] - 469s 1s/step - loss: 0.2847 - accuracy: 0.8888 - val_loss: 0.3361 - val_accuracy: 0.8569\n",
            "Epoch 3/30\n",
            "391/391 [==============================] - ETA: 0s - loss: 0.2287 - accuracy: 0.9117\n",
            "Epoch 00003: val_loss improved from 0.33613 to 0.32357, saving model to best-imdb-lstm.h5\n",
            "391/391 [==============================] - 467s 1s/step - loss: 0.2287 - accuracy: 0.9117 - val_loss: 0.3236 - val_accuracy: 0.8642\n",
            "Epoch 4/30\n",
            "391/391 [==============================] - ETA: 0s - loss: 0.1667 - accuracy: 0.9405\n",
            "Epoch 00004: val_loss did not improve from 0.32357\n",
            "391/391 [==============================] - 471s 1s/step - loss: 0.1667 - accuracy: 0.9405 - val_loss: 0.3594 - val_accuracy: 0.8649\n",
            "Epoch 5/30\n",
            "391/391 [==============================] - ETA: 0s - loss: 0.1349 - accuracy: 0.9520\n",
            "Epoch 00005: val_loss did not improve from 0.32357\n",
            "391/391 [==============================] - 468s 1s/step - loss: 0.1349 - accuracy: 0.9520 - val_loss: 0.3953 - val_accuracy: 0.8629\n",
            "Epoch 6/30\n",
            "391/391 [==============================] - ETA: 0s - loss: 0.1085 - accuracy: 0.9617\n",
            "Epoch 00006: val_loss did not improve from 0.32357\n",
            "391/391 [==============================] - 465s 1s/step - loss: 0.1085 - accuracy: 0.9617 - val_loss: 0.4411 - val_accuracy: 0.8542\n",
            "Epoch 7/30\n",
            "391/391 [==============================] - ETA: 0s - loss: 0.1442 - accuracy: 0.9445\n",
            "Epoch 00007: val_loss did not improve from 0.32357\n",
            "391/391 [==============================] - 463s 1s/step - loss: 0.1442 - accuracy: 0.9445 - val_loss: 0.4220 - val_accuracy: 0.8351\n",
            "Epoch 8/30\n",
            "391/391 [==============================] - ETA: 0s - loss: 0.0875 - accuracy: 0.9714\n",
            "Epoch 00008: val_loss did not improve from 0.32357\n",
            "391/391 [==============================] - 466s 1s/step - loss: 0.0875 - accuracy: 0.9714 - val_loss: 0.5228 - val_accuracy: 0.8546\n"
          ]
        }
      ]
    },
    {
      "cell_type": "code",
      "source": [
        "best_model = load_model(model_path)\n",
        "best_model.evaluate(X_test, y_test)"
      ],
      "metadata": {
        "colab": {
          "base_uri": "https://localhost:8080/"
        },
        "id": "BfaP5kePskzm",
        "outputId": "b6b383ed-ddfe-4856-b201-0d1a7caa4a5c"
      },
      "execution_count": 12,
      "outputs": [
        {
          "output_type": "stream",
          "name": "stdout",
          "text": [
            "469/469 [==============================] - 70s 146ms/step - loss: 0.3280 - accuracy: 0.8659\n"
          ]
        },
        {
          "output_type": "execute_result",
          "data": {
            "text/plain": [
              "[0.3279523253440857, 0.865933358669281]"
            ]
          },
          "metadata": {},
          "execution_count": 12
        }
      ]
    }
  ]
}