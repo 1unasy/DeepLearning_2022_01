{
  "cells": [
    {
      "cell_type": "markdown",
      "metadata": {
        "id": "HjmC-Wx75kFq"
      },
      "source": [
        "# IMDB 영화 리뷰 감성 분석 - Conv1D"
      ]
    },
    {
      "cell_type": "code",
      "execution_count": 1,
      "metadata": {
        "id": "DKwvWiGL5eae"
      },
      "outputs": [],
      "source": [
        "import numpy as np\n",
        "import matplotlib.pyplot as plt\n",
        "from tensorflow.keras.datasets import imdb\n",
        "import warnings\n",
        "warnings.filterwarnings('ignore')"
      ]
    },
    {
      "cell_type": "markdown",
      "metadata": {
        "id": "tkY9WDAi6E81"
      },
      "source": [
        "### Conv1D로 IMDB 리뷰 감성 분석\n",
        "- 단어 빈도수: 10,000 (총 88,584)\n",
        "- 문장의 단어수: 500 (최대 2,494)\n",
        "- test data 중 40%(10,000개)는 검증용으로"
      ]
    },
    {
      "cell_type": "code",
      "execution_count": 2,
      "metadata": {
        "id": "1zTC1hNs6EEM"
      },
      "outputs": [],
      "source": [
        "import tensorflow as tf\n",
        "seed = 2022\n",
        "np.random.seed(seed)\n",
        "tf.random.set_seed(seed)"
      ]
    },
    {
      "cell_type": "code",
      "execution_count": 3,
      "metadata": {
        "id": "ppqG__G_6Ymk"
      },
      "outputs": [],
      "source": [
        "from tensorflow.keras.models import Sequential, load_model\n",
        "from tensorflow.keras.layers import Embedding, Dense, Dropout\n",
        "from tensorflow.keras.layers import Conv1D, MaxPooling1D, GlobalMaxPooling1D\n",
        "from tensorflow.keras.preprocessing.sequence import pad_sequences\n",
        "from tensorflow.keras.callbacks import ModelCheckpoint, EarlyStopping"
      ]
    },
    {
      "cell_type": "code",
      "execution_count": 4,
      "metadata": {
        "id": "NkMjOIA-6wmJ",
        "colab": {
          "base_uri": "https://localhost:8080/"
        },
        "outputId": "1773fb32-68a3-4855-c71b-7e9d6d80bc94"
      },
      "outputs": [
        {
          "output_type": "stream",
          "name": "stdout",
          "text": [
            "Downloading data from https://storage.googleapis.com/tensorflow/tf-keras-datasets/imdb.npz\n",
            "17465344/17464789 [==============================] - 0s 0us/step\n",
            "17473536/17464789 [==============================] - 0s 0us/step\n"
          ]
        },
        {
          "output_type": "execute_result",
          "data": {
            "text/plain": [
              "((25000,), (25000,), (25000,))"
            ]
          },
          "metadata": {},
          "execution_count": 4
        }
      ],
      "source": [
        "(X_train, y_train), (X_test, y_test) = imdb.load_data(num_words=10000)\n",
        "X_train.shape, X_test.shape, y_train.shape"
      ]
    },
    {
      "cell_type": "code",
      "source": [
        "max_len = 500\n",
        "X_train = pad_sequences(X_train, maxlen=max_len)\n",
        "X_test = pad_sequences(X_test, maxlen=max_len)\n",
        "X_train.shape, X_test.shape"
      ],
      "metadata": {
        "colab": {
          "base_uri": "https://localhost:8080/"
        },
        "id": "OUQHYXaJ7vLx",
        "outputId": "179c9470-6c86-4419-a4a3-11bf6cdd19b9"
      },
      "execution_count": 5,
      "outputs": [
        {
          "output_type": "execute_result",
          "data": {
            "text/plain": [
              "((25000, 500), (25000, 500))"
            ]
          },
          "metadata": {},
          "execution_count": 5
        }
      ]
    },
    {
      "cell_type": "code",
      "source": [
        "from sklearn.model_selection import train_test_split\n",
        "X_test, X_valid, y_test, y_valid = train_test_split(\n",
        "    X_test, y_test, stratify=y_test, test_size=0.4, random_state=seed\n",
        ")\n",
        "X_test.shape, X_valid.shape, y_test.shape, y_valid.shape"
      ],
      "metadata": {
        "colab": {
          "base_uri": "https://localhost:8080/"
        },
        "id": "twsHFFct8Awm",
        "outputId": "e1ccd963-cf9a-4dec-9f45-0c7477c3d984"
      },
      "execution_count": 6,
      "outputs": [
        {
          "output_type": "execute_result",
          "data": {
            "text/plain": [
              "((15000, 500), (10000, 500), (15000,), (10000,))"
            ]
          },
          "metadata": {},
          "execution_count": 6
        }
      ]
    },
    {
      "cell_type": "markdown",
      "source": [
        "### Case 1) Conv1D x 2, MaxPooling1D x 2, Dropout, GlobalMaxPooling1D\n",
        "- embedding dim: 100"
      ],
      "metadata": {
        "id": "ZZ6Q69Fs8g2L"
      }
    },
    {
      "cell_type": "code",
      "source": [
        "model1 = Sequential([\n",
        "    Embedding(10000, 100, input_length=max_len),\n",
        "    Dropout(0.5),\n",
        "    Conv1D(64, 7, activation='relu'),\n",
        "    MaxPooling1D(7),\n",
        "    Conv1D(64, 5, activation='relu'),\n",
        "    MaxPooling1D(5),\n",
        "    GlobalMaxPooling1D(),\n",
        "    Dense(1, activation='sigmoid')\n",
        "])\n",
        "model1.summary()"
      ],
      "metadata": {
        "colab": {
          "base_uri": "https://localhost:8080/"
        },
        "id": "CCIBKVjS8giq",
        "outputId": "f1cb0593-9b50-48f1-df5e-eb6f048926a2"
      },
      "execution_count": 9,
      "outputs": [
        {
          "output_type": "stream",
          "name": "stdout",
          "text": [
            "Model: \"sequential_1\"\n",
            "_________________________________________________________________\n",
            " Layer (type)                Output Shape              Param #   \n",
            "=================================================================\n",
            " embedding_1 (Embedding)     (None, 500, 100)          1000000   \n",
            "                                                                 \n",
            " dropout_1 (Dropout)         (None, 500, 100)          0         \n",
            "                                                                 \n",
            " conv1d_2 (Conv1D)           (None, 494, 64)           44864     \n",
            "                                                                 \n",
            " max_pooling1d_2 (MaxPooling  (None, 70, 64)           0         \n",
            " 1D)                                                             \n",
            "                                                                 \n",
            " conv1d_3 (Conv1D)           (None, 66, 64)            20544     \n",
            "                                                                 \n",
            " max_pooling1d_3 (MaxPooling  (None, 13, 64)           0         \n",
            " 1D)                                                             \n",
            "                                                                 \n",
            " global_max_pooling1d_1 (Glo  (None, 64)               0         \n",
            " balMaxPooling1D)                                                \n",
            "                                                                 \n",
            " dense_1 (Dense)             (None, 1)                 65        \n",
            "                                                                 \n",
            "=================================================================\n",
            "Total params: 1,065,473\n",
            "Trainable params: 1,065,473\n",
            "Non-trainable params: 0\n",
            "_________________________________________________________________\n"
          ]
        }
      ]
    },
    {
      "cell_type": "code",
      "source": [
        "model1.compile('adam', 'binary_crossentropy', ['accuracy'])\n",
        "\n",
        "model_path = 'best-imdb-conv1d.h5'\n",
        "mc = ModelCheckpoint(model_path, save_best_only=True, verbose=1)\n",
        "es = EarlyStopping(patience=5)"
      ],
      "metadata": {
        "id": "z9oUHQOn9h1f"
      },
      "execution_count": 10,
      "outputs": []
    },
    {
      "cell_type": "code",
      "source": [
        "hist1 = model1.fit(\n",
        "    X_train, y_train, epochs=30, batch_size=128,\n",
        "    validation_data=[X_valid, y_valid],\n",
        "    callbacks=[mc,es]\n",
        ")"
      ],
      "metadata": {
        "colab": {
          "base_uri": "https://localhost:8080/"
        },
        "id": "CMGNrYzK91WO",
        "outputId": "233e3061-a4fb-4953-c245-15d8b9b01e30"
      },
      "execution_count": 11,
      "outputs": [
        {
          "output_type": "stream",
          "name": "stdout",
          "text": [
            "Epoch 1/30\n",
            "196/196 [==============================] - ETA: 0s - loss: 0.5294 - accuracy: 0.7134\n",
            "Epoch 00001: val_loss improved from inf to 0.36638, saving model to best-imdb-conv1d.h5\n",
            "196/196 [==============================] - 16s 20ms/step - loss: 0.5294 - accuracy: 0.7134 - val_loss: 0.3664 - val_accuracy: 0.8371\n",
            "Epoch 2/30\n",
            "193/196 [============================>.] - ETA: 0s - loss: 0.2768 - accuracy: 0.8876\n",
            "Epoch 00002: val_loss improved from 0.36638 to 0.31601, saving model to best-imdb-conv1d.h5\n",
            "196/196 [==============================] - 4s 19ms/step - loss: 0.2769 - accuracy: 0.8876 - val_loss: 0.3160 - val_accuracy: 0.8649\n",
            "Epoch 3/30\n",
            "193/196 [============================>.] - ETA: 0s - loss: 0.2034 - accuracy: 0.9220\n",
            "Epoch 00003: val_loss did not improve from 0.31601\n",
            "196/196 [==============================] - 4s 18ms/step - loss: 0.2034 - accuracy: 0.9218 - val_loss: 0.3324 - val_accuracy: 0.8634\n",
            "Epoch 4/30\n",
            "196/196 [==============================] - ETA: 0s - loss: 0.1493 - accuracy: 0.9446\n",
            "Epoch 00004: val_loss did not improve from 0.31601\n",
            "196/196 [==============================] - 3s 17ms/step - loss: 0.1493 - accuracy: 0.9446 - val_loss: 0.3778 - val_accuracy: 0.8551\n",
            "Epoch 5/30\n",
            "193/196 [============================>.] - ETA: 0s - loss: 0.1130 - accuracy: 0.9596\n",
            "Epoch 00005: val_loss did not improve from 0.31601\n",
            "196/196 [==============================] - 4s 18ms/step - loss: 0.1131 - accuracy: 0.9597 - val_loss: 0.4313 - val_accuracy: 0.8530\n",
            "Epoch 6/30\n",
            "195/196 [============================>.] - ETA: 0s - loss: 0.0821 - accuracy: 0.9704\n",
            "Epoch 00006: val_loss did not improve from 0.31601\n",
            "196/196 [==============================] - 3s 18ms/step - loss: 0.0821 - accuracy: 0.9703 - val_loss: 0.4872 - val_accuracy: 0.8528\n",
            "Epoch 7/30\n",
            "194/196 [============================>.] - ETA: 0s - loss: 0.0601 - accuracy: 0.9795\n",
            "Epoch 00007: val_loss did not improve from 0.31601\n",
            "196/196 [==============================] - 4s 18ms/step - loss: 0.0603 - accuracy: 0.9795 - val_loss: 0.5672 - val_accuracy: 0.8475\n"
          ]
        }
      ]
    },
    {
      "cell_type": "code",
      "source": [
        "best_model = load_model(model_path)\n",
        "best_model.evaluate(X_test, y_test)"
      ],
      "metadata": {
        "colab": {
          "base_uri": "https://localhost:8080/"
        },
        "id": "oyOlNm8m-Iyy",
        "outputId": "41ce06a3-8d3c-4369-df81-5372d62aeff7"
      },
      "execution_count": 12,
      "outputs": [
        {
          "output_type": "stream",
          "name": "stdout",
          "text": [
            "469/469 [==============================] - 2s 4ms/step - loss: 0.3143 - accuracy: 0.8660\n"
          ]
        },
        {
          "output_type": "execute_result",
          "data": {
            "text/plain": [
              "[0.31431230902671814, 0.8659999966621399]"
            ]
          },
          "metadata": {},
          "execution_count": 12
        }
      ]
    },
    {
      "cell_type": "markdown",
      "source": [
        "### Case 2) Conv1D + LSTM"
      ],
      "metadata": {
        "id": "Pp9RefMp-St4"
      }
    },
    {
      "cell_type": "code",
      "source": [
        "from tensorflow.keras.layers import LSTM"
      ],
      "metadata": {
        "id": "nGnG26Sl-Vh2"
      },
      "execution_count": 14,
      "outputs": []
    },
    {
      "cell_type": "code",
      "source": [
        "model2 = Sequential([\n",
        "    Embedding(10000, 100, input_length=max_len),\n",
        "    Dropout(0.5),\n",
        "    Conv1D(64, 5, activation='relu'),\n",
        "    MaxPooling1D(4),\n",
        "    LSTM(100),\n",
        "    Dense(1, activation='sigmoid')\n",
        "])\n",
        "model2.summary()"
      ],
      "metadata": {
        "colab": {
          "base_uri": "https://localhost:8080/"
        },
        "id": "AhjHYewP-Y1M",
        "outputId": "9794bb2a-4d7d-4480-b3e5-c210e7398bde"
      },
      "execution_count": 15,
      "outputs": [
        {
          "output_type": "stream",
          "name": "stdout",
          "text": [
            "Model: \"sequential_2\"\n",
            "_________________________________________________________________\n",
            " Layer (type)                Output Shape              Param #   \n",
            "=================================================================\n",
            " embedding_3 (Embedding)     (None, 500, 100)          1000000   \n",
            "                                                                 \n",
            " dropout_3 (Dropout)         (None, 500, 100)          0         \n",
            "                                                                 \n",
            " conv1d_5 (Conv1D)           (None, 496, 64)           32064     \n",
            "                                                                 \n",
            " max_pooling1d_5 (MaxPooling  (None, 124, 64)          0         \n",
            " 1D)                                                             \n",
            "                                                                 \n",
            " lstm (LSTM)                 (None, 100)               66000     \n",
            "                                                                 \n",
            " dense_2 (Dense)             (None, 1)                 101       \n",
            "                                                                 \n",
            "=================================================================\n",
            "Total params: 1,098,165\n",
            "Trainable params: 1,098,165\n",
            "Non-trainable params: 0\n",
            "_________________________________________________________________\n"
          ]
        }
      ]
    },
    {
      "cell_type": "code",
      "source": [
        "model2.compile('adam', 'binary_crossentropy', ['accuracy'])\n",
        "\n",
        "model_path = 'best-imdb-conv1d-lstm.h5'\n",
        "mc = ModelCheckpoint(model_path, save_best_only=True, verbose=1)\n",
        "es = EarlyStopping(patience=5)"
      ],
      "metadata": {
        "id": "VHrg0o9v-YyB"
      },
      "execution_count": 16,
      "outputs": []
    },
    {
      "cell_type": "code",
      "source": [
        "hist2 = model2.fit(\n",
        "    X_train, y_train, epochs=30, batch_size=128, \n",
        "    validation_data=[X_valid, y_valid],\n",
        "    callbacks=[mc,es]\n",
        ")"
      ],
      "metadata": {
        "colab": {
          "base_uri": "https://localhost:8080/"
        },
        "id": "vld5PD8d-YsI",
        "outputId": "6362d750-952d-4f15-9686-8c73344dbe77"
      },
      "execution_count": 18,
      "outputs": [
        {
          "output_type": "stream",
          "name": "stdout",
          "text": [
            "Epoch 1/30\n",
            "195/196 [============================>.] - ETA: 0s - loss: 0.4288 - accuracy: 0.7814\n",
            "Epoch 00001: val_loss improved from inf to 0.29146, saving model to best-imdb-conv1d-lstm.h5\n",
            "196/196 [==============================] - 10s 29ms/step - loss: 0.4287 - accuracy: 0.7814 - val_loss: 0.2915 - val_accuracy: 0.8766\n",
            "Epoch 2/30\n",
            "195/196 [============================>.] - ETA: 0s - loss: 0.2151 - accuracy: 0.9178\n",
            "Epoch 00002: val_loss improved from 0.29146 to 0.27755, saving model to best-imdb-conv1d-lstm.h5\n",
            "196/196 [==============================] - 5s 26ms/step - loss: 0.2151 - accuracy: 0.9179 - val_loss: 0.2776 - val_accuracy: 0.8818\n",
            "Epoch 3/30\n",
            "196/196 [==============================] - ETA: 0s - loss: 0.1605 - accuracy: 0.9422\n",
            "Epoch 00003: val_loss did not improve from 0.27755\n",
            "196/196 [==============================] - 5s 25ms/step - loss: 0.1605 - accuracy: 0.9422 - val_loss: 0.3336 - val_accuracy: 0.8737\n",
            "Epoch 4/30\n",
            "196/196 [==============================] - ETA: 0s - loss: 0.1237 - accuracy: 0.9568\n",
            "Epoch 00004: val_loss did not improve from 0.27755\n",
            "196/196 [==============================] - 5s 25ms/step - loss: 0.1237 - accuracy: 0.9568 - val_loss: 0.3269 - val_accuracy: 0.8697\n",
            "Epoch 5/30\n",
            "195/196 [============================>.] - ETA: 0s - loss: 0.1048 - accuracy: 0.9625\n",
            "Epoch 00005: val_loss did not improve from 0.27755\n",
            "196/196 [==============================] - 5s 26ms/step - loss: 0.1049 - accuracy: 0.9625 - val_loss: 0.3639 - val_accuracy: 0.8748\n",
            "Epoch 6/30\n",
            "196/196 [==============================] - ETA: 0s - loss: 0.0809 - accuracy: 0.9719\n",
            "Epoch 00006: val_loss did not improve from 0.27755\n",
            "196/196 [==============================] - 5s 26ms/step - loss: 0.0809 - accuracy: 0.9719 - val_loss: 0.3947 - val_accuracy: 0.8731\n",
            "Epoch 7/30\n",
            "196/196 [==============================] - ETA: 0s - loss: 0.0625 - accuracy: 0.9797\n",
            "Epoch 00007: val_loss did not improve from 0.27755\n",
            "196/196 [==============================] - 5s 26ms/step - loss: 0.0625 - accuracy: 0.9797 - val_loss: 0.4373 - val_accuracy: 0.8715\n"
          ]
        }
      ]
    },
    {
      "cell_type": "code",
      "source": [
        "best_model = load_model(model_path)\n",
        "best_model.evaluate(X_test, y_test)"
      ],
      "metadata": {
        "colab": {
          "base_uri": "https://localhost:8080/"
        },
        "id": "6uxUIqJw-Ypk",
        "outputId": "1b7366b8-5dac-48f4-c98d-ab7a586eb8e0"
      },
      "execution_count": 19,
      "outputs": [
        {
          "output_type": "stream",
          "name": "stdout",
          "text": [
            "469/469 [==============================] - 4s 7ms/step - loss: 0.2778 - accuracy: 0.8843\n"
          ]
        },
        {
          "output_type": "execute_result",
          "data": {
            "text/plain": [
              "[0.27778348326683044, 0.8842666745185852]"
            ]
          },
          "metadata": {},
          "execution_count": 19
        }
      ]
    },
    {
      "cell_type": "markdown",
      "source": [
        "### Case 3) Conv1D + Dense"
      ],
      "metadata": {
        "id": "hDzitEr6_n2R"
      }
    },
    {
      "cell_type": "code",
      "source": [
        "model3 = Sequential([ \n",
        "    Embedding(10000, 100, input_length=max_len),\n",
        "    Dropout(0.5),\n",
        "    Conv1D(64, 5, activation='relu'),\n",
        "    MaxPooling1D(4),\n",
        "    GlobalMaxPooling1D(),\n",
        "    Dense(100, activation='relu'),  \n",
        "    Dense(1, activation='sigmoid')\n",
        "])\n",
        "model3.summary()"
      ],
      "metadata": {
        "colab": {
          "base_uri": "https://localhost:8080/"
        },
        "id": "NKZ-E4OI_qXr",
        "outputId": "bacf2020-72b8-4e2f-8827-bbaf55b840ed"
      },
      "execution_count": 20,
      "outputs": [
        {
          "output_type": "stream",
          "name": "stdout",
          "text": [
            "Model: \"sequential_3\"\n",
            "_________________________________________________________________\n",
            " Layer (type)                Output Shape              Param #   \n",
            "=================================================================\n",
            " embedding_4 (Embedding)     (None, 500, 100)          1000000   \n",
            "                                                                 \n",
            " dropout_4 (Dropout)         (None, 500, 100)          0         \n",
            "                                                                 \n",
            " conv1d_6 (Conv1D)           (None, 496, 64)           32064     \n",
            "                                                                 \n",
            " max_pooling1d_6 (MaxPooling  (None, 124, 64)          0         \n",
            " 1D)                                                             \n",
            "                                                                 \n",
            " global_max_pooling1d_2 (Glo  (None, 64)               0         \n",
            " balMaxPooling1D)                                                \n",
            "                                                                 \n",
            " dense_3 (Dense)             (None, 100)               6500      \n",
            "                                                                 \n",
            " dense_4 (Dense)             (None, 1)                 101       \n",
            "                                                                 \n",
            "=================================================================\n",
            "Total params: 1,038,665\n",
            "Trainable params: 1,038,665\n",
            "Non-trainable params: 0\n",
            "_________________________________________________________________\n"
          ]
        }
      ]
    },
    {
      "cell_type": "code",
      "source": [
        "model3.compile('adam', 'binary_crossentropy', ['accuracy'])\n",
        "\n",
        "model_path = 'best-imdb-conv1d-fcn.h5'\n",
        "mc = ModelCheckpoint(model_path, save_best_only=True, verbose=1)\n",
        "es = EarlyStopping(patience=5)"
      ],
      "metadata": {
        "id": "0rTquYJG_0Pg"
      },
      "execution_count": 21,
      "outputs": []
    },
    {
      "cell_type": "code",
      "source": [
        "hist3 = model3.fit(\n",
        "    X_train, y_train, epochs=30, batch_size=128, \n",
        "    validation_data=[X_valid, y_valid],\n",
        "    callbacks=[mc,es]\n",
        ")"
      ],
      "metadata": {
        "colab": {
          "base_uri": "https://localhost:8080/"
        },
        "id": "iVW4shYM_5ty",
        "outputId": "a2acc1c3-2d87-4f8b-8699-5a2f743b19fb"
      },
      "execution_count": 22,
      "outputs": [
        {
          "output_type": "stream",
          "name": "stdout",
          "text": [
            "Epoch 1/30\n",
            "192/196 [============================>.] - ETA: 0s - loss: 0.5607 - accuracy: 0.6928\n",
            "Epoch 00001: val_loss improved from inf to 0.35076, saving model to best-imdb-conv1d-fcn.h5\n",
            "196/196 [==============================] - 4s 18ms/step - loss: 0.5583 - accuracy: 0.6943 - val_loss: 0.3508 - val_accuracy: 0.8476\n",
            "Epoch 2/30\n",
            "193/196 [============================>.] - ETA: 0s - loss: 0.2912 - accuracy: 0.8766\n",
            "Epoch 00002: val_loss improved from 0.35076 to 0.27099, saving model to best-imdb-conv1d-fcn.h5\n",
            "196/196 [==============================] - 3s 17ms/step - loss: 0.2913 - accuracy: 0.8765 - val_loss: 0.2710 - val_accuracy: 0.8849\n",
            "Epoch 3/30\n",
            "195/196 [============================>.] - ETA: 0s - loss: 0.1994 - accuracy: 0.9219\n",
            "Epoch 00003: val_loss improved from 0.27099 to 0.25656, saving model to best-imdb-conv1d-fcn.h5\n",
            "196/196 [==============================] - 3s 17ms/step - loss: 0.1999 - accuracy: 0.9217 - val_loss: 0.2566 - val_accuracy: 0.8952\n",
            "Epoch 4/30\n",
            "193/196 [============================>.] - ETA: 0s - loss: 0.1488 - accuracy: 0.9447\n",
            "Epoch 00004: val_loss did not improve from 0.25656\n",
            "196/196 [==============================] - 3s 16ms/step - loss: 0.1484 - accuracy: 0.9449 - val_loss: 0.2618 - val_accuracy: 0.8944\n",
            "Epoch 5/30\n",
            "192/196 [============================>.] - ETA: 0s - loss: 0.1122 - accuracy: 0.9596\n",
            "Epoch 00005: val_loss did not improve from 0.25656\n",
            "196/196 [==============================] - 3s 17ms/step - loss: 0.1123 - accuracy: 0.9594 - val_loss: 0.2860 - val_accuracy: 0.8956\n",
            "Epoch 6/30\n",
            "193/196 [============================>.] - ETA: 0s - loss: 0.0772 - accuracy: 0.9743\n",
            "Epoch 00006: val_loss did not improve from 0.25656\n",
            "196/196 [==============================] - 3s 17ms/step - loss: 0.0772 - accuracy: 0.9743 - val_loss: 0.3022 - val_accuracy: 0.8932\n",
            "Epoch 7/30\n",
            "194/196 [============================>.] - ETA: 0s - loss: 0.0584 - accuracy: 0.9809\n",
            "Epoch 00007: val_loss did not improve from 0.25656\n",
            "196/196 [==============================] - 3s 17ms/step - loss: 0.0586 - accuracy: 0.9808 - val_loss: 0.3229 - val_accuracy: 0.8912\n",
            "Epoch 8/30\n",
            "194/196 [============================>.] - ETA: 0s - loss: 0.0458 - accuracy: 0.9840\n",
            "Epoch 00008: val_loss did not improve from 0.25656\n",
            "196/196 [==============================] - 3s 15ms/step - loss: 0.0462 - accuracy: 0.9839 - val_loss: 0.3595 - val_accuracy: 0.8909\n"
          ]
        }
      ]
    },
    {
      "cell_type": "code",
      "source": [
        "best_model = load_model(model_path)\n",
        "best_model.evaluate(X_test, y_test)"
      ],
      "metadata": {
        "colab": {
          "base_uri": "https://localhost:8080/"
        },
        "id": "p1cqYGJu_7pd",
        "outputId": "2fa55c98-5558-45c8-d998-ced9453adf01"
      },
      "execution_count": 23,
      "outputs": [
        {
          "output_type": "stream",
          "name": "stdout",
          "text": [
            "469/469 [==============================] - 1s 3ms/step - loss: 0.2618 - accuracy: 0.8925\n"
          ]
        },
        {
          "output_type": "execute_result",
          "data": {
            "text/plain": [
              "[0.26179200410842896, 0.8925333619117737]"
            ]
          },
          "metadata": {},
          "execution_count": 23
        }
      ]
    }
  ],
  "metadata": {
    "accelerator": "GPU",
    "colab": {
      "name": "52.IMDB감성분석_Conv1D.ipynb",
      "provenance": [],
      "collapsed_sections": []
    },
    "kernelspec": {
      "display_name": "Python 3",
      "name": "python3"
    },
    "language_info": {
      "name": "python"
    }
  },
  "nbformat": 4,
  "nbformat_minor": 0
}