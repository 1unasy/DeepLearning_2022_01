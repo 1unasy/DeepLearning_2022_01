{
  "nbformat": 4,
  "nbformat_minor": 0,
  "metadata": {
    "colab": {
      "name": "21.Wrod2Vec_Eng.ipynb",
      "provenance": [],
      "collapsed_sections": []
    },
    "kernelspec": {
      "name": "python3",
      "display_name": "Python 3"
    },
    "language_info": {
      "name": "python"
    }
  },
  "cells": [
    {
      "cell_type": "markdown",
      "source": [
        "# 영어 Word2Vec 만들기"
      ],
      "metadata": {
        "id": "dGEOQyWvwPF8"
      }
    },
    {
      "cell_type": "code",
      "execution_count": 1,
      "metadata": {
        "colab": {
          "base_uri": "https://localhost:8080/"
        },
        "id": "muE1Y53AwA2F",
        "outputId": "bd2379c7-c44f-4381-fd37-3eaf2e12b9ce"
      },
      "outputs": [
        {
          "output_type": "stream",
          "name": "stdout",
          "text": [
            "[nltk_data] Downloading package punkt to /root/nltk_data...\n",
            "[nltk_data]   Unzipping tokenizers/punkt.zip.\n"
          ]
        },
        {
          "output_type": "execute_result",
          "data": {
            "text/plain": [
              "True"
            ]
          },
          "metadata": {},
          "execution_count": 1
        }
      ],
      "source": [
        "import nltk\n",
        "nltk.download('punkt')"
      ]
    },
    {
      "cell_type": "code",
      "source": [
        "import re, zipfile\n",
        "from urllib.request import urlretrieve  # 인터넷에서 데이터 가져올 때 사용\n",
        "from lxml import etree  # XML 파일 들고올 때 XML parser 역할\n",
        "from nltk.tokenize import word_tokenize, sent_tokenize"
      ],
      "metadata": {
        "id": "7xBefFZOwaJk"
      },
      "execution_count": 2,
      "outputs": []
    },
    {
      "cell_type": "markdown",
      "source": [
        "### 훈련 데이터 이해하기"
      ],
      "metadata": {
        "id": "_8O7NdHFw-RI"
      }
    },
    {
      "cell_type": "code",
      "source": [
        "urlretrieve(\"https://raw.githubusercontent.com/ukairia777/tensorflow-nlp-tutorial/main/09.%20Word%20Embedding/dataset/ted_en-20160408.xml\", filename=\"ted_en-20160408.xml\")"
      ],
      "metadata": {
        "colab": {
          "base_uri": "https://localhost:8080/"
        },
        "id": "x6UTwKU7w9c9",
        "outputId": "973c9965-545a-4199-f6a0-9c22ceb23c98"
      },
      "execution_count": 3,
      "outputs": [
        {
          "output_type": "execute_result",
          "data": {
            "text/plain": [
              "('ted_en-20160408.xml', <http.client.HTTPMessage at 0x7ff407d58910>)"
            ]
          },
          "metadata": {},
          "execution_count": 3
        }
      ]
    },
    {
      "cell_type": "code",
      "source": [
        "!ls -l ted*"
      ],
      "metadata": {
        "colab": {
          "base_uri": "https://localhost:8080/"
        },
        "id": "Jf8KoRJVw9ZL",
        "outputId": "54ba8cf1-8103-44d3-e64c-48c8db7db041"
      },
      "execution_count": 4,
      "outputs": [
        {
          "output_type": "stream",
          "name": "stdout",
          "text": [
            "-rw-r--r-- 1 root root 74533638 Jan 25 01:05 ted_en-20160408.xml\n"
          ]
        }
      ]
    },
    {
      "cell_type": "code",
      "source": [
        "!more ted*  # 파일 ted를 한 페이지씩 읽기"
      ],
      "metadata": {
        "colab": {
          "base_uri": "https://localhost:8080/"
        },
        "id": "DcUlZ-TZw9KI",
        "outputId": "911ce9a6-15db-40fa-c27f-627a6a2b8f74"
      },
      "execution_count": 5,
      "outputs": [
        {
          "output_type": "stream",
          "name": "stdout",
          "text": [
            "<?xml version=\"1.0\" encoding=\"UTF-8\"?>\n",
            "<xml language=\"en\"><file id=\"1\">\n",
            "  <head>\n",
            "    <url>http://www.ted.com/talks/knut_haanaes_two_reasons_companies_fail_and_ho\n",
            "w_to_avoid_them</url>\n",
            "    <pagesize>72832</pagesize>\n",
            "    <dtime>Fri Apr 01 00:57:03 CEST 2016</dtime>\n",
            "    <encoding>UTF-8</encoding>\n",
            "    <content-type>text/html; charset=utf-8</content-type>\n",
            "    <keywords>talks, business, creativity, curiosity, goal-setting, innovation, \n",
            "motivation, potential, success, work</keywords>\n",
            "    <speaker>Knut Haanaes</speaker>\n",
            "    <talkid>2470</talkid>\n",
            "    <videourl>http://download.ted.com/talks/KnutHaanaes_2015S.mp4</videourl>\n",
            "    <videopath>talks/KnutHaanaes_2015S.mp4</videopath>\n",
            "    <date>2015/06/30</date>\n",
            "    <title>Knut Haanaes: Two reasons companies fail -- and how to avoid them</ti\n",
            "tle>\n",
            "    <description>TED Talk Subtitles and Transcript: Is it possible to run a comp\n",
            "any and reinvent it at the same time? For business strategist Knut Haanaes, the \n",
            "ability to innovate after becoming successful is the mark of a great organizatio\n",
            "n. He shares insights on how to strike a balance between perfecting what we alre\n",
            "ady know and exploring totally new ideas -- and lays out how to avoid two major \n",
            "\u001b[K"
          ]
        }
      ]
    },
    {
      "cell_type": "markdown",
      "source": [
        "### 훈련 데이터 전처리 하기"
      ],
      "metadata": {
        "id": "zLH_rm-Jx3si"
      }
    },
    {
      "cell_type": "code",
      "source": [
        "targetXML = open('ted_en-20160408.xml', 'r', encoding='UTF8')   # r: read mode\n",
        "target_text = etree.parse(targetXML)"
      ],
      "metadata": {
        "id": "IOljRuSxxg-0"
      },
      "execution_count": 6,
      "outputs": []
    },
    {
      "cell_type": "code",
      "source": [
        "# xml 파일로부터 <content>와 </content> 사이의 내용만 가져온다.\n",
        "parse_text = '\\n'.join(target_text.xpath('//content/text()'))"
      ],
      "metadata": {
        "id": "GGlRucJ9yGuo"
      },
      "execution_count": 7,
      "outputs": []
    },
    {
      "cell_type": "code",
      "source": [
        "# 정규 표현식의 sub 모듈을 통해 content 중간에 등장하는 (Audio), (Laughter) 등의 배경음 부분을 제거.\n",
        "content_text = re.sub(r'\\([^)]*\\)', '', parse_text)"
      ],
      "metadata": {
        "id": "duKm5e39yUye"
      },
      "execution_count": 8,
      "outputs": []
    },
    {
      "cell_type": "code",
      "source": [
        "# 입력 코퍼스에 대해서 NLTK를 이용하여 문장 토큰화를 수행.\n",
        "sent_text = sent_tokenize(content_text)"
      ],
      "metadata": {
        "id": "QRxp2M7kyupA"
      },
      "execution_count": 9,
      "outputs": []
    },
    {
      "cell_type": "code",
      "source": [
        "# 각 문장에 대해서 구두점을 제거하고, 대문자를 소문자로 변환.\n",
        "normalized_text = []\n",
        "for string in sent_text:\n",
        "     tokens = re.sub(r\"[^a-z0-9]+\", \" \", string.lower())\n",
        "     normalized_text.append(tokens)"
      ],
      "metadata": {
        "id": "4X519YCoy1En"
      },
      "execution_count": 10,
      "outputs": []
    },
    {
      "cell_type": "code",
      "source": [
        "# 각 문장에 대해서 NLTK를 이용하여 단어 토큰화를 수행.\n",
        "result = [word_tokenize(sentence) for sentence in normalized_text]"
      ],
      "metadata": {
        "id": "x2tO_vIyzjw8"
      },
      "execution_count": 11,
      "outputs": []
    },
    {
      "cell_type": "code",
      "source": [
        "print(f'총 샘플의 개수 : {len(result):,d}')"
      ],
      "metadata": {
        "colab": {
          "base_uri": "https://localhost:8080/"
        },
        "id": "MSMJiPNlzvjQ",
        "outputId": "e947d11d-f55f-4623-ab43-7cfd686a9034"
      },
      "execution_count": 12,
      "outputs": [
        {
          "output_type": "stream",
          "name": "stdout",
          "text": [
            "총 샘플의 개수 : 273,424\n"
          ]
        }
      ]
    },
    {
      "cell_type": "code",
      "source": [
        "# 샘플 3개만 출력\n",
        "for line in result[:3]:\n",
        "    print(line)"
      ],
      "metadata": {
        "colab": {
          "base_uri": "https://localhost:8080/"
        },
        "id": "0eWNZ7nl0IKw",
        "outputId": "c9f50b3c-a2a8-4896-d9c5-5dd09af2e959"
      },
      "execution_count": 13,
      "outputs": [
        {
          "output_type": "stream",
          "name": "stdout",
          "text": [
            "['here', 'are', 'two', 'reasons', 'companies', 'fail', 'they', 'only', 'do', 'more', 'of', 'the', 'same', 'or', 'they', 'only', 'do', 'what', 's', 'new']\n",
            "['to', 'me', 'the', 'real', 'real', 'solution', 'to', 'quality', 'growth', 'is', 'figuring', 'out', 'the', 'balance', 'between', 'two', 'activities', 'exploration', 'and', 'exploitation']\n",
            "['both', 'are', 'necessary', 'but', 'it', 'can', 'be', 'too', 'much', 'of', 'a', 'good', 'thing']\n"
          ]
        }
      ]
    },
    {
      "cell_type": "markdown",
      "source": [
        "### Word2Vec 훈련시키기\n",
        "```\n",
        "- size = 워드 벡터의 특징 값. 즉, 임베딩 된 벡터의 차원.\n",
        "- window = 컨텍스트 윈도우 크기\n",
        "- min_count = 단어 최소 빈도 수 제한 (빈도가 적은 단어들은 학습X)\n",
        "- workers = 학습을 위한 프로세스 수\n",
        "- sg = 0은 CBOW, 1은 Skip-gram\n",
        "```"
      ],
      "metadata": {
        "id": "pSOmTF3I0ZvV"
      }
    },
    {
      "cell_type": "code",
      "source": [
        "from gensim.models import Word2Vec"
      ],
      "metadata": {
        "id": "mr7nNNdh0vtF"
      },
      "execution_count": 14,
      "outputs": []
    },
    {
      "cell_type": "code",
      "source": [
        "%time model = Word2Vec(sentences=result, size=100, window=5, min_count=5, workers=4, sg=0)"
      ],
      "metadata": {
        "colab": {
          "base_uri": "https://localhost:8080/"
        },
        "id": "-23klyH-0Q2E",
        "outputId": "a70ef107-a701-4f03-e857-493529110442"
      },
      "execution_count": 16,
      "outputs": [
        {
          "output_type": "stream",
          "name": "stdout",
          "text": [
            "CPU times: user 55.7 s, sys: 344 ms, total: 56.1 s\n",
            "Wall time: 32.6 s\n"
          ]
        }
      ]
    },
    {
      "cell_type": "code",
      "source": [
        "# man과 자주 나오는(similar) 단어 10개\n",
        "model.wv.most_similar(\"man\")"
      ],
      "metadata": {
        "colab": {
          "base_uri": "https://localhost:8080/"
        },
        "id": "PEdYl8U80-7J",
        "outputId": "1f8369f4-b5fa-4489-abd5-47880cf09fd6"
      },
      "execution_count": 17,
      "outputs": [
        {
          "output_type": "execute_result",
          "data": {
            "text/plain": [
              "[('woman', 0.8613834381103516),\n",
              " ('guy', 0.8104150295257568),\n",
              " ('boy', 0.7669243216514587),\n",
              " ('lady', 0.7571192383766174),\n",
              " ('girl', 0.7566179037094116),\n",
              " ('gentleman', 0.7340736985206604),\n",
              " ('kid', 0.7144956588745117),\n",
              " ('soldier', 0.7130098938941956),\n",
              " ('poet', 0.6631297469139099),\n",
              " ('friend', 0.6469630002975464)]"
            ]
          },
          "metadata": {},
          "execution_count": 17
        }
      ]
    },
    {
      "cell_type": "code",
      "source": [
        "# man - boy + girl --> woman \n",
        "model.wv.most_similar(positive=['man', 'girl'], negative=['boy'], topn=3)"
      ],
      "metadata": {
        "colab": {
          "base_uri": "https://localhost:8080/"
        },
        "id": "RPd2Kc7s1ggl",
        "outputId": "1731928c-c4fd-4e47-f0f8-cd41b74b6480"
      },
      "execution_count": 18,
      "outputs": [
        {
          "output_type": "execute_result",
          "data": {
            "text/plain": [
              "[('woman', 0.8671686053276062),\n",
              " ('lady', 0.7363710403442383),\n",
              " ('guy', 0.7307101488113403)]"
            ]
          },
          "metadata": {},
          "execution_count": 18
        }
      ]
    },
    {
      "cell_type": "markdown",
      "source": [
        "### 모델 저장 & 로드하기"
      ],
      "metadata": {
        "id": "wAFHRlhV2iGg"
      }
    },
    {
      "cell_type": "code",
      "source": [
        "model.wv.save_word2vec_format('eng_w2v') # 모델 저장"
      ],
      "metadata": {
        "id": "qIVBjTLE2MF6"
      },
      "execution_count": 19,
      "outputs": []
    },
    {
      "cell_type": "code",
      "source": [
        "!ls -l"
      ],
      "metadata": {
        "colab": {
          "base_uri": "https://localhost:8080/"
        },
        "id": "Uj8RdyMt2taY",
        "outputId": "6836ce55-80c1-445a-ff19-f2cd91b7d7d2"
      },
      "execution_count": 20,
      "outputs": [
        {
          "output_type": "stream",
          "name": "stdout",
          "text": [
            "total 97908\n",
            "-rw-r--r-- 1 root root 25717510 Jan 25 01:30 eng_w2v\n",
            "drwxr-xr-x 1 root root     4096 Jan  7 14:33 sample_data\n",
            "-rw-r--r-- 1 root root 74533638 Jan 25 01:05 ted_en-20160408.xml\n"
          ]
        }
      ]
    },
    {
      "cell_type": "code",
      "source": [
        "from gensim.models import KeyedVectors\n",
        "\n",
        "loaded_model = KeyedVectors.load_word2vec_format(\"eng_w2v\") # 모델 로드\n",
        "loaded_model.most_similar(\"man\")"
      ],
      "metadata": {
        "colab": {
          "base_uri": "https://localhost:8080/"
        },
        "id": "7uRU16HS2zw9",
        "outputId": "a763fdc9-fc27-4dfd-a543-6cd63ea7d053"
      },
      "execution_count": 21,
      "outputs": [
        {
          "output_type": "execute_result",
          "data": {
            "text/plain": [
              "[('woman', 0.8613834381103516),\n",
              " ('guy', 0.8104150295257568),\n",
              " ('boy', 0.7669243216514587),\n",
              " ('lady', 0.7571192383766174),\n",
              " ('girl', 0.7566179037094116),\n",
              " ('gentleman', 0.7340736985206604),\n",
              " ('kid', 0.7144956588745117),\n",
              " ('soldier', 0.7130098938941956),\n",
              " ('poet', 0.6631297469139099),\n",
              " ('friend', 0.6469630002975464)]"
            ]
          },
          "metadata": {},
          "execution_count": 21
        }
      ]
    }
  ]
}